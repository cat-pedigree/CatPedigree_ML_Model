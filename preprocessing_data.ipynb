{
 "cells": [
  {
   "cell_type": "code",
   "execution_count": 6,
   "id": "95bac6ec",
   "metadata": {},
   "outputs": [],
   "source": [
    "# Libraries\n",
    "import os\n",
    "import zipfile\n",
    "import shutil\n",
    "import random\n",
    "import matplotlib.pyplot as plt\n",
    "from shutil import copyfile\n",
    "from re import sub\n"
   ]
  },
  {
   "cell_type": "code",
   "execution_count": 16,
   "id": "ae9acee6",
   "metadata": {},
   "outputs": [
    {
     "name": "stdout",
     "output_type": "stream",
     "text": [
      "Below listed the Classes of cats:  \n",
      "\n",
      "Abyssinian has over 204 images\n",
      "Bengal has over 200 images\n",
      "Birman has over 200 images\n",
      "Bombay has over 200 images\n",
      "British Shorthair has over 200 images\n",
      "Egyptian Mau has over 200 images\n",
      "Maine Coon has over 200 images\n",
      "Persian has over 200 images\n",
      "Ragdoll has over 200 images\n",
      "Russian Blue has over 200 images\n",
      "Siamese has over 200 images\n",
      "Sphynx has over 200 images\n",
      "There are currently: 12 class available in the dataset.\n"
     ]
    }
   ],
   "source": [
    "sourcePath = \"../Robots_Datasets/\"\n",
    "print(\"Below listed the Classes of cats:  \\n\")\n",
    "\n",
    "folders = []\n",
    "for folder in os.listdir(sourcePath):\n",
    "    print(f\"{folder} has over {len(os.listdir(sourcePath + folder))} images\")\n",
    "    folders.append(folder)\n",
    "\n",
    "\n",
    "print(f\"There are currently: {len(folders)} class available in the dataset.\")"
   ]
  },
  {
   "cell_type": "code",
   "execution_count": 18,
   "id": "91505c17",
   "metadata": {},
   "outputs": [],
   "source": [
    "#root directory\n",
    "root_dir = \"../ROBOTSDATASET\"\n",
    "\n",
    "\n",
    "def text_preprocessing(title):\n",
    "    '''Processing text from the class to snake_case format for naming the class subset folder'''\n",
    "    return '_'.join(sub('([A-Z][a-z]+)', r' \\1',sub('([A-Z]+)', r' \\1',title.replace('-', ' '))).split()).lower()\n",
    "        \n",
    "\n",
    "def create_train_test_dirs(root_path, folders):\n",
    "\n",
    "    os.makedirs(os.path.join(root_path, 'training'))\n",
    "    os.makedirs(os.path.join(root_path, 'testing'))\n",
    "    \n",
    "    # training split dir\n",
    "    for folder in folders:\n",
    "        os.makedirs(os.path.join(root_path, f'training/{text_preprocessing(folder)}'))\n",
    "        \n",
    "    # test split dir\n",
    "    for folder in folders:\n",
    "        os.makedirs(os.path.join(root_path, f\"testing/{text_preprocessing(folder)}\"))\n",
    "    \n",
    "\n",
    "# calling the function to create directories split\n",
    "create_train_test_dirs(root_dir, folders)"
   ]
  },
  {
   "cell_type": "code",
   "execution_count": null,
   "id": "deae67e9",
   "metadata": {},
   "outputs": [],
   "source": []
  },
  {
   "cell_type": "code",
   "execution_count": 19,
   "id": "0105ad98",
   "metadata": {},
   "outputs": [],
   "source": [
    "# split_data\n",
    "def split_data(SOURCE, TRAINING, TESTING, SPLIT_SIZE):\n",
    "\n",
    "    files = []\n",
    "    for file_name in os.listdir(SOURCE):\n",
    "        file_path = SOURCE + \"/\" + file_name\n",
    "        if os.path.getsize(file_path):\n",
    "            files.append(file_name)\n",
    "        else:\n",
    "            print(f\"{file_name} is zero length, so ignoring.\")\n",
    "    split_point = int(SPLIT_SIZE * len(files))\n",
    "    shuffled_files = random.sample(files, len(files))\n",
    "    training = shuffled_files[:split_point]\n",
    "    testing = shuffled_files[split_point:]\n",
    "    for f_train in training:\n",
    "        copyfile((SOURCE + \"/\" + f_train) , (TRAINING + \"/\" + f_train))\n",
    "    for f_test in testing:\n",
    "        copyfile((SOURCE + \"/\" + f_test), (TESTING + \"/\" + f_test))\n",
    "\n"
   ]
  },
  {
   "cell_type": "code",
   "execution_count": 20,
   "id": "e4b0b166",
   "metadata": {},
   "outputs": [],
   "source": [
    "# Define paths\n",
    "DATASET_SOURCE_DIR = \"../Robots_Datasets/\"\n",
    "\n",
    "TRAINING_DIR = \"../ROBOTSDATASET/training/\"\n",
    "TESTING_DIR = \"../ROBOTSDATASET/testing/\"\n",
    "\n",
    "# Define proportion of images used for training\n",
    "split_size = .8\n",
    "\n",
    "# Run the function\n",
    "# NOTE: Messages about zero length images should be printed out\n",
    "for folder in folders:\n",
    "    TRAINING_CP_DIR = os.path.join(TRAINING_DIR, text_preprocessing(folder))\n",
    "    TESTING_CP_DIR = os.path.join(TESTING_DIR, text_preprocessing(folder))\n",
    "    split_data(os.path.join(DATASET_SOURCE_DIR, folder), TRAINING_CP_DIR, TESTING_CP_DIR, split_size)\n"
   ]
  },
  {
   "cell_type": "code",
   "execution_count": null,
   "id": "52aafe8e",
   "metadata": {},
   "outputs": [],
   "source": []
  }
 ],
 "metadata": {
  "kernelspec": {
   "display_name": "Python 3 (ipykernel)",
   "language": "python",
   "name": "python3"
  },
  "language_info": {
   "codemirror_mode": {
    "name": "ipython",
    "version": 3
   },
   "file_extension": ".py",
   "mimetype": "text/x-python",
   "name": "python",
   "nbconvert_exporter": "python",
   "pygments_lexer": "ipython3",
   "version": "3.9.7"
  }
 },
 "nbformat": 4,
 "nbformat_minor": 5
}
