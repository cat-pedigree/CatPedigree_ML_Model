{
 "cells": [
  {
   "cell_type": "code",
   "execution_count": 1,
   "id": "95bac6ec",
   "metadata": {},
   "outputs": [],
   "source": [
    "# Libraries\n",
    "import os\n",
    "import zipfile\n",
    "import shutil\n",
    "import matplotlib.pyplot as plt\n",
    "from shutil import copyfile\n"
   ]
  },
  {
   "cell_type": "code",
   "execution_count": 2,
   "id": "ae9acee6",
   "metadata": {},
   "outputs": [
    {
     "name": "stdout",
     "output_type": "stream",
     "text": [
      "Below listed the Classes of cats:  \n",
      "\n",
      "Abyssinian has over 225 images\n",
      "American Bobtail has over 919 images\n",
      "American Curl has over 139 images\n",
      "American Shorthair has over 4822 images\n",
      "Applehead Siamese has over 130 images\n",
      "Balinese has over 248 images\n",
      "Bengal has over 2344 images\n",
      "Birman has over 220 images\n",
      "Bombay has over 1719 images\n",
      "British Shorthair has over 553 images\n",
      "Burmese has over 335 images\n",
      "Calico has over 3345 images\n",
      "Chartreux has over 81 images\n",
      "Cornish Rex has over 159 images\n",
      "Devon Rex has over 112 images\n",
      "Dilute Calico has over 3121 images\n",
      "Dilute Tortoiseshell has over 3015 images\n",
      "Domestic Long Hair has over 4392 images\n",
      "Domestic Medium Hair has over 3721 images\n",
      "Domestic Short Hair has over 52105 images\n",
      "Egyptian Mau has over 300 images\n",
      "Exotic Shorthair has over 465 images\n",
      "Extra-Toes Cat - Hemingway Polydactyl has over 1154 images\n",
      "Havana has over 166 images\n",
      "Himalayan has over 1264 images\n",
      "Japanese Bobtail has over 125 images\n",
      "Korat has over 67 images\n",
      "Maine Coon has over 1378 images\n",
      "Manx has over 1991 images\n",
      "Munchkin has over 181 images\n",
      "Nebelung has over 144 images\n",
      "Norwegian Forest Cat has over 569 images\n",
      "Ocicat has over 117 images\n",
      "Oriental Short Hair has over 482 images\n",
      "Oriental Tabby has over 98 images\n",
      "Persian has over 3962 images\n",
      "Pixiebob has over 103 images\n",
      "Ragamuffin has over 116 images\n",
      "Ragdoll has over 2598 images\n",
      "Russian Blue has over 1848 images\n",
      "Scottish Fold has over 301 images\n",
      "Selkirk Rex has over 77 images\n",
      "Siamese has over 2096 images\n",
      "Siberian has over 156 images\n",
      "Silver has over 84 images\n",
      "Snowshoe has over 1597 images\n",
      "Sphynx - Hairless Cat has over 209 images\n",
      "Tabby has over 2866 images\n",
      "Tiger has over 2209 images\n",
      "Tonkinese has over 250 images\n",
      "Torbie has over 3309 images\n",
      "Tortoiseshell has over 3788 images\n",
      "Turkish Angora has over 648 images\n",
      "Turkish Van has over 807 images\n",
      "Tuxedo has over 3110 images\n",
      "There are currently: 55 class available in the dataset.\n"
     ]
    }
   ],
   "source": [
    "sourcePath = \"../DATA_CAT_PEDIGREE/\"\n",
    "print(\"Below listed the Classes of cats:  \\n\")\n",
    "\n",
    "folders = []\n",
    "for folder in os.listdir(sourcePath):\n",
    "    print(f\"{folder} has over {len(os.listdir(sourcePath + folder))} images\")\n",
    "    folders.append(folder)\n",
    "\n",
    "\n",
    "print(f\"There are currently: {len(folders)} class available in the dataset.\")"
   ]
  },
  {
   "cell_type": "code",
   "execution_count": 3,
   "id": "91505c17",
   "metadata": {},
   "outputs": [],
   "source": [
    "#root directory\n",
    "root_dir = \"../DATACATPEDIGREE\"\n",
    "\n",
    "\n",
    "def create_train_test_dirs(root_path):\n",
    "    os.makedirs(os.path.join(root_path, 'training'))\n",
    "    os.makedirs(os.path.join(root_path, 'testing'))\n",
    "    \n",
    "# create_train_test_dirs(root_dir)"
   ]
  },
  {
   "cell_type": "code",
   "execution_count": null,
   "id": "deae67e9",
   "metadata": {},
   "outputs": [],
   "source": []
  }
 ],
 "metadata": {
  "kernelspec": {
   "display_name": "Python 3 (ipykernel)",
   "language": "python",
   "name": "python3"
  },
  "language_info": {
   "codemirror_mode": {
    "name": "ipython",
    "version": 3
   },
   "file_extension": ".py",
   "mimetype": "text/x-python",
   "name": "python",
   "nbconvert_exporter": "python",
   "pygments_lexer": "ipython3",
   "version": "3.9.7"
  }
 },
 "nbformat": 4,
 "nbformat_minor": 5
}
