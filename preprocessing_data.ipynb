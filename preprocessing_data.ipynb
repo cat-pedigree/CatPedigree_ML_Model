{
 "cells": [
  {
   "cell_type": "code",
   "execution_count": 1,
   "id": "95bac6ec",
   "metadata": {},
   "outputs": [],
   "source": [
    "# Libraries\n",
    "import os\n",
    "import zipfile\n",
    "import shutil\n",
    "import random\n",
    "import matplotlib.pyplot as plt\n",
    "from shutil import copyfile\n",
    "from re import sub\n"
   ]
  },
  {
   "cell_type": "code",
   "execution_count": 4,
   "id": "ae9acee6",
   "metadata": {},
   "outputs": [
    {
     "name": "stdout",
     "output_type": "stream",
     "text": [
      "Below listed the Classes of cats:  \n",
      "\n",
      "Abyssinian has over 516 images\n",
      "Bengal has over 514 images\n",
      "Birman has over 514 images\n",
      "Bombay has over 526 images\n",
      "British Shorthair has over 400 images\n",
      "Calico has over 533 images\n",
      "Dilute Calico has over 414 images\n",
      "Domestic Long Hair has over 405 images\n",
      "Egyptian Mau has over 412 images\n",
      "Himalayan has over 437 images\n",
      "Maine Coon has over 512 images\n",
      "Persian has over 510 images\n",
      "Ragdoll has over 515 images\n",
      "Russian Blue has over 515 images\n",
      "Scottish Fold has over 368 images\n",
      "Siamese has over 338 images\n",
      "Sphynx has over 384 images\n",
      "Turkish Angora has over 593 images\n",
      "Tuxedo has over 507 images\n",
      "There are currently: 19 class available in the dataset.\n"
     ]
    }
   ],
   "source": [
    "sourcePath = \"../Robots_Datasets/\"\n",
    "print(\"Below listed the Classes of cats:  \\n\")\n",
    "\n",
    "folders = []\n",
    "for folder in os.listdir(sourcePath):\n",
    "    print(f\"{folder} has over {len(os.listdir(sourcePath + folder))} images\")\n",
    "    folders.append(folder)\n",
    "\n",
    "\n",
    "print(f\"There are currently: {len(folders)} class available in the dataset.\")"
   ]
  },
  {
   "cell_type": "markdown",
   "id": "827ae04d",
   "metadata": {},
   "source": [
    "# Create Train Test Split Directories"
   ]
  },
  {
   "cell_type": "code",
   "execution_count": 5,
   "id": "91505c17",
   "metadata": {},
   "outputs": [],
   "source": [
    "#root directory\n",
    "root_dir = \"../ROBOTSDATASET\"\n",
    "\n",
    "\n",
    "def text_preprocessing(title):\n",
    "    '''Processing text from the class to snake_case format for naming the class subset folder'''\n",
    "    return '_'.join(sub('([A-Z][a-z]+)', r' \\1',sub('([A-Z]+)', r' \\1',title.replace('-', ' '))).split()).lower()\n",
    "        \n",
    "\n",
    "def create_train_test_dirs(root_path, folders):\n",
    "\n",
    "    os.makedirs(os.path.join(root_path, 'training'))\n",
    "    os.makedirs(os.path.join(root_path, 'testing'))\n",
    "    \n",
    "    # training split dir\n",
    "    for folder in folders:\n",
    "        os.makedirs(os.path.join(root_path, f'training/{text_preprocessing(folder)}'))\n",
    "        \n",
    "    # test split dir\n",
    "    for folder in folders:\n",
    "        os.makedirs(os.path.join(root_path, f\"testing/{text_preprocessing(folder)}\"))\n",
    "    \n",
    "\n",
    "# calling the function to create directories split\n",
    "create_train_test_dirs(root_dir, folders)"
   ]
  },
  {
   "cell_type": "markdown",
   "id": "108c05c2",
   "metadata": {},
   "source": [
    "# Split Datasets into Training and Test sets"
   ]
  },
  {
   "cell_type": "code",
   "execution_count": 6,
   "id": "0105ad98",
   "metadata": {},
   "outputs": [],
   "source": [
    "# split_data\n",
    "def split_data(SOURCE, TRAINING, TESTING, SPLIT_SIZE):\n",
    "\n",
    "    files = []\n",
    "    for file_name in os.listdir(SOURCE):\n",
    "        file_path = SOURCE + \"/\" + file_name\n",
    "        if os.path.getsize(file_path):\n",
    "            files.append(file_name)\n",
    "        else:\n",
    "            print(f\"{file_name} is zero length, so ignoring.\")\n",
    "    split_point = int(SPLIT_SIZE * len(files))\n",
    "    shuffled_files = random.sample(files, len(files))\n",
    "    training = shuffled_files[:split_point]\n",
    "    testing = shuffled_files[split_point:]\n",
    "    for f_train in training:\n",
    "        copyfile((SOURCE + \"/\" + f_train) , (TRAINING + \"/\" + f_train))\n",
    "    for f_test in testing:\n",
    "        copyfile((SOURCE + \"/\" + f_test), (TESTING + \"/\" + f_test))\n",
    "\n"
   ]
  },
  {
   "cell_type": "markdown",
   "id": "e13438dd",
   "metadata": {},
   "source": [
    "# Split the data into training and testing"
   ]
  },
  {
   "cell_type": "code",
   "execution_count": 7,
   "id": "e4b0b166",
   "metadata": {},
   "outputs": [],
   "source": [
    "# Define paths\n",
    "DATASET_SOURCE_DIR = \"../Robots_Datasets/\"\n",
    "\n",
    "TRAINING_DIR = \"../ROBOTSDATASET/training/\"\n",
    "TESTING_DIR = \"../ROBOTSDATASET/testing/\"\n",
    "\n",
    "# Define proportion of images used for training\n",
    "split_size = .9\n",
    "\n",
    "# Run the function\n",
    "# NOTE: Messages about zero length images should be printed out\n",
    "for folder in folders:\n",
    "    TRAINING_CP_DIR = os.path.join(TRAINING_DIR, text_preprocessing(folder))\n",
    "    TESTING_CP_DIR = os.path.join(TESTING_DIR, text_preprocessing(folder))\n",
    "    split_data(os.path.join(DATASET_SOURCE_DIR, folder), TRAINING_CP_DIR, TESTING_CP_DIR, split_size)\n"
   ]
  },
  {
   "cell_type": "markdown",
   "id": "893d4450",
   "metadata": {},
   "source": [
    "# Visualize some of our sample images"
   ]
  },
  {
   "cell_type": "code",
   "execution_count": 9,
   "id": "2272cca7",
   "metadata": {},
   "outputs": [
    {
     "name": "stdout",
     "output_type": "stream",
     "text": [
      "There are 2 directories and 0 images in ../ROBOTSDATASET/\n",
      "There are 19 directories and 0 images in ../ROBOTSDATASET/testing\n",
      "There are 0 directories and 52 images in ../ROBOTSDATASET/testing\\abyssinian\n",
      "There are 0 directories and 52 images in ../ROBOTSDATASET/testing\\bengal\n",
      "There are 0 directories and 52 images in ../ROBOTSDATASET/testing\\birman\n",
      "There are 0 directories and 53 images in ../ROBOTSDATASET/testing\\bombay\n",
      "There are 0 directories and 40 images in ../ROBOTSDATASET/testing\\british_shorthair\n",
      "There are 0 directories and 54 images in ../ROBOTSDATASET/testing\\calico\n",
      "There are 0 directories and 42 images in ../ROBOTSDATASET/testing\\dilute_calico\n",
      "There are 0 directories and 41 images in ../ROBOTSDATASET/testing\\domestic_long_hair\n",
      "There are 0 directories and 42 images in ../ROBOTSDATASET/testing\\egyptian_mau\n",
      "There are 0 directories and 44 images in ../ROBOTSDATASET/testing\\himalayan\n",
      "There are 0 directories and 52 images in ../ROBOTSDATASET/testing\\maine_coon\n",
      "There are 0 directories and 51 images in ../ROBOTSDATASET/testing\\persian\n",
      "There are 0 directories and 52 images in ../ROBOTSDATASET/testing\\ragdoll\n",
      "There are 0 directories and 52 images in ../ROBOTSDATASET/testing\\russian_blue\n",
      "There are 0 directories and 37 images in ../ROBOTSDATASET/testing\\scottish_fold\n",
      "There are 0 directories and 34 images in ../ROBOTSDATASET/testing\\siamese\n",
      "There are 0 directories and 39 images in ../ROBOTSDATASET/testing\\sphynx\n",
      "There are 0 directories and 60 images in ../ROBOTSDATASET/testing\\turkish_angora\n",
      "There are 0 directories and 51 images in ../ROBOTSDATASET/testing\\tuxedo\n",
      "There are 19 directories and 0 images in ../ROBOTSDATASET/training\n",
      "There are 0 directories and 464 images in ../ROBOTSDATASET/training\\abyssinian\n",
      "There are 0 directories and 462 images in ../ROBOTSDATASET/training\\bengal\n",
      "There are 0 directories and 462 images in ../ROBOTSDATASET/training\\birman\n",
      "There are 0 directories and 473 images in ../ROBOTSDATASET/training\\bombay\n",
      "There are 0 directories and 360 images in ../ROBOTSDATASET/training\\british_shorthair\n",
      "There are 0 directories and 479 images in ../ROBOTSDATASET/training\\calico\n",
      "There are 0 directories and 372 images in ../ROBOTSDATASET/training\\dilute_calico\n",
      "There are 0 directories and 364 images in ../ROBOTSDATASET/training\\domestic_long_hair\n",
      "There are 0 directories and 370 images in ../ROBOTSDATASET/training\\egyptian_mau\n",
      "There are 0 directories and 393 images in ../ROBOTSDATASET/training\\himalayan\n",
      "There are 0 directories and 460 images in ../ROBOTSDATASET/training\\maine_coon\n",
      "There are 0 directories and 459 images in ../ROBOTSDATASET/training\\persian\n",
      "There are 0 directories and 463 images in ../ROBOTSDATASET/training\\ragdoll\n",
      "There are 0 directories and 463 images in ../ROBOTSDATASET/training\\russian_blue\n",
      "There are 0 directories and 331 images in ../ROBOTSDATASET/training\\scottish_fold\n",
      "There are 0 directories and 304 images in ../ROBOTSDATASET/training\\siamese\n",
      "There are 0 directories and 345 images in ../ROBOTSDATASET/training\\sphynx\n",
      "There are 0 directories and 533 images in ../ROBOTSDATASET/training\\turkish_angora\n",
      "There are 0 directories and 456 images in ../ROBOTSDATASET/training\\tuxedo\n"
     ]
    }
   ],
   "source": [
    "# Walk through training and testing directory and list number of files\n",
    "for dirpath, dirnames, filenames in os.walk('../ROBOTSDATASET/'):\n",
    "    print(f\"There are {len(dirnames)} directories and {len(filenames)} images in {dirpath}\")"
   ]
  },
  {
   "cell_type": "code",
   "execution_count": 10,
   "id": "6656bc28",
   "metadata": {},
   "outputs": [
    {
     "ename": "FileNotFoundError",
     "evalue": "[Errno 2] No such file or directory: '../input/food-101/food-101/food-101/images/macarons/ragd60.jpg'",
     "output_type": "error",
     "traceback": [
      "\u001b[1;31m---------------------------------------------------------------------------\u001b[0m",
      "\u001b[1;31mFileNotFoundError\u001b[0m                         Traceback (most recent call last)",
      "\u001b[1;32mC:\\Users\\WINDOW~1\\AppData\\Local\\Temp/ipykernel_15980/3538839575.py\u001b[0m in \u001b[0;36m<module>\u001b[1;34m\u001b[0m\n\u001b[0;32m      2\u001b[0m \u001b[1;33m\u001b[0m\u001b[0m\n\u001b[0;32m      3\u001b[0m \u001b[0mt\u001b[0m \u001b[1;33m=\u001b[0m \u001b[0mrandom\u001b[0m\u001b[1;33m.\u001b[0m\u001b[0msample\u001b[0m\u001b[1;33m(\u001b[0m\u001b[0mos\u001b[0m\u001b[1;33m.\u001b[0m\u001b[0mlistdir\u001b[0m\u001b[1;33m(\u001b[0m\u001b[1;34mf'../ROBOTSDATASET/training/{class_name}/'\u001b[0m\u001b[1;33m)\u001b[0m\u001b[1;33m,\u001b[0m \u001b[1;36m3\u001b[0m\u001b[1;33m)\u001b[0m\u001b[1;33m[\u001b[0m\u001b[1;36m0\u001b[0m\u001b[1;33m]\u001b[0m\u001b[1;33m\u001b[0m\u001b[1;33m\u001b[0m\u001b[0m\n\u001b[1;32m----> 4\u001b[1;33m \u001b[0mta\u001b[0m\u001b[1;33m=\u001b[0m\u001b[0mplt\u001b[0m\u001b[1;33m.\u001b[0m\u001b[0mimread\u001b[0m\u001b[1;33m(\u001b[0m\u001b[1;34mf'../input/food-101/food-101/food-101/images/macarons/{t}'\u001b[0m\u001b[1;33m)\u001b[0m\u001b[1;33m\u001b[0m\u001b[1;33m\u001b[0m\u001b[0m\n\u001b[0m\u001b[0;32m      5\u001b[0m \u001b[0mplt\u001b[0m\u001b[1;33m.\u001b[0m\u001b[0mimshow\u001b[0m\u001b[1;33m(\u001b[0m\u001b[0mta\u001b[0m\u001b[1;33m)\u001b[0m\u001b[1;33m\u001b[0m\u001b[1;33m\u001b[0m\u001b[0m\n",
      "\u001b[1;32mC:\\Anaconda3\\lib\\site-packages\\matplotlib\\pyplot.py\u001b[0m in \u001b[0;36mimread\u001b[1;34m(fname, format)\u001b[0m\n\u001b[0;32m   2405\u001b[0m \u001b[1;33m@\u001b[0m\u001b[0m_copy_docstring_and_deprecators\u001b[0m\u001b[1;33m(\u001b[0m\u001b[0mmatplotlib\u001b[0m\u001b[1;33m.\u001b[0m\u001b[0mimage\u001b[0m\u001b[1;33m.\u001b[0m\u001b[0mimread\u001b[0m\u001b[1;33m)\u001b[0m\u001b[1;33m\u001b[0m\u001b[1;33m\u001b[0m\u001b[0m\n\u001b[0;32m   2406\u001b[0m \u001b[1;32mdef\u001b[0m \u001b[0mimread\u001b[0m\u001b[1;33m(\u001b[0m\u001b[0mfname\u001b[0m\u001b[1;33m,\u001b[0m \u001b[0mformat\u001b[0m\u001b[1;33m=\u001b[0m\u001b[1;32mNone\u001b[0m\u001b[1;33m)\u001b[0m\u001b[1;33m:\u001b[0m\u001b[1;33m\u001b[0m\u001b[1;33m\u001b[0m\u001b[0m\n\u001b[1;32m-> 2407\u001b[1;33m     \u001b[1;32mreturn\u001b[0m \u001b[0mmatplotlib\u001b[0m\u001b[1;33m.\u001b[0m\u001b[0mimage\u001b[0m\u001b[1;33m.\u001b[0m\u001b[0mimread\u001b[0m\u001b[1;33m(\u001b[0m\u001b[0mfname\u001b[0m\u001b[1;33m,\u001b[0m \u001b[0mformat\u001b[0m\u001b[1;33m)\u001b[0m\u001b[1;33m\u001b[0m\u001b[1;33m\u001b[0m\u001b[0m\n\u001b[0m\u001b[0;32m   2408\u001b[0m \u001b[1;33m\u001b[0m\u001b[0m\n\u001b[0;32m   2409\u001b[0m \u001b[1;33m\u001b[0m\u001b[0m\n",
      "\u001b[1;32mC:\\Anaconda3\\lib\\site-packages\\matplotlib\\image.py\u001b[0m in \u001b[0;36mimread\u001b[1;34m(fname, format)\u001b[0m\n\u001b[0;32m   1499\u001b[0m                     \u001b[0mresponse\u001b[0m \u001b[1;33m=\u001b[0m \u001b[0mio\u001b[0m\u001b[1;33m.\u001b[0m\u001b[0mBytesIO\u001b[0m\u001b[1;33m(\u001b[0m\u001b[0mresponse\u001b[0m\u001b[1;33m.\u001b[0m\u001b[0mread\u001b[0m\u001b[1;33m(\u001b[0m\u001b[1;33m)\u001b[0m\u001b[1;33m)\u001b[0m\u001b[1;33m\u001b[0m\u001b[1;33m\u001b[0m\u001b[0m\n\u001b[0;32m   1500\u001b[0m                 \u001b[1;32mreturn\u001b[0m \u001b[0mimread\u001b[0m\u001b[1;33m(\u001b[0m\u001b[0mresponse\u001b[0m\u001b[1;33m,\u001b[0m \u001b[0mformat\u001b[0m\u001b[1;33m=\u001b[0m\u001b[0mext\u001b[0m\u001b[1;33m)\u001b[0m\u001b[1;33m\u001b[0m\u001b[1;33m\u001b[0m\u001b[0m\n\u001b[1;32m-> 1501\u001b[1;33m     \u001b[1;32mwith\u001b[0m \u001b[0mimg_open\u001b[0m\u001b[1;33m(\u001b[0m\u001b[0mfname\u001b[0m\u001b[1;33m)\u001b[0m \u001b[1;32mas\u001b[0m \u001b[0mimage\u001b[0m\u001b[1;33m:\u001b[0m\u001b[1;33m\u001b[0m\u001b[1;33m\u001b[0m\u001b[0m\n\u001b[0m\u001b[0;32m   1502\u001b[0m         return (_pil_png_to_float_array(image)\n\u001b[0;32m   1503\u001b[0m                 \u001b[1;32mif\u001b[0m \u001b[0misinstance\u001b[0m\u001b[1;33m(\u001b[0m\u001b[0mimage\u001b[0m\u001b[1;33m,\u001b[0m \u001b[0mPIL\u001b[0m\u001b[1;33m.\u001b[0m\u001b[0mPngImagePlugin\u001b[0m\u001b[1;33m.\u001b[0m\u001b[0mPngImageFile\u001b[0m\u001b[1;33m)\u001b[0m \u001b[1;32melse\u001b[0m\u001b[1;33m\u001b[0m\u001b[1;33m\u001b[0m\u001b[0m\n",
      "\u001b[1;32mC:\\Anaconda3\\lib\\site-packages\\PIL\\Image.py\u001b[0m in \u001b[0;36mopen\u001b[1;34m(fp, mode, formats)\u001b[0m\n\u001b[0;32m   2973\u001b[0m \u001b[1;33m\u001b[0m\u001b[0m\n\u001b[0;32m   2974\u001b[0m     \u001b[1;32mif\u001b[0m \u001b[0mfilename\u001b[0m\u001b[1;33m:\u001b[0m\u001b[1;33m\u001b[0m\u001b[1;33m\u001b[0m\u001b[0m\n\u001b[1;32m-> 2975\u001b[1;33m         \u001b[0mfp\u001b[0m \u001b[1;33m=\u001b[0m \u001b[0mbuiltins\u001b[0m\u001b[1;33m.\u001b[0m\u001b[0mopen\u001b[0m\u001b[1;33m(\u001b[0m\u001b[0mfilename\u001b[0m\u001b[1;33m,\u001b[0m \u001b[1;34m\"rb\"\u001b[0m\u001b[1;33m)\u001b[0m\u001b[1;33m\u001b[0m\u001b[1;33m\u001b[0m\u001b[0m\n\u001b[0m\u001b[0;32m   2976\u001b[0m         \u001b[0mexclusive_fp\u001b[0m \u001b[1;33m=\u001b[0m \u001b[1;32mTrue\u001b[0m\u001b[1;33m\u001b[0m\u001b[1;33m\u001b[0m\u001b[0m\n\u001b[0;32m   2977\u001b[0m \u001b[1;33m\u001b[0m\u001b[0m\n",
      "\u001b[1;31mFileNotFoundError\u001b[0m: [Errno 2] No such file or directory: '../input/food-101/food-101/food-101/images/macarons/ragd60.jpg'"
     ]
    }
   ],
   "source": [
    "class_name = 'ragdoll'\n",
    "\n",
    "t = random.sample(os.listdir(f'../ROBOTSDATASET/training/{class_name}/'), 3)[0]\n",
    "ta=plt.imread(f'../input/food-101/food-101/food-101/images/macarons/{t}')\n",
    "plt.imshow(ta)"
   ]
  },
  {
   "cell_type": "code",
   "execution_count": null,
   "id": "f5126cb6",
   "metadata": {},
   "outputs": [],
   "source": []
  }
 ],
 "metadata": {
  "kernelspec": {
   "display_name": "Python 3 (ipykernel)",
   "language": "python",
   "name": "python3"
  },
  "language_info": {
   "codemirror_mode": {
    "name": "ipython",
    "version": 3
   },
   "file_extension": ".py",
   "mimetype": "text/x-python",
   "name": "python",
   "nbconvert_exporter": "python",
   "pygments_lexer": "ipython3",
   "version": "3.9.7"
  }
 },
 "nbformat": 4,
 "nbformat_minor": 5
}
