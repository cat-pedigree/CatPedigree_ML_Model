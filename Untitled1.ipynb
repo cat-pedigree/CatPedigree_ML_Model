{
 "cells": [
  {
   "cell_type": "code",
   "execution_count": 14,
   "id": "27de6b6f",
   "metadata": {},
   "outputs": [],
   "source": [
    "import pandas as pd\n",
    "import numpy as np"
   ]
  },
  {
   "cell_type": "code",
   "execution_count": 15,
   "id": "0c702058",
   "metadata": {},
   "outputs": [],
   "source": [
    "df = pd.read_csv('iris.csv')"
   ]
  },
  {
   "cell_type": "code",
   "execution_count": 16,
   "id": "188820c2",
   "metadata": {},
   "outputs": [
    {
     "name": "stdout",
     "output_type": "stream",
     "text": [
      "<class 'pandas.core.frame.DataFrame'>\n",
      "RangeIndex: 150 entries, 0 to 149\n",
      "Data columns (total 5 columns):\n",
      " #   Column        Non-Null Count  Dtype  \n",
      "---  ------        --------------  -----  \n",
      " 0   sepal_length  150 non-null    float64\n",
      " 1   sepal_width   150 non-null    float64\n",
      " 2   petal_length  150 non-null    float64\n",
      " 3   petal_width   150 non-null    float64\n",
      " 4   species       150 non-null    object \n",
      "dtypes: float64(4), object(1)\n",
      "memory usage: 6.0+ KB\n"
     ]
    }
   ],
   "source": [
    "df.info()"
   ]
  },
  {
   "cell_type": "code",
   "execution_count": 17,
   "id": "c6451359",
   "metadata": {},
   "outputs": [],
   "source": [
    "dff = pd.read_csv('color_pedigree.csv')"
   ]
  },
  {
   "cell_type": "code",
   "execution_count": 18,
   "id": "5ff39a46",
   "metadata": {},
   "outputs": [
    {
     "name": "stdout",
     "output_type": "stream",
     "text": [
      "<class 'pandas.core.frame.DataFrame'>\n",
      "RangeIndex: 128 entries, 0 to 127\n",
      "Data columns (total 5 columns):\n",
      " #   Column             Non-Null Count  Dtype \n",
      "---  ------             --------------  ----- \n",
      " 0   base_color_male    128 non-null    object\n",
      " 1   with_white_male    128 non-null    int64 \n",
      " 2   base_color_female  128 non-null    object\n",
      " 3   with_white_female  128 non-null    int64 \n",
      " 4   prediction_color   128 non-null    object\n",
      "dtypes: int64(2), object(3)\n",
      "memory usage: 5.1+ KB\n"
     ]
    }
   ],
   "source": [
    "dff.info()"
   ]
  },
  {
   "cell_type": "code",
   "execution_count": 19,
   "id": "bb9bc38d",
   "metadata": {},
   "outputs": [],
   "source": [
    "X = dff.drop('prediction_color', axis=1)\n",
    "X = np.array(X)"
   ]
  },
  {
   "cell_type": "code",
   "execution_count": 21,
   "id": "2d835d72",
   "metadata": {},
   "outputs": [
    {
     "data": {
      "text/plain": [
       "array([['black', 1, 'black', 0],\n",
       "       ['black', 0, 'black', 1],\n",
       "       ['black', 1, 'black', 1],\n",
       "       ['black', 0, 'black', 0],\n",
       "       ['blue', 0, 'blue', 0],\n",
       "       ['blue', 1, 'blue', 0],\n",
       "       ['blue', 0, 'blue', 1],\n",
       "       ['blue', 1, 'blue', 1],\n",
       "       ['red', 0, 'red', 0],\n",
       "       ['red', 1, 'red', 0],\n",
       "       ['red', 0, 'red', 1],\n",
       "       ['red', 0, 'red', 0],\n",
       "       ['creme', 1, 'creme', 1],\n",
       "       ['creme', 0, 'creme', 0],\n",
       "       ['creme', 1, 'creme', 0],\n",
       "       ['creme', 0, 'creme', 1],\n",
       "       ['black', 0, 'blue', 0],\n",
       "       ['black', 0, 'red', 0],\n",
       "       ['black', 0, 'creme', 0],\n",
       "       ['black', 0, 'black tortie', 0],\n",
       "       ['black', 0, 'blue tortie', 0],\n",
       "       ['black', 0, 'blue tortie', 0],\n",
       "       ['black', 1, 'blue', 1],\n",
       "       ['black', 1, 'red', 1],\n",
       "       ['black', 1, 'black tortie', 1],\n",
       "       ['black', 1, 'black tortie', 1],\n",
       "       ['black', 1, 'blue tortie', 1],\n",
       "       ['black', 1, 'blue tortie', 1],\n",
       "       ['black', 1, 'blue', 0],\n",
       "       ['black', 1, 'red', 0],\n",
       "       ['black', 1, 'black tortie', 0],\n",
       "       ['black', 1, 'black tortie', 0],\n",
       "       ['black', 1, 'blue tortie', 0],\n",
       "       ['black', 1, 'blue tortie', 0],\n",
       "       ['black', 0, 'blue', 1],\n",
       "       ['black', 0, 'red', 1],\n",
       "       ['black', 0, 'black tortie', 1],\n",
       "       ['black', 0, 'black tortie', 1],\n",
       "       ['black', 0, 'blue tortie', 1],\n",
       "       ['black', 0, 'blue tortie', 1],\n",
       "       ['blue', 0, 'black', 0],\n",
       "       ['blue', 0, 'black', 0],\n",
       "       ['blue', 0, 'red', 0],\n",
       "       ['blue', 0, 'creme', 0],\n",
       "       ['blue', 0, 'black tortie', 0],\n",
       "       ['blue', 0, 'black tortie', 0],\n",
       "       ['blue', 0, 'blue tortie', 0],\n",
       "       ['blue', 0, 'blue tortie', 0],\n",
       "       ['blue', 1, 'black', 1],\n",
       "       ['blue', 1, 'blue', 1],\n",
       "       ['blue', 1, 'red', 1],\n",
       "       ['blue', 1, 'creme', 1],\n",
       "       ['blue', 1, 'black tortie', 1],\n",
       "       ['blue', 1, 'black tortie', 1],\n",
       "       ['blue', 1, 'blue tortie', 1],\n",
       "       ['blue', 1, 'blue tortie', 1],\n",
       "       ['blue', 1, 'black', 0],\n",
       "       ['blue', 1, 'blue', 0],\n",
       "       ['blue', 1, 'red', 0],\n",
       "       ['blue', 1, 'creme', 0],\n",
       "       ['blue', 1, 'black tortie', 0],\n",
       "       ['blue', 1, 'black tortie', 0],\n",
       "       ['blue', 1, 'blue tortie', 0],\n",
       "       ['blue', 1, 'blue tortie', 0],\n",
       "       ['blue', 0, 'black', 1],\n",
       "       ['blue', 0, 'blue', 1],\n",
       "       ['blue', 0, 'red', 1],\n",
       "       ['blue', 0, 'creme', 1],\n",
       "       ['blue', 0, 'black tortie', 1],\n",
       "       ['blue', 0, 'black tortie', 1],\n",
       "       ['blue', 0, 'blue tortie', 1],\n",
       "       ['blue', 0, 'blue tortie', 1],\n",
       "       ['red', 0, 'black', 0],\n",
       "       ['red', 0, 'blue', 0],\n",
       "       ['red', 0, 'red', 0],\n",
       "       ['red', 0, 'creme', 0],\n",
       "       ['red', 0, 'black tortie', 0],\n",
       "       ['red', 0, 'black tortie', 0],\n",
       "       ['red', 0, 'blue tortie', 0],\n",
       "       ['red', 1, 'black', 1],\n",
       "       ['red', 1, 'blue', 1],\n",
       "       ['red', 1, 'red', 1],\n",
       "       ['red', 1, 'creme', 1],\n",
       "       ['red', 1, 'black tortie', 1],\n",
       "       ['red', 1, 'black tortie', 1],\n",
       "       ['red', 1, 'blue tortie', 1],\n",
       "       ['red', 1, 'black', 0],\n",
       "       ['red', 1, 'blue', 0],\n",
       "       ['red', 1, 'red', 0],\n",
       "       ['red', 1, 'red', 0],\n",
       "       ['red', 1, 'black tortie', 0],\n",
       "       ['red', 1, 'black tortie', 0],\n",
       "       ['red', 1, 'blue tortie', 0],\n",
       "       ['red', 0, 'black', 1],\n",
       "       ['red', 0, 'blue', 1],\n",
       "       ['red', 0, 'red', 1],\n",
       "       ['red', 0, 'creme', 1],\n",
       "       ['red', 0, 'black tortie', 1],\n",
       "       ['red', 0, 'black tortie', 1],\n",
       "       ['red', 0, 'blue tortie', 1],\n",
       "       ['creme', 0, 'black', 0],\n",
       "       ['creme', 0, 'blue', 0],\n",
       "       ['creme', 0, 'red', 0],\n",
       "       ['creme', 0, 'creme', 0],\n",
       "       ['creme', 0, 'black tortie', 0],\n",
       "       ['creme', 0, 'black tortie', 0],\n",
       "       ['creme', 0, 'blue tortie', 0],\n",
       "       ['creme', 1, 'black', 1],\n",
       "       ['creme', 1, 'blue', 1],\n",
       "       ['creme', 1, 'red', 1],\n",
       "       ['creme', 1, 'creme', 1],\n",
       "       ['creme', 1, 'black tortie', 1],\n",
       "       ['creme', 1, 'black tortie', 1],\n",
       "       ['creme', 1, 'blue tortie', 1],\n",
       "       ['creme', 1, 'black', 0],\n",
       "       ['creme', 1, 'blue', 0],\n",
       "       ['creme', 1, 'red', 0],\n",
       "       ['creme', 1, 'creme', 0],\n",
       "       ['creme', 1, 'black tortie', 0],\n",
       "       ['creme', 1, 'black tortie', 0],\n",
       "       ['creme', 1, 'blue tortie', 0],\n",
       "       ['creme', 0, 'black', 1],\n",
       "       ['creme', 0, 'blue', 1],\n",
       "       ['creme', 0, 'red', 1],\n",
       "       ['creme', 0, 'creme', 1],\n",
       "       ['creme', 0, 'black tortie', 1],\n",
       "       ['creme', 0, 'black tortie', 1],\n",
       "       ['creme', 0, 'blue tortie', 1]], dtype=object)"
      ]
     },
     "execution_count": 21,
     "metadata": {},
     "output_type": "execute_result"
    }
   ],
   "source": [
    "X"
   ]
  },
  {
   "cell_type": "code",
   "execution_count": null,
   "id": "cfdb976a",
   "metadata": {},
   "outputs": [],
   "source": []
  }
 ],
 "metadata": {
  "kernelspec": {
   "display_name": "Python 3 (ipykernel)",
   "language": "python",
   "name": "python3"
  },
  "language_info": {
   "codemirror_mode": {
    "name": "ipython",
    "version": 3
   },
   "file_extension": ".py",
   "mimetype": "text/x-python",
   "name": "python",
   "nbconvert_exporter": "python",
   "pygments_lexer": "ipython3",
   "version": "3.9.7"
  }
 },
 "nbformat": 4,
 "nbformat_minor": 5
}
