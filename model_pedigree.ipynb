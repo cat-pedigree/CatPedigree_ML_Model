{
 "cells": [
  {
   "cell_type": "code",
   "execution_count": 23,
   "metadata": {},
   "outputs": [],
   "source": [
    "import numpy as np\n",
    "import pandas as pd\n",
    "import tensorflow as tf\n",
    "import sklearn as sk\n",
    "import matplotlib.pyplot as plt\n",
    "import pathlib\n",
    "from sklearn import model_selection"
   ]
  },
  {
   "cell_type": "code",
   "execution_count": 2,
   "metadata": {},
   "outputs": [
    {
     "name": "stdout",
     "output_type": "stream",
     "text": [
      "Tensorflow version              : 2.8.0\n",
      "Sklearn version                 : 1.0.2\n",
      "Pandas version                  : 1.4.1\n",
      "Numpy version                   : 1.22.2\n"
     ]
    }
   ],
   "source": [
    "print(f\"Tensorflow version              : {tf.__version__}\")\n",
    "print(f\"Sklearn version                 : {sk.__version__}\")\n",
    "print(f\"Pandas version                  : {pd.__version__}\")\n",
    "print(f\"Numpy version                   : {np.__version__}\")"
   ]
  },
  {
   "cell_type": "code",
   "execution_count": 3,
   "metadata": {},
   "outputs": [],
   "source": [
    "csvFile_path = \"../Dataset/pedigree dataset.csv\"\n",
    "collumnName = [\n",
    "    \"base_color_male\",\n",
    "    \"with_white_male\",\n",
    "    \"base_color_female\",\n",
    "    \"with_white_female\",\n",
    "    \"color_prediction\"\n",
    "]\n",
    "\n",
    "categorical_feature_keys = [\n",
    "    \"base_color_male\",\n",
    "    \"base_color_female\"\n",
    "]\n",
    "\n",
    "numeric_feature_keys = [\n",
    "    \"with_white_male\",\n",
    "    \"with_white_female\"\n",
    "]\n",
    "\n",
    "label_key = \"color_prediction\""
   ]
  },
  {
   "cell_type": "code",
   "execution_count": 4,
   "metadata": {},
   "outputs": [
    {
     "data": {
      "text/html": [
       "<div>\n",
       "<style scoped>\n",
       "    .dataframe tbody tr th:only-of-type {\n",
       "        vertical-align: middle;\n",
       "    }\n",
       "\n",
       "    .dataframe tbody tr th {\n",
       "        vertical-align: top;\n",
       "    }\n",
       "\n",
       "    .dataframe thead th {\n",
       "        text-align: right;\n",
       "    }\n",
       "</style>\n",
       "<table border=\"1\" class=\"dataframe\">\n",
       "  <thead>\n",
       "    <tr style=\"text-align: right;\">\n",
       "      <th></th>\n",
       "      <th>base_color_male</th>\n",
       "      <th>with_white_male</th>\n",
       "      <th>base_color_female</th>\n",
       "      <th>with_white_female</th>\n",
       "      <th>color_prediction</th>\n",
       "    </tr>\n",
       "  </thead>\n",
       "  <tbody>\n",
       "    <tr>\n",
       "      <th>0</th>\n",
       "      <td>black</td>\n",
       "      <td>0</td>\n",
       "      <td>black</td>\n",
       "      <td>0</td>\n",
       "      <td>black</td>\n",
       "    </tr>\n",
       "    <tr>\n",
       "      <th>1</th>\n",
       "      <td>black</td>\n",
       "      <td>1</td>\n",
       "      <td>black</td>\n",
       "      <td>0</td>\n",
       "      <td>black</td>\n",
       "    </tr>\n",
       "    <tr>\n",
       "      <th>2</th>\n",
       "      <td>black</td>\n",
       "      <td>0</td>\n",
       "      <td>black</td>\n",
       "      <td>1</td>\n",
       "      <td>black</td>\n",
       "    </tr>\n",
       "    <tr>\n",
       "      <th>3</th>\n",
       "      <td>black</td>\n",
       "      <td>1</td>\n",
       "      <td>black</td>\n",
       "      <td>1</td>\n",
       "      <td>black</td>\n",
       "    </tr>\n",
       "    <tr>\n",
       "      <th>4</th>\n",
       "      <td>grey</td>\n",
       "      <td>0</td>\n",
       "      <td>grey</td>\n",
       "      <td>0</td>\n",
       "      <td>grey</td>\n",
       "    </tr>\n",
       "    <tr>\n",
       "      <th>5</th>\n",
       "      <td>grey</td>\n",
       "      <td>1</td>\n",
       "      <td>grey</td>\n",
       "      <td>0</td>\n",
       "      <td>grey</td>\n",
       "    </tr>\n",
       "    <tr>\n",
       "      <th>6</th>\n",
       "      <td>grey</td>\n",
       "      <td>0</td>\n",
       "      <td>grey</td>\n",
       "      <td>1</td>\n",
       "      <td>grey</td>\n",
       "    </tr>\n",
       "    <tr>\n",
       "      <th>7</th>\n",
       "      <td>grey</td>\n",
       "      <td>1</td>\n",
       "      <td>grey</td>\n",
       "      <td>1</td>\n",
       "      <td>grey</td>\n",
       "    </tr>\n",
       "    <tr>\n",
       "      <th>8</th>\n",
       "      <td>orange</td>\n",
       "      <td>0</td>\n",
       "      <td>orange</td>\n",
       "      <td>0</td>\n",
       "      <td>orange</td>\n",
       "    </tr>\n",
       "    <tr>\n",
       "      <th>9</th>\n",
       "      <td>orange</td>\n",
       "      <td>1</td>\n",
       "      <td>orange</td>\n",
       "      <td>0</td>\n",
       "      <td>orange</td>\n",
       "    </tr>\n",
       "  </tbody>\n",
       "</table>\n",
       "</div>"
      ],
      "text/plain": [
       "  base_color_male  with_white_male base_color_female  with_white_female  \\\n",
       "0           black                0             black                  0   \n",
       "1           black                1             black                  0   \n",
       "2           black                0             black                  1   \n",
       "3           black                1             black                  1   \n",
       "4            grey                0              grey                  0   \n",
       "5            grey                1              grey                  0   \n",
       "6            grey                0              grey                  1   \n",
       "7            grey                1              grey                  1   \n",
       "8          orange                0            orange                  0   \n",
       "9          orange                1            orange                  0   \n",
       "\n",
       "  color_prediction  \n",
       "0            black  \n",
       "1            black  \n",
       "2            black  \n",
       "3            black  \n",
       "4             grey  \n",
       "5             grey  \n",
       "6             grey  \n",
       "7             grey  \n",
       "8           orange  \n",
       "9           orange  "
      ]
     },
     "execution_count": 4,
     "metadata": {},
     "output_type": "execute_result"
    }
   ],
   "source": [
    "dataset = pd.read_csv(csvFile_path, names=collumnName, delimiter=\",\", header=0)\n",
    "\n",
    "dataset.head(10)"
   ]
  },
  {
   "cell_type": "code",
   "execution_count": 5,
   "metadata": {},
   "outputs": [
    {
     "name": "stdout",
     "output_type": "stream",
     "text": [
      "<class 'pandas.core.frame.DataFrame'>\n",
      "RangeIndex: 128 entries, 0 to 127\n",
      "Data columns (total 5 columns):\n",
      " #   Column             Non-Null Count  Dtype \n",
      "---  ------             --------------  ----- \n",
      " 0   base_color_male    128 non-null    object\n",
      " 1   with_white_male    128 non-null    int64 \n",
      " 2   base_color_female  128 non-null    object\n",
      " 3   with_white_female  128 non-null    int64 \n",
      " 4   color_prediction   124 non-null    object\n",
      "dtypes: int64(2), object(3)\n",
      "memory usage: 5.1+ KB\n"
     ]
    }
   ],
   "source": [
    "dataset.info()"
   ]
  },
  {
   "cell_type": "code",
   "execution_count": 6,
   "metadata": {},
   "outputs": [],
   "source": [
    "def feature_per_value(data, feature):\n",
    "    values_in_feature = data[feature].unique()\n",
    "    \n",
    "    values_convertDict = {}\n",
    "    for index, value in enumerate(values_in_feature):\n",
    "        values_convertDict[value] = index\n",
    "    \n",
    "    return values_convertDict"
   ]
  },
  {
   "cell_type": "code",
   "execution_count": 7,
   "metadata": {},
   "outputs": [
    {
     "name": "stdout",
     "output_type": "stream",
     "text": [
      "Base Male Color convert value: {'black': 0, 'grey': 1, 'orange': 2, 'silver': 3}\n",
      "Base Female Color convert value: {'black': 0, 'grey': 1, 'orange': 2, 'silver': 3, 'black tortie': 4, 'grey tortie': 5}\n",
      "Prediction Color convert value: {'black': 0, 'grey': 1, 'orange': 2, 'silver': 3, nan: 4}\n"
     ]
    }
   ],
   "source": [
    "maleColor = feature_per_value(dataset, categorical_feature_keys[0])\n",
    "femaleColor = feature_per_value(dataset, categorical_feature_keys[1])\n",
    "labelColor = feature_per_value(dataset, label_key)\n",
    "\n",
    "print(f\"Base Male Color convert value: {maleColor}\",\n",
    "      f\"Base Female Color convert value: {femaleColor}\",\n",
    "      f\"Prediction Color convert value: {labelColor}\",\n",
    "      sep=\"\\n\")"
   ]
  },
  {
   "cell_type": "code",
   "execution_count": 8,
   "metadata": {},
   "outputs": [
    {
     "data": {
      "text/html": [
       "<div>\n",
       "<style scoped>\n",
       "    .dataframe tbody tr th:only-of-type {\n",
       "        vertical-align: middle;\n",
       "    }\n",
       "\n",
       "    .dataframe tbody tr th {\n",
       "        vertical-align: top;\n",
       "    }\n",
       "\n",
       "    .dataframe thead th {\n",
       "        text-align: right;\n",
       "    }\n",
       "</style>\n",
       "<table border=\"1\" class=\"dataframe\">\n",
       "  <thead>\n",
       "    <tr style=\"text-align: right;\">\n",
       "      <th></th>\n",
       "      <th>base_color_male</th>\n",
       "      <th>with_white_male</th>\n",
       "      <th>base_color_female</th>\n",
       "      <th>with_white_female</th>\n",
       "      <th>color_prediction</th>\n",
       "    </tr>\n",
       "  </thead>\n",
       "  <tbody>\n",
       "    <tr>\n",
       "      <th>19</th>\n",
       "      <td>grey</td>\n",
       "      <td>1</td>\n",
       "      <td>black</td>\n",
       "      <td>1</td>\n",
       "      <td>black</td>\n",
       "    </tr>\n",
       "    <tr>\n",
       "      <th>63</th>\n",
       "      <td>silver</td>\n",
       "      <td>1</td>\n",
       "      <td>orange</td>\n",
       "      <td>1</td>\n",
       "      <td>orange</td>\n",
       "    </tr>\n",
       "    <tr>\n",
       "      <th>29</th>\n",
       "      <td>orange</td>\n",
       "      <td>1</td>\n",
       "      <td>black</td>\n",
       "      <td>0</td>\n",
       "      <td>black</td>\n",
       "    </tr>\n",
       "    <tr>\n",
       "      <th>54</th>\n",
       "      <td>silver</td>\n",
       "      <td>0</td>\n",
       "      <td>grey</td>\n",
       "      <td>1</td>\n",
       "      <td>grey</td>\n",
       "    </tr>\n",
       "    <tr>\n",
       "      <th>79</th>\n",
       "      <td>grey</td>\n",
       "      <td>1</td>\n",
       "      <td>black tortie</td>\n",
       "      <td>1</td>\n",
       "      <td>orange</td>\n",
       "    </tr>\n",
       "    <tr>\n",
       "      <th>12</th>\n",
       "      <td>silver</td>\n",
       "      <td>0</td>\n",
       "      <td>silver</td>\n",
       "      <td>0</td>\n",
       "      <td>silver</td>\n",
       "    </tr>\n",
       "    <tr>\n",
       "      <th>39</th>\n",
       "      <td>silver</td>\n",
       "      <td>1</td>\n",
       "      <td>black</td>\n",
       "      <td>1</td>\n",
       "      <td>black</td>\n",
       "    </tr>\n",
       "    <tr>\n",
       "      <th>113</th>\n",
       "      <td>orange</td>\n",
       "      <td>0</td>\n",
       "      <td>grey tortie</td>\n",
       "      <td>0</td>\n",
       "      <td>orange</td>\n",
       "    </tr>\n",
       "    <tr>\n",
       "      <th>53</th>\n",
       "      <td>silver</td>\n",
       "      <td>1</td>\n",
       "      <td>grey</td>\n",
       "      <td>0</td>\n",
       "      <td>grey</td>\n",
       "    </tr>\n",
       "    <tr>\n",
       "      <th>67</th>\n",
       "      <td>black</td>\n",
       "      <td>1</td>\n",
       "      <td>black tortie</td>\n",
       "      <td>0</td>\n",
       "      <td>orange</td>\n",
       "    </tr>\n",
       "  </tbody>\n",
       "</table>\n",
       "</div>"
      ],
      "text/plain": [
       "    base_color_male  with_white_male base_color_female  with_white_female  \\\n",
       "19             grey                1             black                  1   \n",
       "63           silver                1            orange                  1   \n",
       "29           orange                1             black                  0   \n",
       "54           silver                0              grey                  1   \n",
       "79             grey                1      black tortie                  1   \n",
       "12           silver                0            silver                  0   \n",
       "39           silver                1             black                  1   \n",
       "113          orange                0       grey tortie                  0   \n",
       "53           silver                1              grey                  0   \n",
       "67            black                1      black tortie                  0   \n",
       "\n",
       "    color_prediction  \n",
       "19             black  \n",
       "63            orange  \n",
       "29             black  \n",
       "54              grey  \n",
       "79            orange  \n",
       "12            silver  \n",
       "39             black  \n",
       "113           orange  \n",
       "53              grey  \n",
       "67            orange  "
      ]
     },
     "execution_count": 8,
     "metadata": {},
     "output_type": "execute_result"
    }
   ],
   "source": [
    "dataset = sk.utils.shuffle(dataset)\n",
    "\n",
    "dataset.head(10)"
   ]
  },
  {
   "cell_type": "code",
   "execution_count": 9,
   "metadata": {},
   "outputs": [
    {
     "data": {
      "text/html": [
       "<div>\n",
       "<style scoped>\n",
       "    .dataframe tbody tr th:only-of-type {\n",
       "        vertical-align: middle;\n",
       "    }\n",
       "\n",
       "    .dataframe tbody tr th {\n",
       "        vertical-align: top;\n",
       "    }\n",
       "\n",
       "    .dataframe thead th {\n",
       "        text-align: right;\n",
       "    }\n",
       "</style>\n",
       "<table border=\"1\" class=\"dataframe\">\n",
       "  <thead>\n",
       "    <tr style=\"text-align: right;\">\n",
       "      <th></th>\n",
       "      <th>base_color_male</th>\n",
       "      <th>with_white_male</th>\n",
       "      <th>base_color_female</th>\n",
       "      <th>with_white_female</th>\n",
       "      <th>color_prediction</th>\n",
       "    </tr>\n",
       "  </thead>\n",
       "  <tbody>\n",
       "    <tr>\n",
       "      <th>19</th>\n",
       "      <td>1</td>\n",
       "      <td>1</td>\n",
       "      <td>0</td>\n",
       "      <td>1</td>\n",
       "      <td>black</td>\n",
       "    </tr>\n",
       "    <tr>\n",
       "      <th>63</th>\n",
       "      <td>3</td>\n",
       "      <td>1</td>\n",
       "      <td>2</td>\n",
       "      <td>1</td>\n",
       "      <td>orange</td>\n",
       "    </tr>\n",
       "    <tr>\n",
       "      <th>29</th>\n",
       "      <td>2</td>\n",
       "      <td>1</td>\n",
       "      <td>0</td>\n",
       "      <td>0</td>\n",
       "      <td>black</td>\n",
       "    </tr>\n",
       "    <tr>\n",
       "      <th>54</th>\n",
       "      <td>3</td>\n",
       "      <td>0</td>\n",
       "      <td>1</td>\n",
       "      <td>1</td>\n",
       "      <td>grey</td>\n",
       "    </tr>\n",
       "    <tr>\n",
       "      <th>79</th>\n",
       "      <td>1</td>\n",
       "      <td>1</td>\n",
       "      <td>4</td>\n",
       "      <td>1</td>\n",
       "      <td>orange</td>\n",
       "    </tr>\n",
       "    <tr>\n",
       "      <th>12</th>\n",
       "      <td>3</td>\n",
       "      <td>0</td>\n",
       "      <td>3</td>\n",
       "      <td>0</td>\n",
       "      <td>silver</td>\n",
       "    </tr>\n",
       "    <tr>\n",
       "      <th>39</th>\n",
       "      <td>3</td>\n",
       "      <td>1</td>\n",
       "      <td>0</td>\n",
       "      <td>1</td>\n",
       "      <td>black</td>\n",
       "    </tr>\n",
       "    <tr>\n",
       "      <th>113</th>\n",
       "      <td>2</td>\n",
       "      <td>0</td>\n",
       "      <td>5</td>\n",
       "      <td>0</td>\n",
       "      <td>orange</td>\n",
       "    </tr>\n",
       "    <tr>\n",
       "      <th>53</th>\n",
       "      <td>3</td>\n",
       "      <td>1</td>\n",
       "      <td>1</td>\n",
       "      <td>0</td>\n",
       "      <td>grey</td>\n",
       "    </tr>\n",
       "    <tr>\n",
       "      <th>67</th>\n",
       "      <td>0</td>\n",
       "      <td>1</td>\n",
       "      <td>4</td>\n",
       "      <td>0</td>\n",
       "      <td>orange</td>\n",
       "    </tr>\n",
       "  </tbody>\n",
       "</table>\n",
       "</div>"
      ],
      "text/plain": [
       "     base_color_male  with_white_male  base_color_female  with_white_female  \\\n",
       "19                 1                1                  0                  1   \n",
       "63                 3                1                  2                  1   \n",
       "29                 2                1                  0                  0   \n",
       "54                 3                0                  1                  1   \n",
       "79                 1                1                  4                  1   \n",
       "12                 3                0                  3                  0   \n",
       "39                 3                1                  0                  1   \n",
       "113                2                0                  5                  0   \n",
       "53                 3                1                  1                  0   \n",
       "67                 0                1                  4                  0   \n",
       "\n",
       "    color_prediction  \n",
       "19             black  \n",
       "63            orange  \n",
       "29             black  \n",
       "54              grey  \n",
       "79            orange  \n",
       "12            silver  \n",
       "39             black  \n",
       "113           orange  \n",
       "53              grey  \n",
       "67            orange  "
      ]
     },
     "execution_count": 9,
     "metadata": {},
     "output_type": "execute_result"
    }
   ],
   "source": [
    "dataset[categorical_feature_keys[0]] = dataset[categorical_feature_keys[0]].map(maleColor)\n",
    "dataset[categorical_feature_keys[1]] = dataset[categorical_feature_keys[1]].map(femaleColor)\n",
    "\n",
    "dataset.head(10)"
   ]
  },
  {
   "cell_type": "code",
   "execution_count": 10,
   "metadata": {},
   "outputs": [
    {
     "name": "stdout",
     "output_type": "stream",
     "text": [
      "     base_color_male  with_white_male  base_color_female  with_white_female\n",
      "19                 1                1                  0                  1\n",
      "63                 3                1                  2                  1\n",
      "29                 2                1                  0                  0\n",
      "54                 3                0                  1                  1\n",
      "79                 1                1                  4                  1\n",
      "12                 3                0                  3                  0\n",
      "39                 3                1                  0                  1\n",
      "113                2                0                  5                  0\n",
      "53                 3                1                  1                  0\n",
      "67                 0                1                  4                  0\n",
      "\n",
      "19      black\n",
      "63     orange\n",
      "29      black\n",
      "54       grey\n",
      "79     orange\n",
      "12     silver\n",
      "39      black\n",
      "113    orange\n",
      "53       grey\n",
      "67     orange\n",
      "Name: color_prediction, dtype: object\n"
     ]
    }
   ],
   "source": [
    "dataFeature_x = dataset.drop(label_key, axis=1)\n",
    "datalabel_y = dataset[label_key]\n",
    "\n",
    "print(dataFeature_x.head(10), datalabel_y.head(10), sep=\"\\n\\n\")"
   ]
  },
  {
   "cell_type": "code",
   "execution_count": 11,
   "metadata": {},
   "outputs": [],
   "source": [
    "encoder = sk.preprocessing.LabelEncoder()\n",
    "encoder.fit(datalabel_y)\n",
    "datalabel_y = encoder.transform(datalabel_y)\n",
    "datalabel_y = tf.keras.utils.to_categorical(datalabel_y)"
   ]
  },
  {
   "cell_type": "code",
   "execution_count": 69,
   "metadata": {},
   "outputs": [],
   "source": [
    "x_train, x_test, y_train, y_test = model_selection.train_test_split(dataFeature_x, datalabel_y, test_size=0.2)"
   ]
  },
  {
   "cell_type": "code",
   "execution_count": 81,
   "metadata": {},
   "outputs": [],
   "source": [
    "model = tf.keras.models.Sequential([\n",
    "    tf.keras.layers.Embedding(\n",
    "        input_dim=6,\n",
    "        output_dim=64),\n",
    "    tf.keras.layers.Bidirectional(tf.keras.layers.LSTM(64)),\n",
    "    tf.keras.layers.Dense(50, activation=\"relu\"),\n",
    "    tf.keras.layers.Dense(5, activation=\"softmax\")\n",
    "])\n",
    "\n",
    "model.compile(\n",
    "    loss = tf.keras.losses.CategoricalCrossentropy(),\n",
    "    optimizer = tf.keras.optimizers.RMSprop(learning_rate=0.0001),\n",
    "    metrics = [\"accuracy\"]\n",
    ")"
   ]
  },
  {
   "cell_type": "code",
   "execution_count": 75,
   "metadata": {},
   "outputs": [],
   "source": [
    "model = tf.keras.models.Sequential()\n",
    "model.add(tf.keras.layers.Dense(50, activation=\"relu\"))\n",
    "model.add(tf.keras.layers.Dense(100, activation=\"relu\"))\n",
    "model.add(tf.keras.layers.Dense(5, activation=\"softmax\"))\n",
    "\n",
    "model.compile(\n",
    "    loss = \"categorical_crossentropy\",\n",
    "    optimizer = \"adam\",\n",
    "    metrics = [\"accuracy\"]\n",
    ")"
   ]
  },
  {
   "cell_type": "code",
   "execution_count": 82,
   "metadata": {},
   "outputs": [
    {
     "name": "stdout",
     "output_type": "stream",
     "text": [
      "Epoch 1/100\n",
      "51/51 [==============================] - 4s 21ms/step - loss: 1.5990 - accuracy: 0.3725\n",
      "Epoch 2/100\n",
      "51/51 [==============================] - 1s 17ms/step - loss: 1.5806 - accuracy: 0.3824\n",
      "Epoch 3/100\n",
      "51/51 [==============================] - 1s 16ms/step - loss: 1.5616 - accuracy: 0.3824\n",
      "Epoch 4/100\n",
      "51/51 [==============================] - 1s 15ms/step - loss: 1.5385 - accuracy: 0.3824\n",
      "Epoch 5/100\n",
      "51/51 [==============================] - 1s 16ms/step - loss: 1.5107 - accuracy: 0.3824\n",
      "Epoch 6/100\n",
      "51/51 [==============================] - 1s 17ms/step - loss: 1.4826 - accuracy: 0.3824\n",
      "Epoch 7/100\n",
      "51/51 [==============================] - 1s 16ms/step - loss: 1.4539 - accuracy: 0.3824\n",
      "Epoch 8/100\n",
      "51/51 [==============================] - 1s 15ms/step - loss: 1.4267 - accuracy: 0.3824\n",
      "Epoch 9/100\n",
      "51/51 [==============================] - 1s 15ms/step - loss: 1.4008 - accuracy: 0.3824\n",
      "Epoch 10/100\n",
      "51/51 [==============================] - 1s 16ms/step - loss: 1.3794 - accuracy: 0.3824\n",
      "Epoch 11/100\n",
      "51/51 [==============================] - 1s 17ms/step - loss: 1.3596 - accuracy: 0.3824\n",
      "Epoch 12/100\n",
      "51/51 [==============================] - 1s 15ms/step - loss: 1.3409 - accuracy: 0.3824\n",
      "Epoch 13/100\n",
      "51/51 [==============================] - 1s 16ms/step - loss: 1.3253 - accuracy: 0.3824\n",
      "Epoch 14/100\n",
      "51/51 [==============================] - 1s 15ms/step - loss: 1.3092 - accuracy: 0.3824\n",
      "Epoch 15/100\n",
      "51/51 [==============================] - 1s 16ms/step - loss: 1.2942 - accuracy: 0.3824\n",
      "Epoch 16/100\n",
      "51/51 [==============================] - 1s 18ms/step - loss: 1.2783 - accuracy: 0.3824\n",
      "Epoch 17/100\n",
      "51/51 [==============================] - 1s 15ms/step - loss: 1.2605 - accuracy: 0.3824\n",
      "Epoch 18/100\n",
      "51/51 [==============================] - 1s 15ms/step - loss: 1.2414 - accuracy: 0.3824\n",
      "Epoch 19/100\n",
      "51/51 [==============================] - 1s 15ms/step - loss: 1.2239 - accuracy: 0.3824\n",
      "Epoch 20/100\n",
      "51/51 [==============================] - 1s 17ms/step - loss: 1.2057 - accuracy: 0.4020\n",
      "Epoch 21/100\n",
      "51/51 [==============================] - 1s 19ms/step - loss: 1.1869 - accuracy: 0.4118\n",
      "Epoch 22/100\n",
      "51/51 [==============================] - 1s 15ms/step - loss: 1.1692 - accuracy: 0.4216\n",
      "Epoch 23/100\n",
      "51/51 [==============================] - 1s 16ms/step - loss: 1.1522 - accuracy: 0.4608\n",
      "Epoch 24/100\n",
      "51/51 [==============================] - 1s 22ms/step - loss: 1.1362 - accuracy: 0.4902\n",
      "Epoch 25/100\n",
      "51/51 [==============================] - 2s 32ms/step - loss: 1.1185 - accuracy: 0.4706\n",
      "Epoch 26/100\n",
      "51/51 [==============================] - 1s 27ms/step - loss: 1.1064 - accuracy: 0.5196\n",
      "Epoch 27/100\n",
      "51/51 [==============================] - 1s 24ms/step - loss: 1.0899 - accuracy: 0.5588\n",
      "Epoch 28/100\n",
      "51/51 [==============================] - 1s 21ms/step - loss: 1.0774 - accuracy: 0.5490\n",
      "Epoch 29/100\n",
      "51/51 [==============================] - 1s 24ms/step - loss: 1.0632 - accuracy: 0.5784\n",
      "Epoch 30/100\n",
      "51/51 [==============================] - 2s 40ms/step - loss: 1.0500 - accuracy: 0.5490\n",
      "Epoch 31/100\n",
      "51/51 [==============================] - 2s 39ms/step - loss: 1.0392 - accuracy: 0.5784\n",
      "Epoch 32/100\n",
      "51/51 [==============================] - 1s 26ms/step - loss: 1.0279 - accuracy: 0.5784\n",
      "Epoch 33/100\n",
      "51/51 [==============================] - 2s 34ms/step - loss: 1.0169 - accuracy: 0.5980\n",
      "Epoch 34/100\n",
      "51/51 [==============================] - 2s 35ms/step - loss: 1.0059 - accuracy: 0.6078\n",
      "Epoch 35/100\n",
      "51/51 [==============================] - 2s 34ms/step - loss: 0.9955 - accuracy: 0.5882\n",
      "Epoch 36/100\n",
      "51/51 [==============================] - 1s 23ms/step - loss: 0.9877 - accuracy: 0.6176\n",
      "Epoch 37/100\n",
      "51/51 [==============================] - 1s 28ms/step - loss: 0.9778 - accuracy: 0.6275\n",
      "Epoch 38/100\n",
      "51/51 [==============================] - 2s 34ms/step - loss: 0.9708 - accuracy: 0.6078\n",
      "Epoch 39/100\n",
      "51/51 [==============================] - 2s 42ms/step - loss: 0.9624 - accuracy: 0.6176\n",
      "Epoch 40/100\n",
      "51/51 [==============================] - 2s 33ms/step - loss: 0.9543 - accuracy: 0.6176\n",
      "Epoch 41/100\n",
      "51/51 [==============================] - 1s 24ms/step - loss: 0.9457 - accuracy: 0.6176\n",
      "Epoch 42/100\n",
      "51/51 [==============================] - 1s 29ms/step - loss: 0.9386 - accuracy: 0.5882\n",
      "Epoch 43/100\n",
      "51/51 [==============================] - 1s 25ms/step - loss: 0.9316 - accuracy: 0.6176\n",
      "Epoch 44/100\n",
      "51/51 [==============================] - 1s 17ms/step - loss: 0.9242 - accuracy: 0.6078\n",
      "Epoch 45/100\n",
      "51/51 [==============================] - 1s 19ms/step - loss: 0.9175 - accuracy: 0.5882\n",
      "Epoch 46/100\n",
      "51/51 [==============================] - 1s 22ms/step - loss: 0.9113 - accuracy: 0.5980\n",
      "Epoch 47/100\n",
      "51/51 [==============================] - 2s 31ms/step - loss: 0.9054 - accuracy: 0.6078\n",
      "Epoch 48/100\n",
      "51/51 [==============================] - 2s 35ms/step - loss: 0.8960 - accuracy: 0.6078\n",
      "Epoch 49/100\n",
      "51/51 [==============================] - 2s 35ms/step - loss: 0.8918 - accuracy: 0.5882\n",
      "Epoch 50/100\n",
      "51/51 [==============================] - 1s 29ms/step - loss: 0.8855 - accuracy: 0.6176\n",
      "Epoch 51/100\n",
      "51/51 [==============================] - 1s 28ms/step - loss: 0.8808 - accuracy: 0.6275\n",
      "Epoch 52/100\n",
      "51/51 [==============================] - 2s 40ms/step - loss: 0.8748 - accuracy: 0.6176\n",
      "Epoch 53/100\n",
      "51/51 [==============================] - 2s 33ms/step - loss: 0.8692 - accuracy: 0.6078\n",
      "Epoch 54/100\n",
      "51/51 [==============================] - 2s 30ms/step - loss: 0.8648 - accuracy: 0.6176\n",
      "Epoch 55/100\n",
      "51/51 [==============================] - 2s 38ms/step - loss: 0.8548 - accuracy: 0.6275\n",
      "Epoch 56/100\n",
      "51/51 [==============================] - 2s 33ms/step - loss: 0.8567 - accuracy: 0.6176\n",
      "Epoch 57/100\n",
      "51/51 [==============================] - 2s 30ms/step - loss: 0.8486 - accuracy: 0.6275\n",
      "Epoch 58/100\n",
      "51/51 [==============================] - 1s 28ms/step - loss: 0.8424 - accuracy: 0.6569\n",
      "Epoch 59/100\n",
      "51/51 [==============================] - 1s 22ms/step - loss: 0.8333 - accuracy: 0.6471\n",
      "Epoch 60/100\n",
      "51/51 [==============================] - 1s 17ms/step - loss: 0.8359 - accuracy: 0.6373\n",
      "Epoch 61/100\n",
      "51/51 [==============================] - 2s 32ms/step - loss: 0.8326 - accuracy: 0.6373\n",
      "Epoch 62/100\n",
      "51/51 [==============================] - 2s 34ms/step - loss: 0.8236 - accuracy: 0.6667\n",
      "Epoch 63/100\n",
      "51/51 [==============================] - 2s 31ms/step - loss: 0.8197 - accuracy: 0.6373\n",
      "Epoch 64/100\n",
      "51/51 [==============================] - 1s 29ms/step - loss: 0.8155 - accuracy: 0.6569\n",
      "Epoch 65/100\n",
      "51/51 [==============================] - 1s 24ms/step - loss: 0.8144 - accuracy: 0.6471\n",
      "Epoch 66/100\n",
      "51/51 [==============================] - 1s 19ms/step - loss: 0.8059 - accuracy: 0.6569\n",
      "Epoch 67/100\n",
      "51/51 [==============================] - 1s 23ms/step - loss: 0.8037 - accuracy: 0.6471\n",
      "Epoch 68/100\n",
      "51/51 [==============================] - 1s 21ms/step - loss: 0.8000 - accuracy: 0.6471\n",
      "Epoch 69/100\n",
      "51/51 [==============================] - 1s 24ms/step - loss: 0.7923 - accuracy: 0.6471\n",
      "Epoch 70/100\n",
      "51/51 [==============================] - 1s 26ms/step - loss: 0.7897 - accuracy: 0.6373\n",
      "Epoch 71/100\n",
      "51/51 [==============================] - 1s 23ms/step - loss: 0.7834 - accuracy: 0.6471\n",
      "Epoch 72/100\n",
      "51/51 [==============================] - 1s 24ms/step - loss: 0.7789 - accuracy: 0.6471\n",
      "Epoch 73/100\n",
      "51/51 [==============================] - 1s 28ms/step - loss: 0.7767 - accuracy: 0.6373\n",
      "Epoch 74/100\n",
      "51/51 [==============================] - 2s 34ms/step - loss: 0.7735 - accuracy: 0.6471\n",
      "Epoch 75/100\n",
      "51/51 [==============================] - 2s 32ms/step - loss: 0.7683 - accuracy: 0.6667\n",
      "Epoch 76/100\n",
      "51/51 [==============================] - 2s 37ms/step - loss: 0.7644 - accuracy: 0.6471\n",
      "Epoch 77/100\n",
      "51/51 [==============================] - 1s 22ms/step - loss: 0.7575 - accuracy: 0.6765\n",
      "Epoch 78/100\n",
      "51/51 [==============================] - 1s 25ms/step - loss: 0.7561 - accuracy: 0.6471\n",
      "Epoch 79/100\n",
      "51/51 [==============================] - 2s 33ms/step - loss: 0.7504 - accuracy: 0.6373\n",
      "Epoch 80/100\n",
      "51/51 [==============================] - 2s 31ms/step - loss: 0.7468 - accuracy: 0.6471\n",
      "Epoch 81/100\n",
      "51/51 [==============================] - 1s 29ms/step - loss: 0.7456 - accuracy: 0.6471\n",
      "Epoch 82/100\n",
      "51/51 [==============================] - 1s 28ms/step - loss: 0.7400 - accuracy: 0.6275\n",
      "Epoch 83/100\n",
      "51/51 [==============================] - 2s 38ms/step - loss: 0.7365 - accuracy: 0.6569\n",
      "Epoch 84/100\n",
      "51/51 [==============================] - 2s 39ms/step - loss: 0.7280 - accuracy: 0.6373\n",
      "Epoch 85/100\n",
      "51/51 [==============================] - 1s 27ms/step - loss: 0.7271 - accuracy: 0.6569\n",
      "Epoch 86/100\n",
      "51/51 [==============================] - 2s 35ms/step - loss: 0.7262 - accuracy: 0.6373\n",
      "Epoch 87/100\n",
      "51/51 [==============================] - 1s 25ms/step - loss: 0.7219 - accuracy: 0.6471\n",
      "Epoch 88/100\n",
      "51/51 [==============================] - 2s 31ms/step - loss: 0.7186 - accuracy: 0.6471\n",
      "Epoch 89/100\n",
      "51/51 [==============================] - 2s 43ms/step - loss: 0.7124 - accuracy: 0.6471\n",
      "Epoch 90/100\n",
      "51/51 [==============================] - 2s 30ms/step - loss: 0.7072 - accuracy: 0.6471\n",
      "Epoch 91/100\n",
      "51/51 [==============================] - 2s 29ms/step - loss: 0.7053 - accuracy: 0.6569\n",
      "Epoch 92/100\n",
      "51/51 [==============================] - 2s 33ms/step - loss: 0.7012 - accuracy: 0.6275\n",
      "Epoch 93/100\n",
      "51/51 [==============================] - 2s 40ms/step - loss: 0.6960 - accuracy: 0.6569\n",
      "Epoch 94/100\n",
      "51/51 [==============================] - 1s 26ms/step - loss: 0.6998 - accuracy: 0.6569\n",
      "Epoch 95/100\n",
      "51/51 [==============================] - 2s 35ms/step - loss: 0.6913 - accuracy: 0.6569\n",
      "Epoch 96/100\n",
      "51/51 [==============================] - 2s 33ms/step - loss: 0.6920 - accuracy: 0.6471\n",
      "Epoch 97/100\n",
      "51/51 [==============================] - 1s 19ms/step - loss: 0.6874 - accuracy: 0.6667\n",
      "Epoch 98/100\n",
      "51/51 [==============================] - 1s 23ms/step - loss: 0.6850 - accuracy: 0.6471\n",
      "Epoch 99/100\n",
      "51/51 [==============================] - 1s 22ms/step - loss: 0.6838 - accuracy: 0.6569\n",
      "Epoch 100/100\n",
      "51/51 [==============================] - 1s 20ms/step - loss: 0.6814 - accuracy: 0.6471\n"
     ]
    }
   ],
   "source": [
    "history = model.fit(x_train, y_train,\n",
    "          epochs = 100, batch_size = 2)"
   ]
  },
  {
   "cell_type": "code",
   "execution_count": 58,
   "metadata": {},
   "outputs": [],
   "source": [
    "def result_visualization(model_result):\n",
    "    acc = model_result.history[\"accuracy\"]\n",
    "    lss = model_result.history[\"loss\"]\n",
    "    epochs = range(len(acc))\n",
    "    plt.plot(epochs, acc, 'b', label=\"Training Accuracy\")\n",
    "    plt.plot(epochs, lss, 'r', label=\"Training Loss\")\n",
    "    plt.title(\"Accuracy Graph\")\n",
    "    plt.legend(loc=0)\n",
    "    plt.figure()\n",
    "    plt.show()"
   ]
  },
  {
   "cell_type": "code",
   "execution_count": 62,
   "metadata": {},
   "outputs": [
    {
     "data": {
      "image/png": "[encoded data removed]",
      "text/plain": [
       "<Figure size 432x288 with 1 Axes>"
      ]
     },
     "metadata": {
      "needs_background": "light"
     },
     "output_type": "display_data"
    },
    {
     "data": {
      "text/plain": [
       "<Figure size 432x288 with 0 Axes>"
      ]
     },
     "metadata": {},
     "output_type": "display_data"
    }
   ],
   "source": [
    "result_visualization(history) # 100 epochs try"
   ]
  },
  {
   "cell_type": "code",
   "execution_count": 38,
   "metadata": {},
   "outputs": [
    {
     "data": {
      "image/png": "[encoded data removed]",
      "text/plain": [
       "<Figure size 432x288 with 1 Axes>"
      ]
     },
     "metadata": {
      "needs_background": "light"
     },
     "output_type": "display_data"
    },
    {
     "data": {
      "text/plain": [
       "<Figure size 432x288 with 0 Axes>"
      ]
     },
     "metadata": {},
     "output_type": "display_data"
    }
   ],
   "source": [
    "result_visualization(history) # 100 epochs using lstm (costum learning rate)"
   ]
  },
  {
   "cell_type": "code",
   "execution_count": 35,
   "metadata": {},
   "outputs": [
    {
     "data": {
      "image/png": "[encoded data removed]",
      "text/plain": [
       "<Figure size 432x288 with 1 Axes>"
      ]
     },
     "metadata": {
      "needs_background": "light"
     },
     "output_type": "display_data"
    },
    {
     "data": {
      "text/plain": [
       "<Figure size 432x288 with 0 Axes>"
      ]
     },
     "metadata": {},
     "output_type": "display_data"
    }
   ],
   "source": [
    "result_visualization(history) # 100 epochs using lstm"
   ]
  },
  {
   "cell_type": "code",
   "execution_count": 17,
   "metadata": {},
   "outputs": [
    {
     "data": {
      "image/png": "[encoded data removed]",
      "text/plain": [
       "<Figure size 432x288 with 1 Axes>"
      ]
     },
     "metadata": {
      "needs_background": "light"
     },
     "output_type": "display_data"
    },
    {
     "data": {
      "text/plain": [
       "<Figure size 432x288 with 0 Axes>"
      ]
     },
     "metadata": {},
     "output_type": "display_data"
    }
   ],
   "source": [
    "result_visualization(history) # 500 epochs"
   ]
  },
  {
   "cell_type": "code",
   "execution_count": 69,
   "metadata": {},
   "outputs": [
    {
     "data": {
      "image/png": "[encoded data removed]",
      "text/plain": [
       "<Figure size 432x288 with 1 Axes>"
      ]
     },
     "metadata": {
      "needs_background": "light"
     },
     "output_type": "display_data"
    },
    {
     "data": {
      "text/plain": [
       "<Figure size 432x288 with 0 Axes>"
      ]
     },
     "metadata": {},
     "output_type": "display_data"
    }
   ],
   "source": [
    "result_visualization(history) # 100 epochs"
   ]
  },
  {
   "cell_type": "code",
   "execution_count": 18,
   "metadata": {},
   "outputs": [
    {
     "name": "stdout",
     "output_type": "stream",
     "text": [
      "INFO:tensorflow:Assets written to: pedigree_male_model_1\\assets\n"
     ]
    }
   ],
   "source": [
    "model.save(\"pedigree_male_model_1\")"
   ]
  },
  {
   "cell_type": "code",
   "execution_count": 19,
   "metadata": {},
   "outputs": [],
   "source": [
    "def save_tflite(mode):\n",
    "    if mode.lower() == \"storage\":\n",
    "        return tf.lite.Optimize.OPTIMIZE_FOR_SIZE\n",
    "    elif mode.lower() == \"speed\":\n",
    "        return tf.lite.Optimize.OPTIMIZE_FOR_LATENCY\n",
    "    else:\n",
    "        return tf.lite.Optimize.DEFAULT"
   ]
  },
  {
   "cell_type": "code",
   "execution_count": 20,
   "metadata": {},
   "outputs": [
    {
     "name": "stdout",
     "output_type": "stream",
     "text": [
      "INFO:tensorflow:Assets written to: pedigree_male_model_tflite_1\\assets\n"
     ]
    }
   ],
   "source": [
    "export_path = \"pedigree_male_model_tflite_1\"\n",
    "tf.saved_model.save(model, export_path)"
   ]
  },
  {
   "cell_type": "code",
   "execution_count": 21,
   "metadata": {},
   "outputs": [
    {
     "name": "stderr",
     "output_type": "stream",
     "text": [
      "WARNING:absl:Optimization option OPTIMIZE_FOR_LATENCY is deprecated, please use optimizations=[Optimize.DEFAULT] instead.\n",
      "WARNING:absl:Optimization option OPTIMIZE_FOR_LATENCY is deprecated, please use optimizations=[Optimize.DEFAULT] instead.\n",
      "WARNING:absl:Optimization option OPTIMIZE_FOR_LATENCY is deprecated, please use optimizations=[Optimize.DEFAULT] instead.\n"
     ]
    }
   ],
   "source": [
    "converter = tf.lite.TFLiteConverter.from_saved_model(export_path)\n",
    "\n",
    "converter.optimizations = [save_tflite(\"speed\")]\n",
    "\n",
    "tflite_model = converter.convert()"
   ]
  },
  {
   "cell_type": "code",
   "execution_count": 24,
   "metadata": {},
   "outputs": [
    {
     "data": {
      "text/plain": [
       "10496"
      ]
     },
     "execution_count": 24,
     "metadata": {},
     "output_type": "execute_result"
    }
   ],
   "source": [
    "tflite_modelFile = pathlib.Path(\"pedigree_male_model_tflite_1.tflite\")\n",
    "tflite_modelFile.write_bytes(tflite_model)"
   ]
  },
  {
   "cell_type": "code",
   "execution_count": 25,
   "metadata": {},
   "outputs": [],
   "source": [
    "interpreter = tf.lite.Interpreter(model_content=tflite_model)\n",
    "interpreter.allocate_tensors()"
   ]
  }
 ],
 "metadata": {
  "interpreter": {
   "hash": "6a698132df0d61d2c04481168cd60695d48e6b3ce384607f3b1f9e0e40157999"
  },
  "kernelspec": {
   "display_name": "Python 3.9.1 64-bit",
   "language": "python",
   "name": "python3"
  },
  "language_info": {
   "codemirror_mode": {
    "name": "ipython",
    "version": 3
   },
   "file_extension": ".py",
   "mimetype": "text/x-python",
   "name": "python",
   "nbconvert_exporter": "python",
   "pygments_lexer": "ipython3",
   "version": "3.9.1"
  },
  "orig_nbformat": 4
 },
 "nbformat": 4,
 "nbformat_minor": 2
}
