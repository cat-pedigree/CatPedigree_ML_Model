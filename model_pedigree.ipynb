{
 "cells": [
  {
   "cell_type": "code",
   "execution_count": 1,
   "metadata": {},
   "outputs": [],
   "source": [
    "import numpy as np\n",
    "import pandas as pd\n",
    "import tensorflow as tf\n",
    "import sklearn as sk\n",
    "import matplotlib.pyplot as plt\n",
    "import pathlib\n",
    "from sklearn import model_selection"
   ]
  },
  {
   "cell_type": "code",
   "execution_count": 2,
   "metadata": {},
   "outputs": [
    {
     "name": "stdout",
     "output_type": "stream",
     "text": [
      "Tensorflow version              : 2.8.0\n",
      "Sklearn version                 : 1.0.2\n",
      "Pandas version                  : 1.4.1\n",
      "Numpy version                   : 1.22.2\n"
     ]
    }
   ],
   "source": [
    "print(f\"Tensorflow version              : {tf.__version__}\")\n",
    "print(f\"Sklearn version                 : {sk.__version__}\")\n",
    "print(f\"Pandas version                  : {pd.__version__}\")\n",
    "print(f\"Numpy version                   : {np.__version__}\")"
   ]
  },
  {
   "cell_type": "code",
   "execution_count": 3,
   "metadata": {},
   "outputs": [],
   "source": [
    "csvFile_path = \"pedigree_male_dataset.csv\"\n",
    "collumnName = [\n",
    "    \"base_color_male\",\n",
    "    \"with_white_male\",\n",
    "    \"base_color_female\",\n",
    "    \"with_white_female\",\n",
    "    \"color_prediction\"\n",
    "]\n",
    "\n",
    "categorical_feature_keys = [\n",
    "    \"base_color_male\",\n",
    "    \"base_color_female\"\n",
    "]\n",
    "\n",
    "numeric_feature_keys = [\n",
    "    \"with_white_male\",\n",
    "    \"with_white_female\"\n",
    "]\n",
    "\n",
    "label_key = \"color_prediction\""
   ]
  },
  {
   "cell_type": "code",
   "execution_count": 4,
   "metadata": {},
   "outputs": [
    {
     "data": {
      "text/html": [
       "<div>\n",
       "<style scoped>\n",
       "    .dataframe tbody tr th:only-of-type {\n",
       "        vertical-align: middle;\n",
       "    }\n",
       "\n",
       "    .dataframe tbody tr th {\n",
       "        vertical-align: top;\n",
       "    }\n",
       "\n",
       "    .dataframe thead th {\n",
       "        text-align: right;\n",
       "    }\n",
       "</style>\n",
       "<table border=\"1\" class=\"dataframe\">\n",
       "  <thead>\n",
       "    <tr style=\"text-align: right;\">\n",
       "      <th></th>\n",
       "      <th>base_color_male</th>\n",
       "      <th>with_white_male</th>\n",
       "      <th>base_color_female</th>\n",
       "      <th>with_white_female</th>\n",
       "      <th>color_prediction</th>\n",
       "    </tr>\n",
       "  </thead>\n",
       "  <tbody>\n",
       "    <tr>\n",
       "      <th>0</th>\n",
       "      <td>black</td>\n",
       "      <td>0</td>\n",
       "      <td>black</td>\n",
       "      <td>0</td>\n",
       "      <td>black</td>\n",
       "    </tr>\n",
       "    <tr>\n",
       "      <th>1</th>\n",
       "      <td>black</td>\n",
       "      <td>1</td>\n",
       "      <td>black</td>\n",
       "      <td>0</td>\n",
       "      <td>black</td>\n",
       "    </tr>\n",
       "    <tr>\n",
       "      <th>2</th>\n",
       "      <td>black</td>\n",
       "      <td>0</td>\n",
       "      <td>black</td>\n",
       "      <td>1</td>\n",
       "      <td>black</td>\n",
       "    </tr>\n",
       "    <tr>\n",
       "      <th>3</th>\n",
       "      <td>black</td>\n",
       "      <td>1</td>\n",
       "      <td>black</td>\n",
       "      <td>1</td>\n",
       "      <td>black</td>\n",
       "    </tr>\n",
       "    <tr>\n",
       "      <th>4</th>\n",
       "      <td>grey</td>\n",
       "      <td>0</td>\n",
       "      <td>grey</td>\n",
       "      <td>0</td>\n",
       "      <td>grey</td>\n",
       "    </tr>\n",
       "    <tr>\n",
       "      <th>5</th>\n",
       "      <td>grey</td>\n",
       "      <td>1</td>\n",
       "      <td>grey</td>\n",
       "      <td>0</td>\n",
       "      <td>grey</td>\n",
       "    </tr>\n",
       "    <tr>\n",
       "      <th>6</th>\n",
       "      <td>grey</td>\n",
       "      <td>0</td>\n",
       "      <td>grey</td>\n",
       "      <td>1</td>\n",
       "      <td>grey</td>\n",
       "    </tr>\n",
       "    <tr>\n",
       "      <th>7</th>\n",
       "      <td>grey</td>\n",
       "      <td>1</td>\n",
       "      <td>grey</td>\n",
       "      <td>1</td>\n",
       "      <td>grey</td>\n",
       "    </tr>\n",
       "    <tr>\n",
       "      <th>8</th>\n",
       "      <td>orange</td>\n",
       "      <td>0</td>\n",
       "      <td>orange</td>\n",
       "      <td>0</td>\n",
       "      <td>orange</td>\n",
       "    </tr>\n",
       "    <tr>\n",
       "      <th>9</th>\n",
       "      <td>orange</td>\n",
       "      <td>1</td>\n",
       "      <td>orange</td>\n",
       "      <td>0</td>\n",
       "      <td>orange</td>\n",
       "    </tr>\n",
       "  </tbody>\n",
       "</table>\n",
       "</div>"
      ],
      "text/plain": [
       "  base_color_male  with_white_male base_color_female  with_white_female  \\\n",
       "0           black                0             black                  0   \n",
       "1           black                1             black                  0   \n",
       "2           black                0             black                  1   \n",
       "3           black                1             black                  1   \n",
       "4            grey                0              grey                  0   \n",
       "5            grey                1              grey                  0   \n",
       "6            grey                0              grey                  1   \n",
       "7            grey                1              grey                  1   \n",
       "8          orange                0            orange                  0   \n",
       "9          orange                1            orange                  0   \n",
       "\n",
       "  color_prediction  \n",
       "0            black  \n",
       "1            black  \n",
       "2            black  \n",
       "3            black  \n",
       "4             grey  \n",
       "5             grey  \n",
       "6             grey  \n",
       "7             grey  \n",
       "8           orange  \n",
       "9           orange  "
      ]
     },
     "execution_count": 4,
     "metadata": {},
     "output_type": "execute_result"
    }
   ],
   "source": [
    "dataset = pd.read_csv(csvFile_path, names=collumnName, delimiter=\",\", header=0)\n",
    "\n",
    "dataset.head(10)"
   ]
  },
  {
   "cell_type": "code",
   "execution_count": 5,
   "metadata": {},
   "outputs": [
    {
     "name": "stdout",
     "output_type": "stream",
     "text": [
      "<class 'pandas.core.frame.DataFrame'>\n",
      "RangeIndex: 124 entries, 0 to 123\n",
      "Data columns (total 5 columns):\n",
      " #   Column             Non-Null Count  Dtype \n",
      "---  ------             --------------  ----- \n",
      " 0   base_color_male    124 non-null    object\n",
      " 1   with_white_male    124 non-null    int64 \n",
      " 2   base_color_female  124 non-null    object\n",
      " 3   with_white_female  124 non-null    int64 \n",
      " 4   color_prediction   124 non-null    object\n",
      "dtypes: int64(2), object(3)\n",
      "memory usage: 5.0+ KB\n"
     ]
    }
   ],
   "source": [
    "dataset.info()"
   ]
  },
  {
   "cell_type": "code",
   "execution_count": 6,
   "metadata": {},
   "outputs": [],
   "source": [
    "def feature_per_value(data, feature):\n",
    "    values_in_feature = data[feature].unique()\n",
    "    \n",
    "    values_convertDict = {}\n",
    "    for index, value in enumerate(values_in_feature):\n",
    "        values_convertDict[value] = index\n",
    "    \n",
    "    return values_convertDict"
   ]
  },
  {
   "cell_type": "code",
   "execution_count": 7,
   "metadata": {},
   "outputs": [
    {
     "name": "stdout",
     "output_type": "stream",
     "text": [
      "Base Male Color convert value: {'black': 0, 'grey': 1, 'orange': 2, 'silver': 3}\n",
      "Base Female Color convert value: {'black': 0, 'grey': 1, 'orange': 2, 'silver': 3, 'black tortie': 4, 'grey tortie': 5}\n",
      "Prediction Color convert value: {'black': 0, 'grey': 1, 'orange': 2, 'silver': 3}\n"
     ]
    }
   ],
   "source": [
    "maleColor = feature_per_value(dataset, categorical_feature_keys[0])\n",
    "femaleColor = feature_per_value(dataset, categorical_feature_keys[1])\n",
    "labelColor = feature_per_value(dataset, label_key)\n",
    "\n",
    "print(f\"Base Male Color convert value: {maleColor}\",\n",
    "      f\"Base Female Color convert value: {femaleColor}\",\n",
    "      f\"Prediction Color convert value: {labelColor}\",\n",
    "      sep=\"\\n\")"
   ]
  },
  {
   "cell_type": "code",
   "execution_count": 8,
   "metadata": {},
   "outputs": [
    {
     "data": {
      "text/html": [
       "<div>\n",
       "<style scoped>\n",
       "    .dataframe tbody tr th:only-of-type {\n",
       "        vertical-align: middle;\n",
       "    }\n",
       "\n",
       "    .dataframe tbody tr th {\n",
       "        vertical-align: top;\n",
       "    }\n",
       "\n",
       "    .dataframe thead th {\n",
       "        text-align: right;\n",
       "    }\n",
       "</style>\n",
       "<table border=\"1\" class=\"dataframe\">\n",
       "  <thead>\n",
       "    <tr style=\"text-align: right;\">\n",
       "      <th></th>\n",
       "      <th>base_color_male</th>\n",
       "      <th>with_white_male</th>\n",
       "      <th>base_color_female</th>\n",
       "      <th>with_white_female</th>\n",
       "      <th>color_prediction</th>\n",
       "    </tr>\n",
       "  </thead>\n",
       "  <tbody>\n",
       "    <tr>\n",
       "      <th>36</th>\n",
       "      <td>grey</td>\n",
       "      <td>0</td>\n",
       "      <td>orange</td>\n",
       "      <td>0</td>\n",
       "      <td>orange</td>\n",
       "    </tr>\n",
       "    <tr>\n",
       "      <th>114</th>\n",
       "      <td>orange</td>\n",
       "      <td>1</td>\n",
       "      <td>grey tortie</td>\n",
       "      <td>1</td>\n",
       "      <td>black</td>\n",
       "    </tr>\n",
       "    <tr>\n",
       "      <th>27</th>\n",
       "      <td>black</td>\n",
       "      <td>1</td>\n",
       "      <td>orange</td>\n",
       "      <td>1</td>\n",
       "      <td>orange</td>\n",
       "    </tr>\n",
       "    <tr>\n",
       "      <th>51</th>\n",
       "      <td>silver</td>\n",
       "      <td>1</td>\n",
       "      <td>grey</td>\n",
       "      <td>1</td>\n",
       "      <td>grey</td>\n",
       "    </tr>\n",
       "    <tr>\n",
       "      <th>76</th>\n",
       "      <td>orange</td>\n",
       "      <td>0</td>\n",
       "      <td>black tortie</td>\n",
       "      <td>0</td>\n",
       "      <td>black</td>\n",
       "    </tr>\n",
       "    <tr>\n",
       "      <th>23</th>\n",
       "      <td>black</td>\n",
       "      <td>1</td>\n",
       "      <td>grey</td>\n",
       "      <td>1</td>\n",
       "      <td>black</td>\n",
       "    </tr>\n",
       "    <tr>\n",
       "      <th>112</th>\n",
       "      <td>orange</td>\n",
       "      <td>0</td>\n",
       "      <td>grey tortie</td>\n",
       "      <td>1</td>\n",
       "      <td>black</td>\n",
       "    </tr>\n",
       "    <tr>\n",
       "      <th>15</th>\n",
       "      <td>silver</td>\n",
       "      <td>1</td>\n",
       "      <td>silver</td>\n",
       "      <td>1</td>\n",
       "      <td>silver</td>\n",
       "    </tr>\n",
       "    <tr>\n",
       "      <th>18</th>\n",
       "      <td>grey</td>\n",
       "      <td>0</td>\n",
       "      <td>black</td>\n",
       "      <td>1</td>\n",
       "      <td>black</td>\n",
       "    </tr>\n",
       "    <tr>\n",
       "      <th>102</th>\n",
       "      <td>grey</td>\n",
       "      <td>1</td>\n",
       "      <td>grey tortie</td>\n",
       "      <td>0</td>\n",
       "      <td>grey</td>\n",
       "    </tr>\n",
       "  </tbody>\n",
       "</table>\n",
       "</div>"
      ],
      "text/plain": [
       "    base_color_male  with_white_male base_color_female  with_white_female  \\\n",
       "36             grey                0            orange                  0   \n",
       "114          orange                1       grey tortie                  1   \n",
       "27            black                1            orange                  1   \n",
       "51           silver                1              grey                  1   \n",
       "76           orange                0      black tortie                  0   \n",
       "23            black                1              grey                  1   \n",
       "112          orange                0       grey tortie                  1   \n",
       "15           silver                1            silver                  1   \n",
       "18             grey                0             black                  1   \n",
       "102            grey                1       grey tortie                  0   \n",
       "\n",
       "    color_prediction  \n",
       "36            orange  \n",
       "114            black  \n",
       "27            orange  \n",
       "51              grey  \n",
       "76             black  \n",
       "23             black  \n",
       "112            black  \n",
       "15            silver  \n",
       "18             black  \n",
       "102             grey  "
      ]
     },
     "execution_count": 8,
     "metadata": {},
     "output_type": "execute_result"
    }
   ],
   "source": [
    "dataset = sk.utils.shuffle(dataset)\n",
    "\n",
    "dataset.head(10)"
   ]
  },
  {
   "cell_type": "code",
   "execution_count": 9,
   "metadata": {},
   "outputs": [
    {
     "data": {
      "text/html": [
       "<div>\n",
       "<style scoped>\n",
       "    .dataframe tbody tr th:only-of-type {\n",
       "        vertical-align: middle;\n",
       "    }\n",
       "\n",
       "    .dataframe tbody tr th {\n",
       "        vertical-align: top;\n",
       "    }\n",
       "\n",
       "    .dataframe thead th {\n",
       "        text-align: right;\n",
       "    }\n",
       "</style>\n",
       "<table border=\"1\" class=\"dataframe\">\n",
       "  <thead>\n",
       "    <tr style=\"text-align: right;\">\n",
       "      <th></th>\n",
       "      <th>base_color_male</th>\n",
       "      <th>with_white_male</th>\n",
       "      <th>base_color_female</th>\n",
       "      <th>with_white_female</th>\n",
       "      <th>color_prediction</th>\n",
       "    </tr>\n",
       "  </thead>\n",
       "  <tbody>\n",
       "    <tr>\n",
       "      <th>36</th>\n",
       "      <td>1</td>\n",
       "      <td>0</td>\n",
       "      <td>2</td>\n",
       "      <td>0</td>\n",
       "      <td>orange</td>\n",
       "    </tr>\n",
       "    <tr>\n",
       "      <th>114</th>\n",
       "      <td>2</td>\n",
       "      <td>1</td>\n",
       "      <td>5</td>\n",
       "      <td>1</td>\n",
       "      <td>black</td>\n",
       "    </tr>\n",
       "    <tr>\n",
       "      <th>27</th>\n",
       "      <td>0</td>\n",
       "      <td>1</td>\n",
       "      <td>2</td>\n",
       "      <td>1</td>\n",
       "      <td>orange</td>\n",
       "    </tr>\n",
       "    <tr>\n",
       "      <th>51</th>\n",
       "      <td>3</td>\n",
       "      <td>1</td>\n",
       "      <td>1</td>\n",
       "      <td>1</td>\n",
       "      <td>grey</td>\n",
       "    </tr>\n",
       "    <tr>\n",
       "      <th>76</th>\n",
       "      <td>2</td>\n",
       "      <td>0</td>\n",
       "      <td>4</td>\n",
       "      <td>0</td>\n",
       "      <td>black</td>\n",
       "    </tr>\n",
       "    <tr>\n",
       "      <th>23</th>\n",
       "      <td>0</td>\n",
       "      <td>1</td>\n",
       "      <td>1</td>\n",
       "      <td>1</td>\n",
       "      <td>black</td>\n",
       "    </tr>\n",
       "    <tr>\n",
       "      <th>112</th>\n",
       "      <td>2</td>\n",
       "      <td>0</td>\n",
       "      <td>5</td>\n",
       "      <td>1</td>\n",
       "      <td>black</td>\n",
       "    </tr>\n",
       "    <tr>\n",
       "      <th>15</th>\n",
       "      <td>3</td>\n",
       "      <td>1</td>\n",
       "      <td>3</td>\n",
       "      <td>1</td>\n",
       "      <td>silver</td>\n",
       "    </tr>\n",
       "    <tr>\n",
       "      <th>18</th>\n",
       "      <td>1</td>\n",
       "      <td>0</td>\n",
       "      <td>0</td>\n",
       "      <td>1</td>\n",
       "      <td>black</td>\n",
       "    </tr>\n",
       "    <tr>\n",
       "      <th>102</th>\n",
       "      <td>1</td>\n",
       "      <td>1</td>\n",
       "      <td>5</td>\n",
       "      <td>0</td>\n",
       "      <td>grey</td>\n",
       "    </tr>\n",
       "  </tbody>\n",
       "</table>\n",
       "</div>"
      ],
      "text/plain": [
       "     base_color_male  with_white_male  base_color_female  with_white_female  \\\n",
       "36                 1                0                  2                  0   \n",
       "114                2                1                  5                  1   \n",
       "27                 0                1                  2                  1   \n",
       "51                 3                1                  1                  1   \n",
       "76                 2                0                  4                  0   \n",
       "23                 0                1                  1                  1   \n",
       "112                2                0                  5                  1   \n",
       "15                 3                1                  3                  1   \n",
       "18                 1                0                  0                  1   \n",
       "102                1                1                  5                  0   \n",
       "\n",
       "    color_prediction  \n",
       "36            orange  \n",
       "114            black  \n",
       "27            orange  \n",
       "51              grey  \n",
       "76             black  \n",
       "23             black  \n",
       "112            black  \n",
       "15            silver  \n",
       "18             black  \n",
       "102             grey  "
      ]
     },
     "execution_count": 9,
     "metadata": {},
     "output_type": "execute_result"
    }
   ],
   "source": [
    "dataset[categorical_feature_keys[0]] = dataset[categorical_feature_keys[0]].map(maleColor)\n",
    "dataset[categorical_feature_keys[1]] = dataset[categorical_feature_keys[1]].map(femaleColor)\n",
    "\n",
    "dataset.head(10)"
   ]
  },
  {
   "cell_type": "code",
   "execution_count": 10,
   "metadata": {},
   "outputs": [
    {
     "name": "stdout",
     "output_type": "stream",
     "text": [
      "     base_color_male  with_white_male  base_color_female  with_white_female\n",
      "36                 1                0                  2                  0\n",
      "114                2                1                  5                  1\n",
      "27                 0                1                  2                  1\n",
      "51                 3                1                  1                  1\n",
      "76                 2                0                  4                  0\n",
      "23                 0                1                  1                  1\n",
      "112                2                0                  5                  1\n",
      "15                 3                1                  3                  1\n",
      "18                 1                0                  0                  1\n",
      "102                1                1                  5                  0\n",
      "\n",
      "36     orange\n",
      "114     black\n",
      "27     orange\n",
      "51       grey\n",
      "76      black\n",
      "23      black\n",
      "112     black\n",
      "15     silver\n",
      "18      black\n",
      "102      grey\n",
      "Name: color_prediction, dtype: object\n"
     ]
    }
   ],
   "source": [
    "dataFeature_x = dataset.drop(label_key, axis=1)\n",
    "datalabel_y = dataset[label_key]\n",
    "\n",
    "print(dataFeature_x.head(10), datalabel_y.head(10), sep=\"\\n\\n\")"
   ]
  },
  {
   "cell_type": "code",
   "execution_count": 11,
   "metadata": {},
   "outputs": [],
   "source": [
    "encoder = sk.preprocessing.LabelEncoder()\n",
    "encoder.fit(datalabel_y)\n",
    "datalabel_y = encoder.transform(datalabel_y)\n",
    "datalabel_y = tf.keras.utils.to_categorical(datalabel_y)"
   ]
  },
  {
   "cell_type": "code",
   "execution_count": 12,
   "metadata": {},
   "outputs": [],
   "source": [
    "x_train, x_test, y_train, y_test = model_selection.train_test_split(dataFeature_x, datalabel_y, test_size=0.2)"
   ]
  },
  {
   "cell_type": "code",
   "execution_count": 13,
   "metadata": {},
   "outputs": [],
   "source": [
    "x_train = x_train.astype(float)\n",
    "x_test = x_test.astype(float)\n",
    "y_train = y_train.astype(float)\n",
    "y_test = y_test.astype(float)"
   ]
  },
  {
   "cell_type": "code",
   "execution_count": 14,
   "metadata": {},
   "outputs": [],
   "source": [
    "x_train = np.array(x_train)\n",
    "x_test = np.array(x_test)\n",
    "y_train = np.array(y_train)\n",
    "y_test = np.array(y_test)"
   ]
  },
  {
   "cell_type": "code",
   "execution_count": 81,
   "metadata": {},
   "outputs": [],
   "source": [
    "model = tf.keras.models.Sequential([\n",
    "    tf.keras.layers.Embedding(\n",
    "        input_dim=6,\n",
    "        output_dim=64),\n",
    "    tf.keras.layers.Bidirectional(tf.keras.layers.LSTM(64)),\n",
    "    tf.keras.layers.Dense(50, activation=\"relu\"),\n",
    "    tf.keras.layers.Dense(5, activation=\"softmax\")\n",
    "])\n",
    "\n",
    "model.compile(\n",
    "    loss = tf.keras.losses.CategoricalCrossentropy(),\n",
    "    optimizer = tf.keras.optimizers.RMSprop(learning_rate=0.0001),\n",
    "    metrics = [\"accuracy\"]\n",
    ")"
   ]
  },
  {
   "cell_type": "code",
   "execution_count": 24,
   "metadata": {},
   "outputs": [],
   "source": [
    "model = tf.keras.models.Sequential()\n",
    "model.add(tf.keras.layers.Dense(50, activation=\"relu\"))\n",
    "model.add(tf.keras.layers.Dense(100, activation=\"relu\"))\n",
    "model.add(tf.keras.layers.Dense(200, activation=\"relu\"))\n",
    "model.add(tf.keras.layers.Dense(400, activation=\"relu\"))\n",
    "model.add(tf.keras.layers.Dense(4, activation=\"softmax\"))\n",
    "\n",
    "model.compile(\n",
    "    loss = \"categorical_crossentropy\",\n",
    "    optimizer = tf.keras.optimizers.Adam(0.001),\n",
    "    metrics = [\"accuracy\"]\n",
    ")"
   ]
  },
  {
   "cell_type": "code",
   "execution_count": 43,
   "metadata": {},
   "outputs": [],
   "source": [
    "model = tf.keras.models.Sequential()\n",
    "model.add(tf.keras.layers.Dense(32, activation=\"relu\"))\n",
    "model.add(tf.keras.layers.Dense(32, activation=\"relu\"))\n",
    "model.add(tf.keras.layers.Dense(64, activation=\"relu\"))\n",
    "model.add(tf.keras.layers.Dense(64, activation=\"relu\"))\n",
    "model.add(tf.keras.layers.Dense(128, activation=\"relu\"))\n",
    "model.add(tf.keras.layers.Dense(128, activation=\"relu\"))\n",
    "model.add(tf.keras.layers.)\n",
    "model.add(tf.keras.layers.Dense(4, activation=\"softmax\"))\n",
    "\n",
    "model.compile(\n",
    "    loss = \"categorical_crossentropy\",\n",
    "    optimizer = tf.keras.optimizers.Adam(0.001),\n",
    "    metrics = [\"accuracy\"]\n",
    ")"
   ]
  },
  {
   "cell_type": "code",
   "execution_count": 44,
   "metadata": {},
   "outputs": [
    {
     "name": "stdout",
     "output_type": "stream",
     "text": [
      "Epoch 1/250\n",
      "4/4 [==============================] - 2s 19ms/step - loss: 1.3633 - accuracy: 0.3636\n",
      "Epoch 2/250\n",
      "4/4 [==============================] - 0s 20ms/step - loss: 1.3122 - accuracy: 0.5152\n",
      "Epoch 3/250\n",
      "4/4 [==============================] - 0s 15ms/step - loss: 1.2569 - accuracy: 0.4747\n",
      "Epoch 4/250\n",
      "4/4 [==============================] - 0s 11ms/step - loss: 1.2658 - accuracy: 0.5455\n",
      "Epoch 5/250\n",
      "4/4 [==============================] - 0s 16ms/step - loss: 1.2850 - accuracy: 0.5051\n",
      "Epoch 6/250\n",
      "4/4 [==============================] - 0s 13ms/step - loss: 1.2502 - accuracy: 0.4949\n",
      "Epoch 7/250\n",
      "4/4 [==============================] - 0s 14ms/step - loss: 1.2314 - accuracy: 0.5253\n",
      "Epoch 8/250\n",
      "4/4 [==============================] - 0s 20ms/step - loss: 1.1986 - accuracy: 0.5253\n",
      "Epoch 9/250\n",
      "4/4 [==============================] - 0s 25ms/step - loss: 1.1726 - accuracy: 0.5152\n",
      "Epoch 10/250\n",
      "4/4 [==============================] - 0s 20ms/step - loss: 1.1521 - accuracy: 0.4848\n",
      "Epoch 11/250\n",
      "4/4 [==============================] - 0s 15ms/step - loss: 1.1386 - accuracy: 0.5354\n",
      "Epoch 12/250\n",
      "4/4 [==============================] - 0s 22ms/step - loss: 1.1029 - accuracy: 0.5455\n",
      "Epoch 13/250\n",
      "4/4 [==============================] - 0s 23ms/step - loss: 1.0876 - accuracy: 0.5253\n",
      "Epoch 14/250\n",
      "4/4 [==============================] - 0s 16ms/step - loss: 1.1035 - accuracy: 0.5556\n",
      "Epoch 15/250\n",
      "4/4 [==============================] - 0s 19ms/step - loss: 1.0916 - accuracy: 0.5455\n",
      "Epoch 16/250\n",
      "4/4 [==============================] - 0s 23ms/step - loss: 1.0793 - accuracy: 0.5152\n",
      "Epoch 17/250\n",
      "4/4 [==============================] - 0s 16ms/step - loss: 1.0609 - accuracy: 0.5354\n",
      "Epoch 18/250\n",
      "4/4 [==============================] - 0s 18ms/step - loss: 1.0589 - accuracy: 0.5354\n",
      "Epoch 19/250\n",
      "4/4 [==============================] - 0s 30ms/step - loss: 1.0660 - accuracy: 0.5354\n",
      "Epoch 20/250\n",
      "4/4 [==============================] - 0s 21ms/step - loss: 1.0719 - accuracy: 0.5354\n",
      "Epoch 21/250\n",
      "4/4 [==============================] - 0s 15ms/step - loss: 1.0426 - accuracy: 0.5354\n",
      "Epoch 22/250\n",
      "4/4 [==============================] - 0s 21ms/step - loss: 1.0479 - accuracy: 0.5354\n",
      "Epoch 23/250\n",
      "4/4 [==============================] - 0s 14ms/step - loss: 1.0435 - accuracy: 0.5455\n",
      "Epoch 24/250\n",
      "4/4 [==============================] - 0s 21ms/step - loss: 1.0084 - accuracy: 0.5455\n",
      "Epoch 25/250\n",
      "4/4 [==============================] - 0s 20ms/step - loss: 1.0169 - accuracy: 0.5556\n",
      "Epoch 26/250\n",
      "4/4 [==============================] - 0s 21ms/step - loss: 0.9976 - accuracy: 0.5253\n",
      "Epoch 27/250\n",
      "4/4 [==============================] - 0s 16ms/step - loss: 0.9963 - accuracy: 0.5556\n",
      "Epoch 28/250\n",
      "4/4 [==============================] - 0s 18ms/step - loss: 0.9861 - accuracy: 0.5455\n",
      "Epoch 29/250\n",
      "4/4 [==============================] - 0s 20ms/step - loss: 0.9914 - accuracy: 0.5556\n",
      "Epoch 30/250\n",
      "4/4 [==============================] - 0s 21ms/step - loss: 0.9788 - accuracy: 0.5455\n",
      "Epoch 31/250\n",
      "4/4 [==============================] - 0s 16ms/step - loss: 0.9776 - accuracy: 0.5657\n",
      "Epoch 32/250\n",
      "4/4 [==============================] - 0s 16ms/step - loss: 0.9795 - accuracy: 0.5556\n",
      "Epoch 33/250\n",
      "4/4 [==============================] - 0s 14ms/step - loss: 0.9525 - accuracy: 0.5960\n",
      "Epoch 34/250\n",
      "4/4 [==============================] - 0s 14ms/step - loss: 0.9867 - accuracy: 0.4848\n",
      "Epoch 35/250\n",
      "4/4 [==============================] - 0s 19ms/step - loss: 0.9469 - accuracy: 0.5051\n",
      "Epoch 36/250\n",
      "4/4 [==============================] - 0s 15ms/step - loss: 0.9443 - accuracy: 0.5758\n",
      "Epoch 37/250\n",
      "4/4 [==============================] - 0s 16ms/step - loss: 0.9463 - accuracy: 0.5152\n",
      "Epoch 38/250\n",
      "4/4 [==============================] - 0s 16ms/step - loss: 0.9363 - accuracy: 0.5556\n",
      "Epoch 39/250\n",
      "4/4 [==============================] - 0s 15ms/step - loss: 0.9307 - accuracy: 0.5455\n",
      "Epoch 40/250\n",
      "4/4 [==============================] - 0s 14ms/step - loss: 0.9347 - accuracy: 0.5556\n",
      "Epoch 41/250\n",
      "4/4 [==============================] - 0s 13ms/step - loss: 0.9275 - accuracy: 0.5556\n",
      "Epoch 42/250\n",
      "4/4 [==============================] - 0s 18ms/step - loss: 0.9096 - accuracy: 0.5758\n",
      "Epoch 43/250\n",
      "4/4 [==============================] - 0s 16ms/step - loss: 0.8884 - accuracy: 0.6061\n",
      "Epoch 44/250\n",
      "4/4 [==============================] - 0s 20ms/step - loss: 0.9063 - accuracy: 0.5455\n",
      "Epoch 45/250\n",
      "4/4 [==============================] - 0s 14ms/step - loss: 0.8964 - accuracy: 0.5455\n",
      "Epoch 46/250\n",
      "4/4 [==============================] - 0s 18ms/step - loss: 0.8821 - accuracy: 0.5556\n",
      "Epoch 47/250\n",
      "4/4 [==============================] - 0s 17ms/step - loss: 0.8770 - accuracy: 0.5556\n",
      "Epoch 48/250\n",
      "4/4 [==============================] - 0s 31ms/step - loss: 0.8899 - accuracy: 0.5758\n",
      "Epoch 49/250\n",
      "4/4 [==============================] - 0s 16ms/step - loss: 0.8914 - accuracy: 0.5253\n",
      "Epoch 50/250\n",
      "4/4 [==============================] - 0s 13ms/step - loss: 0.8954 - accuracy: 0.5556\n",
      "Epoch 51/250\n",
      "4/4 [==============================] - 0s 12ms/step - loss: 0.8868 - accuracy: 0.5657\n",
      "Epoch 52/250\n",
      "4/4 [==============================] - 0s 19ms/step - loss: 0.8924 - accuracy: 0.5960\n",
      "Epoch 53/250\n",
      "4/4 [==============================] - 0s 15ms/step - loss: 0.8861 - accuracy: 0.5758\n",
      "Epoch 54/250\n",
      "4/4 [==============================] - 0s 13ms/step - loss: 0.8674 - accuracy: 0.5758\n",
      "Epoch 55/250\n",
      "4/4 [==============================] - 0s 12ms/step - loss: 0.8635 - accuracy: 0.5859\n",
      "Epoch 56/250\n",
      "4/4 [==============================] - 0s 21ms/step - loss: 0.8801 - accuracy: 0.5556\n",
      "Epoch 57/250\n",
      "4/4 [==============================] - 0s 16ms/step - loss: 0.8783 - accuracy: 0.6162\n",
      "Epoch 58/250\n",
      "4/4 [==============================] - 0s 14ms/step - loss: 0.8721 - accuracy: 0.5859\n",
      "Epoch 59/250\n",
      "4/4 [==============================] - 0s 16ms/step - loss: 0.8552 - accuracy: 0.6162\n",
      "Epoch 60/250\n",
      "4/4 [==============================] - 0s 15ms/step - loss: 0.8491 - accuracy: 0.5960\n",
      "Epoch 61/250\n",
      "4/4 [==============================] - 0s 14ms/step - loss: 0.8541 - accuracy: 0.5758\n",
      "Epoch 62/250\n",
      "4/4 [==============================] - 0s 16ms/step - loss: 0.8255 - accuracy: 0.6566\n",
      "Epoch 63/250\n",
      "4/4 [==============================] - 0s 15ms/step - loss: 0.8643 - accuracy: 0.6263\n",
      "Epoch 64/250\n",
      "4/4 [==============================] - 0s 18ms/step - loss: 0.8631 - accuracy: 0.6061\n",
      "Epoch 65/250\n",
      "4/4 [==============================] - 0s 15ms/step - loss: 0.8470 - accuracy: 0.5758\n",
      "Epoch 66/250\n",
      "4/4 [==============================] - 0s 45ms/step - loss: 0.8531 - accuracy: 0.5960\n",
      "Epoch 67/250\n",
      "4/4 [==============================] - 0s 13ms/step - loss: 0.8341 - accuracy: 0.5758\n",
      "Epoch 68/250\n",
      "4/4 [==============================] - 0s 18ms/step - loss: 0.8321 - accuracy: 0.5960\n",
      "Epoch 69/250\n",
      "4/4 [==============================] - 0s 17ms/step - loss: 0.8069 - accuracy: 0.6162\n",
      "Epoch 70/250\n",
      "4/4 [==============================] - 0s 16ms/step - loss: 0.8507 - accuracy: 0.5960\n",
      "Epoch 71/250\n",
      "4/4 [==============================] - 0s 12ms/step - loss: 0.8132 - accuracy: 0.5758\n",
      "Epoch 72/250\n",
      "4/4 [==============================] - 0s 18ms/step - loss: 0.8427 - accuracy: 0.6162\n",
      "Epoch 73/250\n",
      "4/4 [==============================] - 0s 18ms/step - loss: 0.8214 - accuracy: 0.5657\n",
      "Epoch 74/250\n",
      "4/4 [==============================] - 0s 18ms/step - loss: 0.8120 - accuracy: 0.5960\n",
      "Epoch 75/250\n",
      "4/4 [==============================] - 0s 13ms/step - loss: 0.8805 - accuracy: 0.5960\n",
      "Epoch 76/250\n",
      "4/4 [==============================] - 0s 17ms/step - loss: 0.8188 - accuracy: 0.5859\n",
      "Epoch 77/250\n",
      "4/4 [==============================] - 0s 14ms/step - loss: 0.7910 - accuracy: 0.5960\n",
      "Epoch 78/250\n",
      "4/4 [==============================] - 0s 23ms/step - loss: 0.7799 - accuracy: 0.6263\n",
      "Epoch 79/250\n",
      "4/4 [==============================] - 0s 19ms/step - loss: 0.8063 - accuracy: 0.6263\n",
      "Epoch 80/250\n",
      "4/4 [==============================] - 0s 16ms/step - loss: 0.8154 - accuracy: 0.5960\n",
      "Epoch 81/250\n",
      "4/4 [==============================] - 0s 16ms/step - loss: 0.7873 - accuracy: 0.6061\n",
      "Epoch 82/250\n",
      "4/4 [==============================] - 0s 16ms/step - loss: 0.8142 - accuracy: 0.5960\n",
      "Epoch 83/250\n",
      "4/4 [==============================] - 0s 15ms/step - loss: 0.7781 - accuracy: 0.6162\n",
      "Epoch 84/250\n",
      "4/4 [==============================] - 0s 23ms/step - loss: 0.8038 - accuracy: 0.6364\n",
      "Epoch 85/250\n",
      "4/4 [==============================] - 0s 22ms/step - loss: 0.8164 - accuracy: 0.6061\n",
      "Epoch 86/250\n",
      "4/4 [==============================] - 0s 11ms/step - loss: 0.8049 - accuracy: 0.6162\n",
      "Epoch 87/250\n",
      "4/4 [==============================] - 0s 17ms/step - loss: 0.7847 - accuracy: 0.6162\n",
      "Epoch 88/250\n",
      "4/4 [==============================] - 0s 22ms/step - loss: 0.8142 - accuracy: 0.5758\n",
      "Epoch 89/250\n",
      "4/4 [==============================] - 0s 16ms/step - loss: 0.8188 - accuracy: 0.5657\n",
      "Epoch 90/250\n",
      "4/4 [==============================] - 0s 20ms/step - loss: 0.7898 - accuracy: 0.5960\n",
      "Epoch 91/250\n",
      "4/4 [==============================] - 0s 14ms/step - loss: 0.8094 - accuracy: 0.5960\n",
      "Epoch 92/250\n",
      "4/4 [==============================] - 0s 18ms/step - loss: 0.7765 - accuracy: 0.6061\n",
      "Epoch 93/250\n",
      "4/4 [==============================] - 0s 18ms/step - loss: 0.7558 - accuracy: 0.6162\n",
      "Epoch 94/250\n",
      "4/4 [==============================] - 0s 15ms/step - loss: 0.7711 - accuracy: 0.5859\n",
      "Epoch 95/250\n",
      "4/4 [==============================] - 0s 18ms/step - loss: 0.7817 - accuracy: 0.6263\n",
      "Epoch 96/250\n",
      "4/4 [==============================] - 0s 15ms/step - loss: 0.7769 - accuracy: 0.6162\n",
      "Epoch 97/250\n",
      "4/4 [==============================] - 0s 14ms/step - loss: 0.7910 - accuracy: 0.6162\n",
      "Epoch 98/250\n",
      "4/4 [==============================] - 0s 21ms/step - loss: 0.7832 - accuracy: 0.5960\n",
      "Epoch 99/250\n",
      "4/4 [==============================] - 0s 16ms/step - loss: 0.7575 - accuracy: 0.6263\n",
      "Epoch 100/250\n",
      "4/4 [==============================] - 0s 20ms/step - loss: 0.7666 - accuracy: 0.5859\n",
      "Epoch 101/250\n",
      "4/4 [==============================] - 0s 14ms/step - loss: 0.7577 - accuracy: 0.5960\n",
      "Epoch 102/250\n",
      "4/4 [==============================] - 0s 26ms/step - loss: 0.7695 - accuracy: 0.6162\n",
      "Epoch 103/250\n",
      "4/4 [==============================] - 0s 17ms/step - loss: 0.7415 - accuracy: 0.5859\n",
      "Epoch 104/250\n",
      "4/4 [==============================] - 0s 18ms/step - loss: 0.7661 - accuracy: 0.5960\n",
      "Epoch 105/250\n",
      "4/4 [==============================] - 0s 16ms/step - loss: 0.7792 - accuracy: 0.5960\n",
      "Epoch 106/250\n",
      "4/4 [==============================] - 0s 18ms/step - loss: 0.7705 - accuracy: 0.6061\n",
      "Epoch 107/250\n",
      "4/4 [==============================] - 0s 22ms/step - loss: 0.7524 - accuracy: 0.5758\n",
      "Epoch 108/250\n",
      "4/4 [==============================] - 0s 17ms/step - loss: 0.7473 - accuracy: 0.5859\n",
      "Epoch 109/250\n",
      "4/4 [==============================] - 0s 18ms/step - loss: 0.7716 - accuracy: 0.5556\n",
      "Epoch 110/250\n",
      "4/4 [==============================] - 0s 21ms/step - loss: 0.7410 - accuracy: 0.5960\n",
      "Epoch 111/250\n",
      "4/4 [==============================] - 0s 12ms/step - loss: 0.7282 - accuracy: 0.6061\n",
      "Epoch 112/250\n",
      "4/4 [==============================] - 0s 18ms/step - loss: 0.7499 - accuracy: 0.5859\n",
      "Epoch 113/250\n",
      "4/4 [==============================] - 0s 23ms/step - loss: 0.7370 - accuracy: 0.6162\n",
      "Epoch 114/250\n",
      "4/4 [==============================] - 0s 19ms/step - loss: 0.7703 - accuracy: 0.5758\n",
      "Epoch 115/250\n",
      "4/4 [==============================] - 0s 19ms/step - loss: 0.7432 - accuracy: 0.6364\n",
      "Epoch 116/250\n",
      "4/4 [==============================] - 0s 18ms/step - loss: 0.7472 - accuracy: 0.6263\n",
      "Epoch 117/250\n",
      "4/4 [==============================] - 0s 25ms/step - loss: 0.7363 - accuracy: 0.6061\n",
      "Epoch 118/250\n",
      "4/4 [==============================] - 0s 26ms/step - loss: 0.7327 - accuracy: 0.6263\n",
      "Epoch 119/250\n",
      "4/4 [==============================] - 0s 25ms/step - loss: 0.7547 - accuracy: 0.6364\n",
      "Epoch 120/250\n",
      "4/4 [==============================] - 0s 20ms/step - loss: 0.7809 - accuracy: 0.5960\n",
      "Epoch 121/250\n",
      "4/4 [==============================] - 0s 20ms/step - loss: 0.7486 - accuracy: 0.6263\n",
      "Epoch 122/250\n",
      "4/4 [==============================] - 0s 17ms/step - loss: 0.7201 - accuracy: 0.6061\n",
      "Epoch 123/250\n",
      "4/4 [==============================] - 0s 14ms/step - loss: 0.7321 - accuracy: 0.6263\n",
      "Epoch 124/250\n",
      "4/4 [==============================] - 0s 19ms/step - loss: 0.7506 - accuracy: 0.5758\n",
      "Epoch 125/250\n",
      "4/4 [==============================] - 0s 20ms/step - loss: 0.7177 - accuracy: 0.5960\n",
      "Epoch 126/250\n",
      "4/4 [==============================] - 0s 18ms/step - loss: 0.7318 - accuracy: 0.5657\n",
      "Epoch 127/250\n",
      "4/4 [==============================] - 0s 20ms/step - loss: 0.7023 - accuracy: 0.6566\n",
      "Epoch 128/250\n",
      "4/4 [==============================] - 0s 15ms/step - loss: 0.7382 - accuracy: 0.5960\n",
      "Epoch 129/250\n",
      "4/4 [==============================] - 0s 18ms/step - loss: 0.7180 - accuracy: 0.6364\n",
      "Epoch 130/250\n",
      "4/4 [==============================] - 0s 19ms/step - loss: 0.7227 - accuracy: 0.5859\n",
      "Epoch 131/250\n",
      "4/4 [==============================] - 0s 21ms/step - loss: 0.7195 - accuracy: 0.5758\n",
      "Epoch 132/250\n",
      "4/4 [==============================] - 0s 21ms/step - loss: 0.7263 - accuracy: 0.5758\n",
      "Epoch 133/250\n",
      "4/4 [==============================] - 0s 18ms/step - loss: 0.6792 - accuracy: 0.6162\n",
      "Epoch 134/250\n",
      "4/4 [==============================] - 0s 19ms/step - loss: 0.7269 - accuracy: 0.6566\n",
      "Epoch 135/250\n",
      "4/4 [==============================] - 0s 19ms/step - loss: 0.7113 - accuracy: 0.6364\n",
      "Epoch 136/250\n",
      "4/4 [==============================] - 0s 18ms/step - loss: 0.7127 - accuracy: 0.6162\n",
      "Epoch 137/250\n",
      "4/4 [==============================] - 0s 18ms/step - loss: 0.7223 - accuracy: 0.6364\n",
      "Epoch 138/250\n",
      "4/4 [==============================] - 0s 21ms/step - loss: 0.6700 - accuracy: 0.6566\n",
      "Epoch 139/250\n",
      "4/4 [==============================] - 0s 13ms/step - loss: 0.6754 - accuracy: 0.6465\n",
      "Epoch 140/250\n",
      "4/4 [==============================] - 0s 20ms/step - loss: 0.6813 - accuracy: 0.6263\n",
      "Epoch 141/250\n",
      "4/4 [==============================] - 0s 19ms/step - loss: 0.6778 - accuracy: 0.6667\n",
      "Epoch 142/250\n",
      "4/4 [==============================] - 0s 23ms/step - loss: 0.6666 - accuracy: 0.6465\n",
      "Epoch 143/250\n",
      "4/4 [==============================] - 0s 16ms/step - loss: 0.6641 - accuracy: 0.6465\n",
      "Epoch 144/250\n",
      "4/4 [==============================] - 0s 16ms/step - loss: 0.6676 - accuracy: 0.6667\n",
      "Epoch 145/250\n",
      "4/4 [==============================] - 0s 15ms/step - loss: 0.6603 - accuracy: 0.6061\n",
      "Epoch 146/250\n",
      "4/4 [==============================] - 0s 16ms/step - loss: 0.6429 - accuracy: 0.6566\n",
      "Epoch 147/250\n",
      "4/4 [==============================] - 0s 15ms/step - loss: 0.6603 - accuracy: 0.6364\n",
      "Epoch 148/250\n",
      "4/4 [==============================] - 0s 17ms/step - loss: 0.7122 - accuracy: 0.6364\n",
      "Epoch 149/250\n",
      "4/4 [==============================] - 0s 16ms/step - loss: 0.6991 - accuracy: 0.6364\n",
      "Epoch 150/250\n",
      "4/4 [==============================] - 0s 14ms/step - loss: 0.6797 - accuracy: 0.6465\n",
      "Epoch 151/250\n",
      "4/4 [==============================] - 0s 13ms/step - loss: 0.6395 - accuracy: 0.6768\n",
      "Epoch 152/250\n",
      "4/4 [==============================] - 0s 50ms/step - loss: 0.6860 - accuracy: 0.6364\n",
      "Epoch 153/250\n",
      "4/4 [==============================] - 0s 20ms/step - loss: 0.6880 - accuracy: 0.6162\n",
      "Epoch 154/250\n",
      "4/4 [==============================] - 0s 16ms/step - loss: 0.6885 - accuracy: 0.6263\n",
      "Epoch 155/250\n",
      "4/4 [==============================] - 0s 20ms/step - loss: 0.6586 - accuracy: 0.6364\n",
      "Epoch 156/250\n",
      "4/4 [==============================] - 0s 16ms/step - loss: 0.6713 - accuracy: 0.6263\n",
      "Epoch 157/250\n",
      "4/4 [==============================] - 0s 17ms/step - loss: 0.6427 - accuracy: 0.6869\n",
      "Epoch 158/250\n",
      "4/4 [==============================] - 0s 18ms/step - loss: 0.6485 - accuracy: 0.6566\n",
      "Epoch 159/250\n",
      "4/4 [==============================] - 0s 15ms/step - loss: 0.6489 - accuracy: 0.6364\n",
      "Epoch 160/250\n",
      "4/4 [==============================] - 0s 15ms/step - loss: 0.6417 - accuracy: 0.6768\n",
      "Epoch 161/250\n",
      "4/4 [==============================] - 0s 16ms/step - loss: 0.6670 - accuracy: 0.6263\n",
      "Epoch 162/250\n",
      "4/4 [==============================] - 0s 17ms/step - loss: 0.6883 - accuracy: 0.6869\n",
      "Epoch 163/250\n",
      "4/4 [==============================] - 0s 24ms/step - loss: 0.6799 - accuracy: 0.6465\n",
      "Epoch 164/250\n",
      "4/4 [==============================] - 0s 26ms/step - loss: 0.6338 - accuracy: 0.7071\n",
      "Epoch 165/250\n",
      "4/4 [==============================] - 0s 15ms/step - loss: 0.6548 - accuracy: 0.6162\n",
      "Epoch 166/250\n",
      "4/4 [==============================] - 0s 16ms/step - loss: 0.7047 - accuracy: 0.6263\n",
      "Epoch 167/250\n",
      "4/4 [==============================] - 0s 16ms/step - loss: 0.6666 - accuracy: 0.6364\n",
      "Epoch 168/250\n",
      "4/4 [==============================] - 0s 24ms/step - loss: 0.6258 - accuracy: 0.6667\n",
      "Epoch 169/250\n",
      "4/4 [==============================] - 0s 19ms/step - loss: 0.6647 - accuracy: 0.6869\n",
      "Epoch 170/250\n",
      "4/4 [==============================] - 0s 21ms/step - loss: 0.6682 - accuracy: 0.6667\n",
      "Epoch 171/250\n",
      "4/4 [==============================] - 0s 25ms/step - loss: 0.6574 - accuracy: 0.6263\n",
      "Epoch 172/250\n",
      "4/4 [==============================] - 0s 16ms/step - loss: 0.6204 - accuracy: 0.6667\n",
      "Epoch 173/250\n",
      "4/4 [==============================] - 0s 11ms/step - loss: 0.6084 - accuracy: 0.6970\n",
      "Epoch 174/250\n",
      "4/4 [==============================] - 0s 16ms/step - loss: 0.6146 - accuracy: 0.6566\n",
      "Epoch 175/250\n",
      "4/4 [==============================] - 0s 16ms/step - loss: 0.6164 - accuracy: 0.6869\n",
      "Epoch 176/250\n",
      "4/4 [==============================] - 0s 15ms/step - loss: 0.6391 - accuracy: 0.6869\n",
      "Epoch 177/250\n",
      "4/4 [==============================] - 0s 22ms/step - loss: 0.6042 - accuracy: 0.6970\n",
      "Epoch 178/250\n",
      "4/4 [==============================] - 0s 15ms/step - loss: 0.5903 - accuracy: 0.6768\n",
      "Epoch 179/250\n",
      "4/4 [==============================] - 0s 15ms/step - loss: 0.5788 - accuracy: 0.6970\n",
      "Epoch 180/250\n",
      "4/4 [==============================] - 0s 16ms/step - loss: 0.6076 - accuracy: 0.6465\n",
      "Epoch 181/250\n",
      "4/4 [==============================] - 0s 12ms/step - loss: 0.5735 - accuracy: 0.7172\n",
      "Epoch 182/250\n",
      "4/4 [==============================] - 0s 18ms/step - loss: 0.5732 - accuracy: 0.7475\n",
      "Epoch 183/250\n",
      "4/4 [==============================] - 0s 11ms/step - loss: 0.5967 - accuracy: 0.7172\n",
      "Epoch 184/250\n",
      "4/4 [==============================] - 0s 16ms/step - loss: 0.5755 - accuracy: 0.6768\n",
      "Epoch 185/250\n",
      "4/4 [==============================] - 0s 15ms/step - loss: 0.6043 - accuracy: 0.6566\n",
      "Epoch 186/250\n",
      "4/4 [==============================] - 0s 15ms/step - loss: 0.5688 - accuracy: 0.6465\n",
      "Epoch 187/250\n",
      "4/4 [==============================] - 0s 11ms/step - loss: 0.5501 - accuracy: 0.7172\n",
      "Epoch 188/250\n",
      "4/4 [==============================] - 0s 31ms/step - loss: 0.5898 - accuracy: 0.6667\n",
      "Epoch 189/250\n",
      "4/4 [==============================] - 0s 27ms/step - loss: 0.5540 - accuracy: 0.7172\n",
      "Epoch 190/250\n",
      "4/4 [==============================] - 0s 14ms/step - loss: 0.5586 - accuracy: 0.6667\n",
      "Epoch 191/250\n",
      "4/4 [==============================] - 0s 22ms/step - loss: 0.5363 - accuracy: 0.7677\n",
      "Epoch 192/250\n",
      "4/4 [==============================] - 0s 22ms/step - loss: 0.5437 - accuracy: 0.7172\n",
      "Epoch 193/250\n",
      "4/4 [==============================] - 0s 13ms/step - loss: 0.5383 - accuracy: 0.7374\n",
      "Epoch 194/250\n",
      "4/4 [==============================] - 0s 15ms/step - loss: 0.5517 - accuracy: 0.7273\n",
      "Epoch 195/250\n",
      "4/4 [==============================] - 0s 18ms/step - loss: 0.5407 - accuracy: 0.7576\n",
      "Epoch 196/250\n",
      "4/4 [==============================] - 0s 16ms/step - loss: 0.5669 - accuracy: 0.7071\n",
      "Epoch 197/250\n",
      "4/4 [==============================] - 0s 20ms/step - loss: 0.5496 - accuracy: 0.7172\n",
      "Epoch 198/250\n",
      "4/4 [==============================] - 0s 18ms/step - loss: 0.5254 - accuracy: 0.7172\n",
      "Epoch 199/250\n",
      "4/4 [==============================] - 0s 19ms/step - loss: 0.6204 - accuracy: 0.6667\n",
      "Epoch 200/250\n",
      "4/4 [==============================] - 0s 15ms/step - loss: 0.6101 - accuracy: 0.6768\n",
      "Epoch 201/250\n",
      "4/4 [==============================] - 0s 14ms/step - loss: 0.5160 - accuracy: 0.7374\n",
      "Epoch 202/250\n",
      "4/4 [==============================] - 0s 25ms/step - loss: 0.5290 - accuracy: 0.7475\n",
      "Epoch 203/250\n",
      "4/4 [==============================] - 0s 18ms/step - loss: 0.5746 - accuracy: 0.6768\n",
      "Epoch 204/250\n",
      "4/4 [==============================] - 0s 19ms/step - loss: 0.5339 - accuracy: 0.7172\n",
      "Epoch 205/250\n",
      "4/4 [==============================] - 0s 20ms/step - loss: 0.4853 - accuracy: 0.7778\n",
      "Epoch 206/250\n",
      "4/4 [==============================] - 0s 15ms/step - loss: 0.5374 - accuracy: 0.7374\n",
      "Epoch 207/250\n",
      "4/4 [==============================] - 0s 23ms/step - loss: 0.5171 - accuracy: 0.7071\n",
      "Epoch 208/250\n",
      "4/4 [==============================] - 0s 20ms/step - loss: 0.5029 - accuracy: 0.7576\n",
      "Epoch 209/250\n",
      "4/4 [==============================] - 0s 21ms/step - loss: 0.4892 - accuracy: 0.7677\n",
      "Epoch 210/250\n",
      "4/4 [==============================] - 0s 16ms/step - loss: 0.4673 - accuracy: 0.7576\n",
      "Epoch 211/250\n",
      "4/4 [==============================] - 0s 14ms/step - loss: 0.4765 - accuracy: 0.7475\n",
      "Epoch 212/250\n",
      "4/4 [==============================] - 0s 17ms/step - loss: 0.4463 - accuracy: 0.8081\n",
      "Epoch 213/250\n",
      "4/4 [==============================] - 0s 24ms/step - loss: 0.4874 - accuracy: 0.7071\n",
      "Epoch 214/250\n",
      "4/4 [==============================] - 0s 19ms/step - loss: 0.4751 - accuracy: 0.7273\n",
      "Epoch 215/250\n",
      "4/4 [==============================] - 0s 17ms/step - loss: 0.5039 - accuracy: 0.7374\n",
      "Epoch 216/250\n",
      "4/4 [==============================] - 0s 17ms/step - loss: 0.4976 - accuracy: 0.7475\n",
      "Epoch 217/250\n",
      "4/4 [==============================] - 0s 16ms/step - loss: 0.4861 - accuracy: 0.7374\n",
      "Epoch 218/250\n",
      "4/4 [==============================] - 0s 16ms/step - loss: 0.5169 - accuracy: 0.6869\n",
      "Epoch 219/250\n",
      "4/4 [==============================] - 0s 14ms/step - loss: 0.5001 - accuracy: 0.7071\n",
      "Epoch 220/250\n",
      "4/4 [==============================] - 0s 30ms/step - loss: 0.6146 - accuracy: 0.7172\n",
      "Epoch 221/250\n",
      "4/4 [==============================] - 0s 16ms/step - loss: 0.5612 - accuracy: 0.6970\n",
      "Epoch 222/250\n",
      "4/4 [==============================] - 0s 16ms/step - loss: 0.6196 - accuracy: 0.6566\n",
      "Epoch 223/250\n",
      "4/4 [==============================] - 0s 25ms/step - loss: 0.8886 - accuracy: 0.6566\n",
      "Epoch 224/250\n",
      "4/4 [==============================] - 0s 15ms/step - loss: 0.6760 - accuracy: 0.7071\n",
      "Epoch 225/250\n",
      "4/4 [==============================] - 0s 21ms/step - loss: 0.5246 - accuracy: 0.7172\n",
      "Epoch 226/250\n",
      "4/4 [==============================] - 0s 15ms/step - loss: 0.7301 - accuracy: 0.6566\n",
      "Epoch 227/250\n",
      "4/4 [==============================] - 0s 19ms/step - loss: 0.5179 - accuracy: 0.7374\n",
      "Epoch 228/250\n",
      "4/4 [==============================] - 0s 14ms/step - loss: 0.5656 - accuracy: 0.7172\n",
      "Epoch 229/250\n",
      "4/4 [==============================] - 0s 21ms/step - loss: 0.5332 - accuracy: 0.6970\n",
      "Epoch 230/250\n",
      "4/4 [==============================] - 0s 15ms/step - loss: 0.5170 - accuracy: 0.6869\n",
      "Epoch 231/250\n",
      "4/4 [==============================] - 0s 22ms/step - loss: 0.4956 - accuracy: 0.7172\n",
      "Epoch 232/250\n",
      "4/4 [==============================] - 0s 12ms/step - loss: 0.5171 - accuracy: 0.7071\n",
      "Epoch 233/250\n",
      "4/4 [==============================] - 0s 19ms/step - loss: 0.4798 - accuracy: 0.7374\n",
      "Epoch 234/250\n",
      "4/4 [==============================] - 0s 22ms/step - loss: 0.4594 - accuracy: 0.7374\n",
      "Epoch 235/250\n",
      "4/4 [==============================] - 0s 27ms/step - loss: 0.4770 - accuracy: 0.7374\n",
      "Epoch 236/250\n",
      "4/4 [==============================] - 0s 18ms/step - loss: 0.4597 - accuracy: 0.7374\n",
      "Epoch 237/250\n",
      "4/4 [==============================] - 0s 16ms/step - loss: 0.4552 - accuracy: 0.7273\n",
      "Epoch 238/250\n",
      "4/4 [==============================] - 0s 14ms/step - loss: 0.4554 - accuracy: 0.7172\n",
      "Epoch 239/250\n",
      "4/4 [==============================] - 0s 17ms/step - loss: 0.4653 - accuracy: 0.7374\n",
      "Epoch 240/250\n",
      "4/4 [==============================] - 0s 18ms/step - loss: 0.4461 - accuracy: 0.7172\n",
      "Epoch 241/250\n",
      "4/4 [==============================] - 0s 13ms/step - loss: 0.4085 - accuracy: 0.7778\n",
      "Epoch 242/250\n",
      "4/4 [==============================] - 0s 16ms/step - loss: 0.4211 - accuracy: 0.7172\n",
      "Epoch 243/250\n",
      "4/4 [==============================] - 0s 22ms/step - loss: 0.4087 - accuracy: 0.7374\n",
      "Epoch 244/250\n",
      "4/4 [==============================] - 0s 15ms/step - loss: 0.3895 - accuracy: 0.7980\n",
      "Epoch 245/250\n",
      "4/4 [==============================] - 0s 13ms/step - loss: 0.4243 - accuracy: 0.7475\n",
      "Epoch 246/250\n",
      "4/4 [==============================] - 0s 17ms/step - loss: 0.4053 - accuracy: 0.7778\n",
      "Epoch 247/250\n",
      "4/4 [==============================] - 0s 20ms/step - loss: 0.4250 - accuracy: 0.7879\n",
      "Epoch 248/250\n",
      "4/4 [==============================] - 0s 16ms/step - loss: 0.4454 - accuracy: 0.7172\n",
      "Epoch 249/250\n",
      "4/4 [==============================] - 0s 24ms/step - loss: 0.3957 - accuracy: 0.7879\n",
      "Epoch 250/250\n",
      "4/4 [==============================] - 0s 15ms/step - loss: 0.4049 - accuracy: 0.7374\n"
     ]
    }
   ],
   "source": [
    "history = model.fit(x_train, y_train,\n",
    "          epochs = 250)"
   ]
  },
  {
   "cell_type": "code",
   "execution_count": 19,
   "metadata": {},
   "outputs": [],
   "source": [
    "def result_visualization(model_result):\n",
    "    acc = model_result.history[\"accuracy\"]\n",
    "    lss = model_result.history[\"loss\"]\n",
    "    epochs = range(len(acc))\n",
    "    plt.plot(epochs, acc, 'b', label=\"Training Accuracy\")\n",
    "    plt.plot(epochs, lss, 'r', label=\"Training Loss\")\n",
    "    plt.title(\"Accuracy Graph\")\n",
    "    plt.legend(loc=0)\n",
    "    plt.figure()\n",
    "    plt.show()"
   ]
  },
  {
   "cell_type": "code",
   "execution_count": 34,
   "metadata": {},
   "outputs": [
    {
     "data": {
      "image/png": "[encoded data removed]",
      "text/plain": [
       "<Figure size 432x288 with 1 Axes>"
      ]
     },
     "metadata": {
      "needs_background": "light"
     },
     "output_type": "display_data"
    },
    {
     "data": {
      "text/plain": [
       "<Figure size 432x288 with 0 Axes>"
      ]
     },
     "metadata": {},
     "output_type": "display_data"
    }
   ],
   "source": [
    "result_visualization(history) # 250 epochs change model structur (float)"
   ]
  },
  {
   "cell_type": "code",
   "execution_count": 26,
   "metadata": {},
   "outputs": [
    {
     "data": {
      "image/png": "[encoded data removed]",
      "text/plain": [
       "<Figure size 432x288 with 1 Axes>"
      ]
     },
     "metadata": {
      "needs_background": "light"
     },
     "output_type": "display_data"
    },
    {
     "data": {
      "text/plain": [
       "<Figure size 432x288 with 0 Axes>"
      ]
     },
     "metadata": {},
     "output_type": "display_data"
    }
   ],
   "source": [
    "result_visualization(history) # 250 epochs (float)"
   ]
  },
  {
   "cell_type": "code",
   "execution_count": 38,
   "metadata": {},
   "outputs": [
    {
     "data": {
      "image/png": "[encoded data removed]",
      "text/plain": [
       "<Figure size 432x288 with 1 Axes>"
      ]
     },
     "metadata": {
      "needs_background": "light"
     },
     "output_type": "display_data"
    },
    {
     "data": {
      "text/plain": [
       "<Figure size 432x288 with 0 Axes>"
      ]
     },
     "metadata": {},
     "output_type": "display_data"
    }
   ],
   "source": [
    "result_visualization(history) # 250 epochs add more layer"
   ]
  },
  {
   "cell_type": "code",
   "execution_count": 27,
   "metadata": {},
   "outputs": [
    {
     "data": {
      "image/png": "[encoded data removed]",
      "text/plain": [
       "<Figure size 432x288 with 1 Axes>"
      ]
     },
     "metadata": {
      "needs_background": "light"
     },
     "output_type": "display_data"
    },
    {
     "data": {
      "text/plain": [
       "<Figure size 432x288 with 0 Axes>"
      ]
     },
     "metadata": {},
     "output_type": "display_data"
    }
   ],
   "source": [
    "result_visualization(history) # 500 epochs try"
   ]
  },
  {
   "cell_type": "code",
   "execution_count": 38,
   "metadata": {},
   "outputs": [
    {
     "data": {
      "image/png": "[encoded data removed]",
      "text/plain": [
       "<Figure size 432x288 with 1 Axes>"
      ]
     },
     "metadata": {
      "needs_background": "light"
     },
     "output_type": "display_data"
    },
    {
     "data": {
      "text/plain": [
       "<Figure size 432x288 with 0 Axes>"
      ]
     },
     "metadata": {},
     "output_type": "display_data"
    }
   ],
   "source": [
    "result_visualization(history) # 100 epochs using lstm (costum learning rate)"
   ]
  },
  {
   "cell_type": "code",
   "execution_count": 35,
   "metadata": {},
   "outputs": [
    {
     "data": {
      "image/png": "[encoded data removed]",
      "text/plain": [
       "<Figure size 432x288 with 1 Axes>"
      ]
     },
     "metadata": {
      "needs_background": "light"
     },
     "output_type": "display_data"
    },
    {
     "data": {
      "text/plain": [
       "<Figure size 432x288 with 0 Axes>"
      ]
     },
     "metadata": {},
     "output_type": "display_data"
    }
   ],
   "source": [
    "result_visualization(history) # 100 epochs using lstm"
   ]
  },
  {
   "cell_type": "code",
   "execution_count": 17,
   "metadata": {},
   "outputs": [
    {
     "data": {
      "image/png": "[encoded data removed]",
      "text/plain": [
       "<Figure size 432x288 with 1 Axes>"
      ]
     },
     "metadata": {
      "needs_background": "light"
     },
     "output_type": "display_data"
    },
    {
     "data": {
      "text/plain": [
       "<Figure size 432x288 with 0 Axes>"
      ]
     },
     "metadata": {},
     "output_type": "display_data"
    }
   ],
   "source": [
    "result_visualization(history) # 500 epochs"
   ]
  },
  {
   "cell_type": "code",
   "execution_count": 69,
   "metadata": {},
   "outputs": [
    {
     "data": {
      "image/png": "[encoded data removed]",
      "text/plain": [
       "<Figure size 432x288 with 1 Axes>"
      ]
     },
     "metadata": {
      "needs_background": "light"
     },
     "output_type": "display_data"
    },
    {
     "data": {
      "text/plain": [
       "<Figure size 432x288 with 0 Axes>"
      ]
     },
     "metadata": {},
     "output_type": "display_data"
    }
   ],
   "source": [
    "result_visualization(history) # 100 epochs"
   ]
  },
  {
   "cell_type": "code",
   "execution_count": 35,
   "metadata": {},
   "outputs": [
    {
     "name": "stdout",
     "output_type": "stream",
     "text": [
      "INFO:tensorflow:Assets written to: pedigree_male_model_3\\assets\n"
     ]
    }
   ],
   "source": [
    "model.save(\"pedigree_male_model_3\")"
   ]
  },
  {
   "cell_type": "code",
   "execution_count": 36,
   "metadata": {},
   "outputs": [],
   "source": [
    "def save_tflite(mode):\n",
    "    if mode.lower() == \"storage\":\n",
    "        return tf.lite.Optimize.OPTIMIZE_FOR_SIZE\n",
    "    elif mode.lower() == \"speed\":\n",
    "        return tf.lite.Optimize.OPTIMIZE_FOR_LATENCY\n",
    "    else:\n",
    "        return tf.lite.Optimize.DEFAULT"
   ]
  },
  {
   "cell_type": "code",
   "execution_count": 37,
   "metadata": {},
   "outputs": [
    {
     "name": "stdout",
     "output_type": "stream",
     "text": [
      "INFO:tensorflow:Assets written to: pedigree_male_model_tflite_3\\assets\n"
     ]
    }
   ],
   "source": [
    "export_path = \"pedigree_male_model_tflite_3\"\n",
    "tf.saved_model.save(model, export_path)"
   ]
  },
  {
   "cell_type": "code",
   "execution_count": 38,
   "metadata": {},
   "outputs": [
    {
     "name": "stderr",
     "output_type": "stream",
     "text": [
      "WARNING:absl:Optimization option OPTIMIZE_FOR_LATENCY is deprecated, please use optimizations=[Optimize.DEFAULT] instead.\n",
      "WARNING:absl:Optimization option OPTIMIZE_FOR_LATENCY is deprecated, please use optimizations=[Optimize.DEFAULT] instead.\n",
      "WARNING:absl:Optimization option OPTIMIZE_FOR_LATENCY is deprecated, please use optimizations=[Optimize.DEFAULT] instead.\n"
     ]
    }
   ],
   "source": [
    "converter = tf.lite.TFLiteConverter.from_saved_model(export_path)\n",
    "\n",
    "converter.optimizations = [save_tflite(\"speed\")]\n",
    "\n",
    "tflite_model = converter.convert()"
   ]
  },
  {
   "cell_type": "code",
   "execution_count": 39,
   "metadata": {},
   "outputs": [
    {
     "data": {
      "text/plain": [
       "39712"
      ]
     },
     "execution_count": 39,
     "metadata": {},
     "output_type": "execute_result"
    }
   ],
   "source": [
    "tflite_modelFile = pathlib.Path(\"pedigree_male_model_tflite_3.tflite\")\n",
    "tflite_modelFile.write_bytes(tflite_model)"
   ]
  },
  {
   "cell_type": "code",
   "execution_count": 40,
   "metadata": {},
   "outputs": [],
   "source": [
    "interpreter = tf.lite.Interpreter(model_content=tflite_model)\n",
    "interpreter.allocate_tensors()"
   ]
  }
 ],
 "metadata": {
  "interpreter": {
   "hash": "6a698132df0d61d2c04481168cd60695d48e6b3ce384607f3b1f9e0e40157999"
  },
  "kernelspec": {
   "display_name": "Python 3.9.1 64-bit",
   "language": "python",
   "name": "python3"
  },
  "language_info": {
   "codemirror_mode": {
    "name": "ipython",
    "version": 3
   },
   "file_extension": ".py",
   "mimetype": "text/x-python",
   "name": "python",
   "nbconvert_exporter": "python",
   "pygments_lexer": "ipython3",
   "version": "3.9.1"
  },
  "orig_nbformat": 4
 },
 "nbformat": 4,
 "nbformat_minor": 2
}
