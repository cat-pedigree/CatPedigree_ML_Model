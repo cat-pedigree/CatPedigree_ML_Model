{
 "cells": [
  {
   "cell_type": "code",
   "execution_count": 175,
   "metadata": {
    "_cell_guid": "b1076dfc-b9ad-4769-8c92-a6c4dae69d19",
    "_uuid": "8f2839f25d086af736a60e9eeb907d3b93b6e0e5"
   },
   "outputs": [],
   "source": [
    "# This Python 3 environment comes with many helpful analytics libraries installed\n",
    "# It is defined by the kaggle/python docker image: https://github.com/kaggle/docker-python\n",
    "# For example, here's several helpful packages to load in \n",
    "\n",
    "import numpy as np # linear algebra\n",
    "import pandas as pd # data processing, CSV file I/O (e.g. pd.read_csv)\n",
    "import tensorflow as tf\n",
    "import pandas as pd \n",
    "import seaborn as sns\n",
    "import matplotlib.pyplot as plt\n",
    "from sklearn.preprocessing import StandardScaler\n",
    "import pathlib\n",
    "import numpy as np \n",
    "import pandas as pd \n",
    "import pandas as pd \n",
    "import numpy as np \n",
    "import scipy as sp \n",
    "import sklearn\n",
    "import random \n",
    "import time \n",
    "\n",
    "from sklearn import preprocessing, model_selection\n",
    "\n",
    "\n",
    "from keras.models import Sequential \n",
    "from keras.layers import Dense \n",
    "from keras.utils import np_utils\n",
    "from sklearn.preprocessing import LabelEncoder\n",
    "from keras.utils.np_utils import to_categorical\n",
    "from sklearn.utils import shuffle"
   ]
  },
  {
   "cell_type": "markdown",
   "metadata": {
    "_uuid": "8767d0a23f70ca6cb50f529f54b24a65a28afd3c"
   },
   "source": [
    "\n",
    "This is a very basic example of a construction of a neural network that allows for a multiclass classification with tensorflow keras."
   ]
  },
  {
   "cell_type": "code",
   "execution_count": 178,
   "metadata": {
    "_cell_guid": "79c7e3d0-c299-4dcb-8224-4455121ee9b0",
    "_uuid": "d629ff2d2480ee46fbb7e2d37f6b5fab8052498a"
   },
   "outputs": [
    {
     "data": {
      "text/html": [
       "<div>\n",
       "<style scoped>\n",
       "    .dataframe tbody tr th:only-of-type {\n",
       "        vertical-align: middle;\n",
       "    }\n",
       "\n",
       "    .dataframe tbody tr th {\n",
       "        vertical-align: top;\n",
       "    }\n",
       "\n",
       "    .dataframe thead th {\n",
       "        text-align: right;\n",
       "    }\n",
       "</style>\n",
       "<table border=\"1\" class=\"dataframe\">\n",
       "  <thead>\n",
       "    <tr style=\"text-align: right;\">\n",
       "      <th></th>\n",
       "      <th>base_color_male</th>\n",
       "      <th>with_white_male</th>\n",
       "      <th>base_color_female</th>\n",
       "      <th>with_white_female</th>\n",
       "      <th>prediction_color</th>\n",
       "    </tr>\n",
       "  </thead>\n",
       "  <tbody>\n",
       "    <tr>\n",
       "      <th>0</th>\n",
       "      <td>black</td>\n",
       "      <td>1</td>\n",
       "      <td>black</td>\n",
       "      <td>0</td>\n",
       "      <td>black</td>\n",
       "    </tr>\n",
       "    <tr>\n",
       "      <th>1</th>\n",
       "      <td>black</td>\n",
       "      <td>0</td>\n",
       "      <td>black</td>\n",
       "      <td>1</td>\n",
       "      <td>black</td>\n",
       "    </tr>\n",
       "    <tr>\n",
       "      <th>2</th>\n",
       "      <td>black</td>\n",
       "      <td>1</td>\n",
       "      <td>black</td>\n",
       "      <td>1</td>\n",
       "      <td>black</td>\n",
       "    </tr>\n",
       "    <tr>\n",
       "      <th>3</th>\n",
       "      <td>black</td>\n",
       "      <td>0</td>\n",
       "      <td>black</td>\n",
       "      <td>0</td>\n",
       "      <td>black</td>\n",
       "    </tr>\n",
       "    <tr>\n",
       "      <th>4</th>\n",
       "      <td>blue</td>\n",
       "      <td>0</td>\n",
       "      <td>blue</td>\n",
       "      <td>0</td>\n",
       "      <td>blue</td>\n",
       "    </tr>\n",
       "  </tbody>\n",
       "</table>\n",
       "</div>"
      ],
      "text/plain": [
       "  base_color_male  with_white_male base_color_female  with_white_female  \\\n",
       "0           black                1             black                  0   \n",
       "1           black                0             black                  1   \n",
       "2           black                1             black                  1   \n",
       "3           black                0             black                  0   \n",
       "4            blue                0              blue                  0   \n",
       "\n",
       "  prediction_color  \n",
       "0            black  \n",
       "1            black  \n",
       "2            black  \n",
       "3            black  \n",
       "4             blue  "
      ]
     },
     "execution_count": 178,
     "metadata": {},
     "output_type": "execute_result"
    }
   ],
   "source": [
    "data = pd.read_csv('color_pedigree.csv')\n",
    "data.head()"
   ]
  },
  {
   "cell_type": "markdown",
   "metadata": {
    "_uuid": "44eff1c89dbe79d90f8d566af242c64050c68282"
   },
   "source": [
    "\n",
    "We are going to separate the data. One part will be used to make predictions in the end, the other part, the most important will be used for training and testing the neural network.\n",
    "This part is not mandatory, but it is for fun, and especially to show how to predict from an input."
   ]
  },
  {
   "cell_type": "code",
   "execution_count": 180,
   "metadata": {},
   "outputs": [],
   "source": [
    "class_labels = data['prediction_color'].unique()"
   ]
  },
  {
   "cell_type": "code",
   "execution_count": 80,
   "metadata": {
    "_uuid": "d9e731193269dd5d9f5a6031eba8633c079990f1"
   },
   "outputs": [],
   "source": [
    "data = shuffle(data)\n",
    "\n",
    "\n",
    "i = 8\n",
    "data_to_predict = data.reset_index(drop = True)\n",
    "predict_species = data_to_predict.prediction_color \n",
    "predict_species = np.array(predict_species)\n",
    "prediction = np.array(data_to_predict.drop(['prediction_color'],axis= 1))\n",
    "\n",
    "data = data.reset_index(drop = True)\n",
    "\n",
    "\n",
    "\n"
   ]
  },
  {
   "cell_type": "code",
   "execution_count": 102,
   "metadata": {
    "_uuid": "48aae017bb4aab8f20baf2df67a509a8a0e74953"
   },
   "outputs": [],
   "source": [
    "X = data.drop(['prediction_color'], axis = 1)\n",
    "X = np.array(X)\n",
    "Y = data['prediction_color']\n",
    "\n",
    "\n"
   ]
  },
  {
   "cell_type": "markdown",
   "metadata": {
    "_uuid": "41afaf05baf26bd37297723e6abffcda55c8b6e1"
   },
   "source": [
    "\n",
    "We must transform the column of classes, because we have a format 'str', and it is a multiclass situation. We must first convert the names of species into numerical values, then into vectors for the output of the neuron network. \n"
   ]
  },
  {
   "cell_type": "code",
   "execution_count": 104,
   "metadata": {},
   "outputs": [
    {
     "data": {
      "text/plain": [
       "(128, 12)"
      ]
     },
     "execution_count": 104,
     "metadata": {},
     "output_type": "execute_result"
    }
   ],
   "source": [
    "X.shape"
   ]
  },
  {
   "cell_type": "code",
   "execution_count": 82,
   "metadata": {
    "_uuid": "7f0a355e8a8d551efd9f3f84ef3bb5a395be1ac4"
   },
   "outputs": [],
   "source": [
    "# Transform name species into numerical values \n",
    "encoder = LabelEncoder()\n",
    "encoder.fit(Y)\n",
    "Y = encoder.transform(Y)\n",
    "Y = np_utils.to_categorical(Y)\n",
    "#print(Y)\n",
    "\n",
    "# We have 3 classes : the output looks like : \n",
    "#0,0,1 : Class 1\n",
    "#0,1,0 : Class 2\n",
    "#1,0,0 : Class 3"
   ]
  },
  {
   "cell_type": "code",
   "execution_count": 83,
   "metadata": {
    "_uuid": "5e86b0552df3431f037a0b6950ec97665bbfe66b"
   },
   "outputs": [],
   "source": [
    "train_x, test_x, train_y, test_y = model_selection.train_test_split(X,Y,test_size = 0.1, random_state = 0)"
   ]
  },
  {
   "cell_type": "code",
   "execution_count": 91,
   "metadata": {},
   "outputs": [
    {
     "data": {
      "text/plain": [
       "4"
      ]
     },
     "execution_count": 91,
     "metadata": {},
     "output_type": "execute_result"
    }
   ],
   "source": [
    "len(data.columns) - 1"
   ]
  },
  {
   "cell_type": "code",
   "execution_count": 92,
   "metadata": {},
   "outputs": [
    {
     "data": {
      "text/plain": [
       "5"
      ]
     },
     "execution_count": 92,
     "metadata": {},
     "output_type": "execute_result"
    }
   ],
   "source": [
    "len(data.columns)"
   ]
  },
  {
   "cell_type": "markdown",
   "metadata": {
    "_uuid": "7cefa4b784bf192f12ee8ac97a2121a4504a25ff"
   },
   "source": [
    "\n",
    "It's time to build our neural network. The dimension in input is the number of features of the dataframe (without the class to predict!).\n",
    "\n",
    "We are on a multiclass classification situation, so the activation function for the last most suitable layer is \"softmax\", and \"categorical_crossentropy\" for the loss.\n",
    "\n",
    "We have to do several tests to find the best architecture, but this one works pretty well"
   ]
  },
  {
   "cell_type": "code",
   "execution_count": 94,
   "metadata": {
    "_uuid": "a1b4e25da0f242df534fa1fc753e3b18c40acfb4"
   },
   "outputs": [
    {
     "name": "stdout",
     "output_type": "stream",
     "text": [
      "Epoch 1/20\n",
      "58/58 [==============================] - 0s 2ms/step - loss: 1.7084 - accuracy: 0.2696\n",
      "Epoch 2/20\n",
      "58/58 [==============================] - 0s 1ms/step - loss: 1.5031 - accuracy: 0.4000\n",
      "Epoch 3/20\n",
      "58/58 [==============================] - 0s 1ms/step - loss: 1.3635 - accuracy: 0.4174\n",
      "Epoch 4/20\n",
      "58/58 [==============================] - 0s 1ms/step - loss: 1.2327 - accuracy: 0.4522\n",
      "Epoch 5/20\n",
      "58/58 [==============================] - 0s 1ms/step - loss: 1.0966 - accuracy: 0.5217\n",
      "Epoch 6/20\n",
      "58/58 [==============================] - 0s 1ms/step - loss: 0.9781 - accuracy: 0.6957\n",
      "Epoch 7/20\n",
      "58/58 [==============================] - 0s 1ms/step - loss: 0.8707 - accuracy: 0.6957\n",
      "Epoch 8/20\n",
      "58/58 [==============================] - 0s 1ms/step - loss: 0.7772 - accuracy: 0.7043\n",
      "Epoch 9/20\n",
      "58/58 [==============================] - 0s 1ms/step - loss: 0.7060 - accuracy: 0.7391\n",
      "Epoch 10/20\n",
      "58/58 [==============================] - 0s 1ms/step - loss: 0.6477 - accuracy: 0.7565\n",
      "Epoch 11/20\n",
      "58/58 [==============================] - 0s 1ms/step - loss: 0.5997 - accuracy: 0.7565\n",
      "Epoch 12/20\n",
      "58/58 [==============================] - 0s 1ms/step - loss: 0.5602 - accuracy: 0.7739\n",
      "Epoch 13/20\n",
      "58/58 [==============================] - 0s 1ms/step - loss: 0.5179 - accuracy: 0.7739\n",
      "Epoch 14/20\n",
      "58/58 [==============================] - 0s 1ms/step - loss: 0.4915 - accuracy: 0.7739\n",
      "Epoch 15/20\n",
      "58/58 [==============================] - 0s 1ms/step - loss: 0.4702 - accuracy: 0.7826\n",
      "Epoch 16/20\n",
      "58/58 [==============================] - 0s 1ms/step - loss: 0.4518 - accuracy: 0.7478\n",
      "Epoch 17/20\n",
      "58/58 [==============================] - 0s 1ms/step - loss: 0.4334 - accuracy: 0.8000\n",
      "Epoch 18/20\n",
      "58/58 [==============================] - 0s 985us/step - loss: 0.4196 - accuracy: 0.7739\n",
      "Epoch 19/20\n",
      "58/58 [==============================] - 0s 1ms/step - loss: 0.4026 - accuracy: 0.7826\n",
      "Epoch 20/20\n",
      "58/58 [==============================] - 0s 1ms/step - loss: 0.3921 - accuracy: 0.7565\n"
     ]
    },
    {
     "data": {
      "text/plain": [
       "<keras.callbacks.History at 0x229dc58aa60>"
      ]
     },
     "execution_count": 94,
     "metadata": {},
     "output_type": "execute_result"
    }
   ],
   "source": [
    "input_dim = len(data.columns) - 1\n",
    "\n",
    "model = Sequential()\n",
    "model.add(Dense(8, activation = 'relu'))\n",
    "model.add(Dense(100, activation = 'relu'))\n",
    "model.add(Dense(6, activation = 'softmax'))\n",
    "\n",
    "model.compile(loss = 'categorical_crossentropy' , optimizer = 'adam' , metrics = ['accuracy'] )\n",
    "\n",
    "model.fit(train_x, train_y, epochs = 20, batch_size = 2)\n"
   ]
  },
  {
   "cell_type": "markdown",
   "metadata": {
    "_uuid": "a5cc4972755deb8b4f1fad010e1a1f7f947beac6"
   },
   "source": [
    "\n",
    "It is time to make predictions with the small sample removed from the base at the beginning.\n",
    "To train the neural network it was necessary to convert the species into vectors. So after the prediction it is necessary to carry out the opposite operation to recover the name of the associated species"
   ]
  },
  {
   "cell_type": "code",
   "execution_count": 100,
   "metadata": {
    "_uuid": "2058761ae283ed9eec77711e66e6b70f47a0d732"
   },
   "outputs": [
    {
     "name": "stdout",
     "output_type": "stream",
     "text": [
      " the nn predict black, and the species to find is black tortie\n"
     ]
    }
   ],
   "source": [
    "predictions = model.predict([[0, 0, 0, 1, 0, 0, 0, 0, 0, 0, 0, 1]])\n",
    "prediction_ = np.argmax(to_categorical(predictions), axis = 1)\n",
    "prediction_ = encoder.inverse_transform(prediction_)\n",
    "\n",
    "for i, j in zip(prediction_ , predict_species):\n",
    "    print( \" the nn predict {}, and the species to find is {}\".format(i,j))"
   ]
  },
  {
   "cell_type": "code",
   "execution_count": 96,
   "metadata": {
    "_uuid": "d8ce39ea6d54e24b49ef5bcc1d0b72072552465b"
   },
   "outputs": [
    {
     "data": {
      "text/plain": [
       "array([0, 0, 0, 1, 0, 0, 0, 0, 0, 0, 0, 1], dtype=int64)"
      ]
     },
     "execution_count": 96,
     "metadata": {},
     "output_type": "execute_result"
    }
   ],
   "source": [
    "train_x[0]"
   ]
  },
  {
   "cell_type": "code",
   "execution_count": null,
   "metadata": {
    "_uuid": "e07b640916927c9594c3d322264b47b8cff13b53"
   },
   "outputs": [],
   "source": []
  },
  {
   "cell_type": "code",
   "execution_count": null,
   "metadata": {
    "_uuid": "fa216dfa4c22f4987931a54842b9b45ef132302e",
    "collapsed": true
   },
   "outputs": [],
   "source": []
  },
  {
   "cell_type": "code",
   "execution_count": null,
   "metadata": {
    "_uuid": "7266945b21062d4a79caf56014b63fe8a1fa4d70",
    "collapsed": true
   },
   "outputs": [],
   "source": []
  },
  {
   "cell_type": "markdown",
   "metadata": {
    "_uuid": "fead7367974b8e5011418181903fbb0ffcb90804",
    "collapsed": true
   },
   "source": [
    "# Experiment 2"
   ]
  },
  {
   "cell_type": "code",
   "execution_count": 142,
   "metadata": {},
   "outputs": [],
   "source": [
    "df = pd.read_csv('color_pedigree.csv')"
   ]
  },
  {
   "cell_type": "code",
   "execution_count": 143,
   "metadata": {},
   "outputs": [
    {
     "data": {
      "text/html": [
       "<div>\n",
       "<style scoped>\n",
       "    .dataframe tbody tr th:only-of-type {\n",
       "        vertical-align: middle;\n",
       "    }\n",
       "\n",
       "    .dataframe tbody tr th {\n",
       "        vertical-align: top;\n",
       "    }\n",
       "\n",
       "    .dataframe thead th {\n",
       "        text-align: right;\n",
       "    }\n",
       "</style>\n",
       "<table border=\"1\" class=\"dataframe\">\n",
       "  <thead>\n",
       "    <tr style=\"text-align: right;\">\n",
       "      <th></th>\n",
       "      <th>base_color_male</th>\n",
       "      <th>with_white_male</th>\n",
       "      <th>base_color_female</th>\n",
       "      <th>with_white_female</th>\n",
       "      <th>prediction_color</th>\n",
       "    </tr>\n",
       "  </thead>\n",
       "  <tbody>\n",
       "    <tr>\n",
       "      <th>0</th>\n",
       "      <td>black</td>\n",
       "      <td>1</td>\n",
       "      <td>black</td>\n",
       "      <td>0</td>\n",
       "      <td>black</td>\n",
       "    </tr>\n",
       "    <tr>\n",
       "      <th>1</th>\n",
       "      <td>black</td>\n",
       "      <td>0</td>\n",
       "      <td>black</td>\n",
       "      <td>1</td>\n",
       "      <td>black</td>\n",
       "    </tr>\n",
       "    <tr>\n",
       "      <th>2</th>\n",
       "      <td>black</td>\n",
       "      <td>1</td>\n",
       "      <td>black</td>\n",
       "      <td>1</td>\n",
       "      <td>black</td>\n",
       "    </tr>\n",
       "    <tr>\n",
       "      <th>3</th>\n",
       "      <td>black</td>\n",
       "      <td>0</td>\n",
       "      <td>black</td>\n",
       "      <td>0</td>\n",
       "      <td>black</td>\n",
       "    </tr>\n",
       "    <tr>\n",
       "      <th>4</th>\n",
       "      <td>blue</td>\n",
       "      <td>0</td>\n",
       "      <td>blue</td>\n",
       "      <td>0</td>\n",
       "      <td>blue</td>\n",
       "    </tr>\n",
       "  </tbody>\n",
       "</table>\n",
       "</div>"
      ],
      "text/plain": [
       "  base_color_male  with_white_male base_color_female  with_white_female  \\\n",
       "0           black                1             black                  0   \n",
       "1           black                0             black                  1   \n",
       "2           black                1             black                  1   \n",
       "3           black                0             black                  0   \n",
       "4            blue                0              blue                  0   \n",
       "\n",
       "  prediction_color  \n",
       "0            black  \n",
       "1            black  \n",
       "2            black  \n",
       "3            black  \n",
       "4             blue  "
      ]
     },
     "execution_count": 143,
     "metadata": {},
     "output_type": "execute_result"
    }
   ],
   "source": [
    "df.head()"
   ]
  },
  {
   "cell_type": "code",
   "execution_count": 144,
   "metadata": {},
   "outputs": [
    {
     "data": {
      "text/plain": [
       "array(['black', 'blue', 'red', 'creme'], dtype=object)"
      ]
     },
     "execution_count": 144,
     "metadata": {},
     "output_type": "execute_result"
    }
   ],
   "source": [
    "df['base_color_male'].unique()"
   ]
  },
  {
   "cell_type": "code",
   "execution_count": 145,
   "metadata": {},
   "outputs": [],
   "source": [
    "df['base_color_male'] = df['base_color_male'].map({'black':0,'blue':1, 'red':2,'creme':3})"
   ]
  },
  {
   "cell_type": "code",
   "execution_count": 146,
   "metadata": {},
   "outputs": [
    {
     "data": {
      "text/plain": [
       "array(['black', 'blue', 'red', 'creme', 'black tortie', 'blue tortie'],\n",
       "      dtype=object)"
      ]
     },
     "execution_count": 146,
     "metadata": {},
     "output_type": "execute_result"
    }
   ],
   "source": [
    "df['base_color_female'].unique()"
   ]
  },
  {
   "cell_type": "code",
   "execution_count": 147,
   "metadata": {},
   "outputs": [],
   "source": [
    "df['base_color_female'] = df['base_color_female'].map({'black':0,'blue':1, 'red':2,'creme':3, 'black tortie':4, 'blue tortie': 5})"
   ]
  },
  {
   "cell_type": "code",
   "execution_count": null,
   "metadata": {},
   "outputs": [],
   "source": []
  },
  {
   "cell_type": "code",
   "execution_count": 148,
   "metadata": {},
   "outputs": [],
   "source": [
    "X = df.drop(['prediction_color'], axis = 1)\n",
    "Y = df['prediction_color']"
   ]
  },
  {
   "cell_type": "code",
   "execution_count": 149,
   "metadata": {},
   "outputs": [
    {
     "data": {
      "text/html": [
       "<div>\n",
       "<style scoped>\n",
       "    .dataframe tbody tr th:only-of-type {\n",
       "        vertical-align: middle;\n",
       "    }\n",
       "\n",
       "    .dataframe tbody tr th {\n",
       "        vertical-align: top;\n",
       "    }\n",
       "\n",
       "    .dataframe thead th {\n",
       "        text-align: right;\n",
       "    }\n",
       "</style>\n",
       "<table border=\"1\" class=\"dataframe\">\n",
       "  <thead>\n",
       "    <tr style=\"text-align: right;\">\n",
       "      <th></th>\n",
       "      <th>base_color_male</th>\n",
       "      <th>with_white_male</th>\n",
       "      <th>base_color_female</th>\n",
       "      <th>with_white_female</th>\n",
       "    </tr>\n",
       "  </thead>\n",
       "  <tbody>\n",
       "    <tr>\n",
       "      <th>0</th>\n",
       "      <td>0</td>\n",
       "      <td>1</td>\n",
       "      <td>0</td>\n",
       "      <td>0</td>\n",
       "    </tr>\n",
       "    <tr>\n",
       "      <th>1</th>\n",
       "      <td>0</td>\n",
       "      <td>0</td>\n",
       "      <td>0</td>\n",
       "      <td>1</td>\n",
       "    </tr>\n",
       "    <tr>\n",
       "      <th>2</th>\n",
       "      <td>0</td>\n",
       "      <td>1</td>\n",
       "      <td>0</td>\n",
       "      <td>1</td>\n",
       "    </tr>\n",
       "    <tr>\n",
       "      <th>3</th>\n",
       "      <td>0</td>\n",
       "      <td>0</td>\n",
       "      <td>0</td>\n",
       "      <td>0</td>\n",
       "    </tr>\n",
       "    <tr>\n",
       "      <th>4</th>\n",
       "      <td>1</td>\n",
       "      <td>0</td>\n",
       "      <td>1</td>\n",
       "      <td>0</td>\n",
       "    </tr>\n",
       "    <tr>\n",
       "      <th>...</th>\n",
       "      <td>...</td>\n",
       "      <td>...</td>\n",
       "      <td>...</td>\n",
       "      <td>...</td>\n",
       "    </tr>\n",
       "    <tr>\n",
       "      <th>123</th>\n",
       "      <td>3</td>\n",
       "      <td>0</td>\n",
       "      <td>2</td>\n",
       "      <td>1</td>\n",
       "    </tr>\n",
       "    <tr>\n",
       "      <th>124</th>\n",
       "      <td>3</td>\n",
       "      <td>0</td>\n",
       "      <td>3</td>\n",
       "      <td>1</td>\n",
       "    </tr>\n",
       "    <tr>\n",
       "      <th>125</th>\n",
       "      <td>3</td>\n",
       "      <td>0</td>\n",
       "      <td>4</td>\n",
       "      <td>1</td>\n",
       "    </tr>\n",
       "    <tr>\n",
       "      <th>126</th>\n",
       "      <td>3</td>\n",
       "      <td>0</td>\n",
       "      <td>4</td>\n",
       "      <td>1</td>\n",
       "    </tr>\n",
       "    <tr>\n",
       "      <th>127</th>\n",
       "      <td>3</td>\n",
       "      <td>0</td>\n",
       "      <td>5</td>\n",
       "      <td>1</td>\n",
       "    </tr>\n",
       "  </tbody>\n",
       "</table>\n",
       "<p>128 rows × 4 columns</p>\n",
       "</div>"
      ],
      "text/plain": [
       "     base_color_male  with_white_male  base_color_female  with_white_female\n",
       "0                  0                1                  0                  0\n",
       "1                  0                0                  0                  1\n",
       "2                  0                1                  0                  1\n",
       "3                  0                0                  0                  0\n",
       "4                  1                0                  1                  0\n",
       "..               ...              ...                ...                ...\n",
       "123                3                0                  2                  1\n",
       "124                3                0                  3                  1\n",
       "125                3                0                  4                  1\n",
       "126                3                0                  4                  1\n",
       "127                3                0                  5                  1\n",
       "\n",
       "[128 rows x 4 columns]"
      ]
     },
     "execution_count": 149,
     "metadata": {},
     "output_type": "execute_result"
    }
   ],
   "source": [
    "X"
   ]
  },
  {
   "cell_type": "code",
   "execution_count": 150,
   "metadata": {},
   "outputs": [
    {
     "data": {
      "text/plain": [
       "0             black\n",
       "1             black\n",
       "2             black\n",
       "3             black\n",
       "4              blue\n",
       "           ...     \n",
       "123             red\n",
       "124           creme\n",
       "125    black tortie\n",
       "126             red\n",
       "127     blue tortie\n",
       "Name: prediction_color, Length: 128, dtype: object"
      ]
     },
     "execution_count": 150,
     "metadata": {},
     "output_type": "execute_result"
    }
   ],
   "source": [
    "Y"
   ]
  },
  {
   "cell_type": "code",
   "execution_count": 151,
   "metadata": {},
   "outputs": [],
   "source": [
    "encoder = LabelEncoder()\n",
    "encoder.fit(Y)\n",
    "Y = encoder.transform(Y)\n",
    "Y = np_utils.to_categorical(Y)"
   ]
  },
  {
   "cell_type": "code",
   "execution_count": 152,
   "metadata": {},
   "outputs": [],
   "source": [
    "\n",
    "X_train, X_test, y_train, y_test = model_selection.train_test_split(X, Y, test_size=0.2)"
   ]
  },
  {
   "cell_type": "code",
   "execution_count": 159,
   "metadata": {},
   "outputs": [
    {
     "name": "stdout",
     "output_type": "stream",
     "text": [
      "Epoch 1/50\n",
      "51/51 [==============================] - 0s 1ms/step - loss: 1.7358 - accuracy: 0.3627\n",
      "Epoch 2/50\n",
      "51/51 [==============================] - 0s 1ms/step - loss: 1.5814 - accuracy: 0.3725\n",
      "Epoch 3/50\n",
      "51/51 [==============================] - 0s 1ms/step - loss: 1.4999 - accuracy: 0.4118\n",
      "Epoch 4/50\n",
      "51/51 [==============================] - 0s 1ms/step - loss: 1.4088 - accuracy: 0.4216\n",
      "Epoch 5/50\n",
      "51/51 [==============================] - 0s 1ms/step - loss: 1.3071 - accuracy: 0.4902\n",
      "Epoch 6/50\n",
      "51/51 [==============================] - 0s 1ms/step - loss: 1.2548 - accuracy: 0.4804\n",
      "Epoch 7/50\n",
      "51/51 [==============================] - 0s 1ms/step - loss: 1.1857 - accuracy: 0.5490\n",
      "Epoch 8/50\n",
      "51/51 [==============================] - 0s 1ms/step - loss: 1.1445 - accuracy: 0.5196\n",
      "Epoch 9/50\n",
      "51/51 [==============================] - 0s 1ms/step - loss: 1.1032 - accuracy: 0.4902\n",
      "Epoch 10/50\n",
      "51/51 [==============================] - 0s 1ms/step - loss: 1.0830 - accuracy: 0.5098\n",
      "Epoch 11/50\n",
      "51/51 [==============================] - 0s 1ms/step - loss: 1.0476 - accuracy: 0.5392\n",
      "Epoch 12/50\n",
      "51/51 [==============================] - 0s 1ms/step - loss: 1.0050 - accuracy: 0.5686\n",
      "Epoch 13/50\n",
      "51/51 [==============================] - 0s 1ms/step - loss: 0.9824 - accuracy: 0.5980\n",
      "Epoch 14/50\n",
      "51/51 [==============================] - 0s 2ms/step - loss: 1.0010 - accuracy: 0.5882\n",
      "Epoch 15/50\n",
      "51/51 [==============================] - 0s 1ms/step - loss: 0.9478 - accuracy: 0.6275\n",
      "Epoch 16/50\n",
      "51/51 [==============================] - 0s 1ms/step - loss: 0.9499 - accuracy: 0.5784\n",
      "Epoch 17/50\n",
      "51/51 [==============================] - 0s 1ms/step - loss: 0.9121 - accuracy: 0.6471\n",
      "Epoch 18/50\n",
      "51/51 [==============================] - 0s 1ms/step - loss: 0.8845 - accuracy: 0.6667\n",
      "Epoch 19/50\n",
      "51/51 [==============================] - 0s 1ms/step - loss: 0.8596 - accuracy: 0.6471\n",
      "Epoch 20/50\n",
      "51/51 [==============================] - 0s 1ms/step - loss: 0.8296 - accuracy: 0.6471\n",
      "Epoch 21/50\n",
      "51/51 [==============================] - 0s 1ms/step - loss: 0.8364 - accuracy: 0.6863\n",
      "Epoch 22/50\n",
      "51/51 [==============================] - 0s 1ms/step - loss: 0.7998 - accuracy: 0.6569\n",
      "Epoch 23/50\n",
      "51/51 [==============================] - 0s 1ms/step - loss: 0.7860 - accuracy: 0.6863\n",
      "Epoch 24/50\n",
      "51/51 [==============================] - 0s 1ms/step - loss: 0.7682 - accuracy: 0.6863\n",
      "Epoch 25/50\n",
      "51/51 [==============================] - 0s 1ms/step - loss: 0.7507 - accuracy: 0.6765\n",
      "Epoch 26/50\n",
      "51/51 [==============================] - 0s 1ms/step - loss: 0.7276 - accuracy: 0.6765\n",
      "Epoch 27/50\n",
      "51/51 [==============================] - 0s 1ms/step - loss: 0.7296 - accuracy: 0.6765\n",
      "Epoch 28/50\n",
      "51/51 [==============================] - 0s 1ms/step - loss: 0.7085 - accuracy: 0.6863\n",
      "Epoch 29/50\n",
      "51/51 [==============================] - 0s 2ms/step - loss: 0.7091 - accuracy: 0.6961\n",
      "Epoch 30/50\n",
      "51/51 [==============================] - 0s 1ms/step - loss: 0.6762 - accuracy: 0.6961\n",
      "Epoch 31/50\n",
      "51/51 [==============================] - 0s 1ms/step - loss: 0.6433 - accuracy: 0.7157\n",
      "Epoch 32/50\n",
      "51/51 [==============================] - 0s 1ms/step - loss: 0.6833 - accuracy: 0.6961\n",
      "Epoch 33/50\n",
      "51/51 [==============================] - 0s 1ms/step - loss: 0.6635 - accuracy: 0.7255\n",
      "Epoch 34/50\n",
      "51/51 [==============================] - 0s 1ms/step - loss: 0.6394 - accuracy: 0.6863\n",
      "Epoch 35/50\n",
      "51/51 [==============================] - 0s 1ms/step - loss: 0.6530 - accuracy: 0.6961\n",
      "Epoch 36/50\n",
      "51/51 [==============================] - 0s 2ms/step - loss: 0.6382 - accuracy: 0.6961\n",
      "Epoch 37/50\n",
      "51/51 [==============================] - 0s 2ms/step - loss: 0.6442 - accuracy: 0.6961\n",
      "Epoch 38/50\n",
      "51/51 [==============================] - 0s 1ms/step - loss: 0.6141 - accuracy: 0.7157\n",
      "Epoch 39/50\n",
      "51/51 [==============================] - 0s 1ms/step - loss: 0.6091 - accuracy: 0.7353\n",
      "Epoch 40/50\n",
      "51/51 [==============================] - 0s 1ms/step - loss: 0.5900 - accuracy: 0.7059\n",
      "Epoch 41/50\n",
      "51/51 [==============================] - 0s 1ms/step - loss: 0.5762 - accuracy: 0.7255\n",
      "Epoch 42/50\n",
      "51/51 [==============================] - 0s 1ms/step - loss: 0.5850 - accuracy: 0.6961\n",
      "Epoch 43/50\n",
      "51/51 [==============================] - 0s 1ms/step - loss: 0.5639 - accuracy: 0.7255\n",
      "Epoch 44/50\n",
      "51/51 [==============================] - 0s 1ms/step - loss: 0.5589 - accuracy: 0.7157\n",
      "Epoch 45/50\n",
      "51/51 [==============================] - 0s 1ms/step - loss: 0.5724 - accuracy: 0.7255\n",
      "Epoch 46/50\n",
      "51/51 [==============================] - 0s 1ms/step - loss: 0.6060 - accuracy: 0.7353\n",
      "Epoch 47/50\n",
      "51/51 [==============================] - 0s 1ms/step - loss: 0.5389 - accuracy: 0.7451\n",
      "Epoch 48/50\n",
      "51/51 [==============================] - 0s 2ms/step - loss: 0.5374 - accuracy: 0.7157\n",
      "Epoch 49/50\n",
      "51/51 [==============================] - 0s 2ms/step - loss: 0.5352 - accuracy: 0.7157\n",
      "Epoch 50/50\n",
      "51/51 [==============================] - 0s 2ms/step - loss: 0.5350 - accuracy: 0.7353\n"
     ]
    },
    {
     "data": {
      "text/plain": [
       "<keras.callbacks.History at 0x229dfdd1340>"
      ]
     },
     "execution_count": 159,
     "metadata": {},
     "output_type": "execute_result"
    }
   ],
   "source": [
    "input_dim = len(data.columns) - 1\n",
    "\n",
    "model = Sequential()\n",
    "model.add(Dense(100, activation = 'relu'))\n",
    "model.add(Dense(100, activation = 'relu'))\n",
    "model.add(Dense(6, activation = 'softmax'))\n",
    "\n",
    "model.compile(loss = 'categorical_crossentropy' , optimizer = 'adam' , metrics = ['accuracy'] )\n",
    "\n",
    "model.fit(X_train, y_train, epochs = 50, batch_size = 2)\n"
   ]
  },
  {
   "cell_type": "code",
   "execution_count": 160,
   "metadata": {},
   "outputs": [
    {
     "name": "stdout",
     "output_type": "stream",
     "text": [
      "1\n",
      "4\n",
      "0\n",
      "0\n",
      "5\n",
      "5\n",
      "0\n",
      "1\n",
      "1\n",
      "0\n",
      "2\n",
      "4\n",
      "1\n",
      "0\n",
      "1\n",
      "2\n",
      "1\n",
      "1\n",
      "1\n",
      "1\n",
      "0\n",
      "5\n",
      "2\n",
      "4\n",
      "1\n"
     ]
    }
   ],
   "source": [
    "for i in range(1, len(X_test)):\n",
    "    pred = model.predict(X_test)[i]\n",
    "    print(np.argmax(pred))"
   ]
  },
  {
   "cell_type": "code",
   "execution_count": 166,
   "metadata": {},
   "outputs": [
    {
     "data": {
      "text/html": [
       "<div>\n",
       "<style scoped>\n",
       "    .dataframe tbody tr th:only-of-type {\n",
       "        vertical-align: middle;\n",
       "    }\n",
       "\n",
       "    .dataframe tbody tr th {\n",
       "        vertical-align: top;\n",
       "    }\n",
       "\n",
       "    .dataframe thead th {\n",
       "        text-align: right;\n",
       "    }\n",
       "</style>\n",
       "<table border=\"1\" class=\"dataframe\">\n",
       "  <thead>\n",
       "    <tr style=\"text-align: right;\">\n",
       "      <th></th>\n",
       "      <th>base_color_male</th>\n",
       "      <th>with_white_male</th>\n",
       "      <th>base_color_female</th>\n",
       "      <th>with_white_female</th>\n",
       "    </tr>\n",
       "  </thead>\n",
       "  <tbody>\n",
       "    <tr>\n",
       "      <th>28</th>\n",
       "      <td>0</td>\n",
       "      <td>1</td>\n",
       "      <td>1</td>\n",
       "      <td>0</td>\n",
       "    </tr>\n",
       "    <tr>\n",
       "      <th>57</th>\n",
       "      <td>1</td>\n",
       "      <td>1</td>\n",
       "      <td>1</td>\n",
       "      <td>0</td>\n",
       "    </tr>\n",
       "  </tbody>\n",
       "</table>\n",
       "</div>"
      ],
      "text/plain": [
       "    base_color_male  with_white_male  base_color_female  with_white_female\n",
       "28                0                1                  1                  0\n",
       "57                1                1                  1                  0"
      ]
     },
     "execution_count": 166,
     "metadata": {},
     "output_type": "execute_result"
    }
   ],
   "source": [
    "X_train[:2]"
   ]
  },
  {
   "cell_type": "code",
   "execution_count": 165,
   "metadata": {},
   "outputs": [
    {
     "data": {
      "text/plain": [
       "array([[1., 0., 0., 0., 0., 0.],\n",
       "       [0., 0., 1., 0., 0., 0.]], dtype=float32)"
      ]
     },
     "execution_count": 165,
     "metadata": {},
     "output_type": "execute_result"
    }
   ],
   "source": [
    "y_train[:2]"
   ]
  },
  {
   "cell_type": "code",
   "execution_count": 169,
   "metadata": {},
   "outputs": [
    {
     "data": {
      "text/plain": [
       "2"
      ]
     },
     "execution_count": 169,
     "metadata": {},
     "output_type": "execute_result"
    }
   ],
   "source": [
    "np.argmax(model.predict([[1,1,1,0]]))"
   ]
  },
  {
   "cell_type": "code",
   "execution_count": 170,
   "metadata": {},
   "outputs": [
    {
     "name": "stdout",
     "output_type": "stream",
     "text": [
      "INFO:tensorflow:Assets written to: female_class_color_predict_model_1\\assets\n"
     ]
    }
   ],
   "source": [
    "model.save('female_class_color_predict_model_1')"
   ]
  },
  {
   "cell_type": "code",
   "execution_count": 171,
   "metadata": {},
   "outputs": [],
   "source": [
    "# Select mode of optimization\n",
    "mode = \"Speed\" \n",
    "\n",
    "if mode == 'Storage':\n",
    "    optimization = tf.lite.Optimize.OPTIMIZE_FOR_SIZE\n",
    "elif mode == 'Speed':\n",
    "    optimization = tf.lite.Optimize.OPTIMIZE_FOR_LATENCY\n",
    "else:\n",
    "    optimization = tf.lite.Optimize.DEFAULT"
   ]
  },
  {
   "cell_type": "code",
   "execution_count": 172,
   "metadata": {},
   "outputs": [
    {
     "name": "stdout",
     "output_type": "stream",
     "text": [
      "INFO:tensorflow:Assets written to: model_female_color_1\\assets\n"
     ]
    }
   ],
   "source": [
    "export_dir = 'model_female_color_1'\n",
    "tf.saved_model.save(model, export_dir)"
   ]
  },
  {
   "cell_type": "code",
   "execution_count": 173,
   "metadata": {},
   "outputs": [
    {
     "name": "stderr",
     "output_type": "stream",
     "text": [
      "WARNING:absl:Optimization option OPTIMIZE_FOR_LATENCY is deprecated, please use optimizations=[Optimize.DEFAULT] instead.\n",
      "WARNING:absl:Optimization option OPTIMIZE_FOR_LATENCY is deprecated, please use optimizations=[Optimize.DEFAULT] instead.\n",
      "WARNING:absl:Optimization option OPTIMIZE_FOR_LATENCY is deprecated, please use optimizations=[Optimize.DEFAULT] instead.\n",
      "WARNING:absl:Buffer deduplication procedure will be skipped when flatbuffer library is not properly loaded\n"
     ]
    }
   ],
   "source": [
    "\n",
    "converter = tf.lite.TFLiteConverter.from_saved_model(export_dir)\n",
    "\n",
    "# Set the optimzations\n",
    "converter.optimizations = [optimization]\n",
    "\n",
    "# Invoke the converter to finally generate the TFLite model\n",
    "tflite_model = converter.convert()"
   ]
  },
  {
   "cell_type": "code",
   "execution_count": 176,
   "metadata": {},
   "outputs": [
    {
     "data": {
      "text/plain": [
       "17104"
      ]
     },
     "execution_count": 176,
     "metadata": {},
     "output_type": "execute_result"
    }
   ],
   "source": [
    "tflite_model_file = pathlib.Path('model_pedigree_female_1.tflite')\n",
    "tflite_model_file.write_bytes(tflite_model)"
   ]
  },
  {
   "cell_type": "code",
   "execution_count": 177,
   "metadata": {},
   "outputs": [],
   "source": [
    "interpreter = tf.lite.Interpreter(model_content=tflite_model)\n",
    "interpreter.allocate_tensors()\n",
    "\n"
   ]
  },
  {
   "cell_type": "code",
   "execution_count": 181,
   "metadata": {},
   "outputs": [],
   "source": [
    "with open('labels_pedigree.txt', 'w') as f:\n",
    "    for label in class_labels:\n",
    "        f.writelines(f'{label}\\n')"
   ]
  },
  {
   "cell_type": "code",
   "execution_count": null,
   "metadata": {},
   "outputs": [],
   "source": []
  }
 ],
 "metadata": {
  "kernelspec": {
   "display_name": "Python 3 (ipykernel)",
   "language": "python",
   "name": "python3"
  },
  "language_info": {
   "codemirror_mode": {
    "name": "ipython",
    "version": 3
   },
   "file_extension": ".py",
   "mimetype": "text/x-python",
   "name": "python",
   "nbconvert_exporter": "python",
   "pygments_lexer": "ipython3",
   "version": "3.9.7"
  }
 },
 "nbformat": 4,
 "nbformat_minor": 1
}
