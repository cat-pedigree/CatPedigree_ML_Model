{
 "cells": [
  {
   "cell_type": "code",
   "execution_count": 1,
   "metadata": {
    "_cell_guid": "b1076dfc-b9ad-4769-8c92-a6c4dae69d19",
    "_uuid": "8f2839f25d086af736a60e9eeb907d3b93b6e0e5"
   },
   "outputs": [],
   "source": [
    "import numpy as np \n",
    "import pandas as pd \n",
    "import tensorflow as tf\n",
    "import pandas as pd \n",
    "import seaborn as sns\n",
    "import matplotlib.pyplot as plt\n",
    "import pathlib\n",
    "import numpy as np \n",
    "import pandas as pd \n",
    "import pandas as pd \n",
    "import numpy as np \n",
    "import scipy as sp \n",
    "import sklearn\n",
    "import random \n",
    "import time \n",
    "\n",
    "from sklearn.preprocessing import StandardScaler\n",
    "from sklearn import preprocessing, model_selection\n",
    "from keras.models import Sequential \n",
    "from keras.layers import Dense \n",
    "from keras.utils import np_utils\n",
    "from sklearn.preprocessing import LabelEncoder\n",
    "from keras.utils.np_utils import to_categorical\n",
    "from sklearn.utils import shuffle"
   ]
  },
  {
   "cell_type": "markdown",
   "metadata": {
    "_uuid": "8767d0a23f70ca6cb50f529f54b24a65a28afd3c"
   },
   "source": [
    "\n",
    "This is a very basic example of a construction of a neural network that allows for a multiclass classification with tensorflow keras."
   ]
  },
  {
   "cell_type": "code",
   "execution_count": 137,
   "metadata": {
    "_cell_guid": "79c7e3d0-c299-4dcb-8224-4455121ee9b0",
    "_uuid": "d629ff2d2480ee46fbb7e2d37f6b5fab8052498a"
   },
   "outputs": [
    {
     "data": {
      "text/html": [
       "<div>\n",
       "<style scoped>\n",
       "    .dataframe tbody tr th:only-of-type {\n",
       "        vertical-align: middle;\n",
       "    }\n",
       "\n",
       "    .dataframe tbody tr th {\n",
       "        vertical-align: top;\n",
       "    }\n",
       "\n",
       "    .dataframe thead th {\n",
       "        text-align: right;\n",
       "    }\n",
       "</style>\n",
       "<table border=\"1\" class=\"dataframe\">\n",
       "  <thead>\n",
       "    <tr style=\"text-align: right;\">\n",
       "      <th></th>\n",
       "      <th>base_color_male</th>\n",
       "      <th>with_white_male</th>\n",
       "      <th>base_color_female</th>\n",
       "      <th>with_white_female</th>\n",
       "      <th>prediction_color</th>\n",
       "    </tr>\n",
       "  </thead>\n",
       "  <tbody>\n",
       "    <tr>\n",
       "      <th>0</th>\n",
       "      <td>black</td>\n",
       "      <td>1</td>\n",
       "      <td>black</td>\n",
       "      <td>0</td>\n",
       "      <td>black</td>\n",
       "    </tr>\n",
       "    <tr>\n",
       "      <th>1</th>\n",
       "      <td>black</td>\n",
       "      <td>0</td>\n",
       "      <td>black</td>\n",
       "      <td>1</td>\n",
       "      <td>black</td>\n",
       "    </tr>\n",
       "    <tr>\n",
       "      <th>2</th>\n",
       "      <td>black</td>\n",
       "      <td>1</td>\n",
       "      <td>black</td>\n",
       "      <td>1</td>\n",
       "      <td>black</td>\n",
       "    </tr>\n",
       "    <tr>\n",
       "      <th>3</th>\n",
       "      <td>black</td>\n",
       "      <td>0</td>\n",
       "      <td>black</td>\n",
       "      <td>0</td>\n",
       "      <td>black</td>\n",
       "    </tr>\n",
       "    <tr>\n",
       "      <th>4</th>\n",
       "      <td>blue</td>\n",
       "      <td>0</td>\n",
       "      <td>blue</td>\n",
       "      <td>0</td>\n",
       "      <td>blue</td>\n",
       "    </tr>\n",
       "    <tr>\n",
       "      <th>...</th>\n",
       "      <td>...</td>\n",
       "      <td>...</td>\n",
       "      <td>...</td>\n",
       "      <td>...</td>\n",
       "      <td>...</td>\n",
       "    </tr>\n",
       "    <tr>\n",
       "      <th>123</th>\n",
       "      <td>creme</td>\n",
       "      <td>0</td>\n",
       "      <td>red</td>\n",
       "      <td>1</td>\n",
       "      <td>red</td>\n",
       "    </tr>\n",
       "    <tr>\n",
       "      <th>124</th>\n",
       "      <td>creme</td>\n",
       "      <td>0</td>\n",
       "      <td>creme</td>\n",
       "      <td>1</td>\n",
       "      <td>creme</td>\n",
       "    </tr>\n",
       "    <tr>\n",
       "      <th>125</th>\n",
       "      <td>creme</td>\n",
       "      <td>0</td>\n",
       "      <td>black tortie</td>\n",
       "      <td>1</td>\n",
       "      <td>black tortie</td>\n",
       "    </tr>\n",
       "    <tr>\n",
       "      <th>126</th>\n",
       "      <td>creme</td>\n",
       "      <td>0</td>\n",
       "      <td>black tortie</td>\n",
       "      <td>1</td>\n",
       "      <td>red</td>\n",
       "    </tr>\n",
       "    <tr>\n",
       "      <th>127</th>\n",
       "      <td>creme</td>\n",
       "      <td>0</td>\n",
       "      <td>blue tortie</td>\n",
       "      <td>1</td>\n",
       "      <td>blue tortie</td>\n",
       "    </tr>\n",
       "  </tbody>\n",
       "</table>\n",
       "<p>128 rows × 5 columns</p>\n",
       "</div>"
      ],
      "text/plain": [
       "    base_color_male  with_white_male base_color_female  with_white_female  \\\n",
       "0             black                1             black                  0   \n",
       "1             black                0             black                  1   \n",
       "2             black                1             black                  1   \n",
       "3             black                0             black                  0   \n",
       "4              blue                0              blue                  0   \n",
       "..              ...              ...               ...                ...   \n",
       "123           creme                0               red                  1   \n",
       "124           creme                0             creme                  1   \n",
       "125           creme                0      black tortie                  1   \n",
       "126           creme                0      black tortie                  1   \n",
       "127           creme                0       blue tortie                  1   \n",
       "\n",
       "    prediction_color  \n",
       "0              black  \n",
       "1              black  \n",
       "2              black  \n",
       "3              black  \n",
       "4               blue  \n",
       "..               ...  \n",
       "123              red  \n",
       "124            creme  \n",
       "125     black tortie  \n",
       "126              red  \n",
       "127      blue tortie  \n",
       "\n",
       "[128 rows x 5 columns]"
      ]
     },
     "execution_count": 137,
     "metadata": {},
     "output_type": "execute_result"
    }
   ],
   "source": [
    "data = pd.read_csv('color_pedigree.csv')\n",
    "data"
   ]
  },
  {
   "cell_type": "markdown",
   "metadata": {
    "_uuid": "44eff1c89dbe79d90f8d566af242c64050c68282"
   },
   "source": [
    "\n",
    "We are going to separate the data. One part will be used to make predictions in the end, the other part, the most important will be used for training and testing the neural network.\n",
    "This part is not mandatory, but it is for fun, and especially to show how to predict from an input."
   ]
  },
  {
   "cell_type": "code",
   "execution_count": 138,
   "metadata": {},
   "outputs": [],
   "source": [
    "data[data['base_color_male'] == 'creme'] = 'silver'\n",
    "data[data['base_color_male'] == 'gray'] = 'gray'"
   ]
  },
  {
   "cell_type": "code",
   "execution_count": null,
   "metadata": {},
   "outputs": [],
   "source": []
  },
  {
   "cell_type": "code",
   "execution_count": 139,
   "metadata": {},
   "outputs": [
    {
     "data": {
      "text/plain": [
       "array(['black', 'blue', 'red', 'silver', 'black tortie', 'blue tortie'],\n",
       "      dtype=object)"
      ]
     },
     "execution_count": 139,
     "metadata": {},
     "output_type": "execute_result"
    }
   ],
   "source": [
    "class_labels = data['prediction_color'].unique()\n",
    "class_labels"
   ]
  },
  {
   "cell_type": "code",
   "execution_count": 80,
   "metadata": {
    "_uuid": "d9e731193269dd5d9f5a6031eba8633c079990f1"
   },
   "outputs": [],
   "source": [
    "data = shuffle(data)\n",
    "\n",
    "\n",
    "i = 8\n",
    "data_to_predict = data.reset_index(drop = True)\n",
    "predict_species = data_to_predict.prediction_color \n",
    "predict_species = np.array(predict_species)\n",
    "prediction = np.array(data_to_predict.drop(['prediction_color'],axis= 1))\n",
    "\n",
    "data = data.reset_index(drop = True)\n",
    "\n",
    "\n",
    "\n"
   ]
  },
  {
   "cell_type": "code",
   "execution_count": 102,
   "metadata": {
    "_uuid": "48aae017bb4aab8f20baf2df67a509a8a0e74953"
   },
   "outputs": [],
   "source": [
    "X = data.drop(['prediction_color'], axis = 1)\n",
    "X = np.array(X)\n",
    "Y = data['prediction_color']\n",
    "\n",
    "\n"
   ]
  },
  {
   "cell_type": "markdown",
   "metadata": {
    "_uuid": "41afaf05baf26bd37297723e6abffcda55c8b6e1"
   },
   "source": [
    "\n",
    "We must transform the column of classes, because we have a format 'str', and it is a multiclass situation. We must first convert the names of species into numerical values, then into vectors for the output of the neuron network. \n"
   ]
  },
  {
   "cell_type": "code",
   "execution_count": 104,
   "metadata": {},
   "outputs": [
    {
     "data": {
      "text/plain": [
       "(128, 12)"
      ]
     },
     "execution_count": 104,
     "metadata": {},
     "output_type": "execute_result"
    }
   ],
   "source": [
    "X.shape"
   ]
  },
  {
   "cell_type": "code",
   "execution_count": 82,
   "metadata": {
    "_uuid": "7f0a355e8a8d551efd9f3f84ef3bb5a395be1ac4"
   },
   "outputs": [],
   "source": [
    "# Transform name species into numerical values \n",
    "encoder = LabelEncoder()\n",
    "encoder.fit(Y)\n",
    "Y = encoder.transform(Y)\n",
    "Y = np_utils.to_categorical(Y)\n",
    "#print(Y)\n",
    "\n",
    "# We have 3 classes : the output looks like : \n",
    "#0,0,1 : Class 1\n",
    "#0,1,0 : Class 2\n",
    "#1,0,0 : Class 3"
   ]
  },
  {
   "cell_type": "code",
   "execution_count": 83,
   "metadata": {
    "_uuid": "5e86b0552df3431f037a0b6950ec97665bbfe66b"
   },
   "outputs": [],
   "source": [
    "train_x, test_x, train_y, test_y = model_selection.train_test_split(X,Y,test_size = 0.1, random_state = 0)"
   ]
  },
  {
   "cell_type": "code",
   "execution_count": 91,
   "metadata": {},
   "outputs": [
    {
     "data": {
      "text/plain": [
       "4"
      ]
     },
     "execution_count": 91,
     "metadata": {},
     "output_type": "execute_result"
    }
   ],
   "source": [
    "len(data.columns) - 1"
   ]
  },
  {
   "cell_type": "code",
   "execution_count": 92,
   "metadata": {},
   "outputs": [
    {
     "data": {
      "text/plain": [
       "5"
      ]
     },
     "execution_count": 92,
     "metadata": {},
     "output_type": "execute_result"
    }
   ],
   "source": [
    "len(data.columns)"
   ]
  },
  {
   "cell_type": "markdown",
   "metadata": {
    "_uuid": "7cefa4b784bf192f12ee8ac97a2121a4504a25ff"
   },
   "source": [
    "\n",
    "It's time to build our neural network. The dimension in input is the number of features of the dataframe (without the class to predict!).\n",
    "\n",
    "We are on a multiclass classification situation, so the activation function for the last most suitable layer is \"softmax\", and \"categorical_crossentropy\" for the loss.\n",
    "\n",
    "We have to do several tests to find the best architecture, but this one works pretty well"
   ]
  },
  {
   "cell_type": "code",
   "execution_count": 94,
   "metadata": {
    "_uuid": "a1b4e25da0f242df534fa1fc753e3b18c40acfb4"
   },
   "outputs": [
    {
     "name": "stdout",
     "output_type": "stream",
     "text": [
      "Epoch 1/20\n",
      "58/58 [==============================] - 0s 2ms/step - loss: 1.7084 - accuracy: 0.2696\n",
      "Epoch 2/20\n",
      "58/58 [==============================] - 0s 1ms/step - loss: 1.5031 - accuracy: 0.4000\n",
      "Epoch 3/20\n",
      "58/58 [==============================] - 0s 1ms/step - loss: 1.3635 - accuracy: 0.4174\n",
      "Epoch 4/20\n",
      "58/58 [==============================] - 0s 1ms/step - loss: 1.2327 - accuracy: 0.4522\n",
      "Epoch 5/20\n",
      "58/58 [==============================] - 0s 1ms/step - loss: 1.0966 - accuracy: 0.5217\n",
      "Epoch 6/20\n",
      "58/58 [==============================] - 0s 1ms/step - loss: 0.9781 - accuracy: 0.6957\n",
      "Epoch 7/20\n",
      "58/58 [==============================] - 0s 1ms/step - loss: 0.8707 - accuracy: 0.6957\n",
      "Epoch 8/20\n",
      "58/58 [==============================] - 0s 1ms/step - loss: 0.7772 - accuracy: 0.7043\n",
      "Epoch 9/20\n",
      "58/58 [==============================] - 0s 1ms/step - loss: 0.7060 - accuracy: 0.7391\n",
      "Epoch 10/20\n",
      "58/58 [==============================] - 0s 1ms/step - loss: 0.6477 - accuracy: 0.7565\n",
      "Epoch 11/20\n",
      "58/58 [==============================] - 0s 1ms/step - loss: 0.5997 - accuracy: 0.7565\n",
      "Epoch 12/20\n",
      "58/58 [==============================] - 0s 1ms/step - loss: 0.5602 - accuracy: 0.7739\n",
      "Epoch 13/20\n",
      "58/58 [==============================] - 0s 1ms/step - loss: 0.5179 - accuracy: 0.7739\n",
      "Epoch 14/20\n",
      "58/58 [==============================] - 0s 1ms/step - loss: 0.4915 - accuracy: 0.7739\n",
      "Epoch 15/20\n",
      "58/58 [==============================] - 0s 1ms/step - loss: 0.4702 - accuracy: 0.7826\n",
      "Epoch 16/20\n",
      "58/58 [==============================] - 0s 1ms/step - loss: 0.4518 - accuracy: 0.7478\n",
      "Epoch 17/20\n",
      "58/58 [==============================] - 0s 1ms/step - loss: 0.4334 - accuracy: 0.8000\n",
      "Epoch 18/20\n",
      "58/58 [==============================] - 0s 985us/step - loss: 0.4196 - accuracy: 0.7739\n",
      "Epoch 19/20\n",
      "58/58 [==============================] - 0s 1ms/step - loss: 0.4026 - accuracy: 0.7826\n",
      "Epoch 20/20\n",
      "58/58 [==============================] - 0s 1ms/step - loss: 0.3921 - accuracy: 0.7565\n"
     ]
    },
    {
     "data": {
      "text/plain": [
       "<keras.callbacks.History at 0x229dc58aa60>"
      ]
     },
     "execution_count": 94,
     "metadata": {},
     "output_type": "execute_result"
    }
   ],
   "source": [
    "input_dim = len(data.columns) - 1\n",
    "\n",
    "model = Sequential()\n",
    "model.add(Dense(8, activation = 'relu'))\n",
    "model.add(Dense(100, activation = 'relu'))\n",
    "model.add(Dense(6, activation = 'softmax'))\n",
    "\n",
    "model.compile(loss = 'categorical_crossentropy' , optimizer = 'adam' , metrics = ['accuracy'] )\n",
    "\n",
    "model.fit(train_x, train_y, epochs = 20, batch_size = 2)\n"
   ]
  },
  {
   "cell_type": "markdown",
   "metadata": {
    "_uuid": "a5cc4972755deb8b4f1fad010e1a1f7f947beac6"
   },
   "source": [
    "\n",
    "It is time to make predictions with the small sample removed from the base at the beginning.\n",
    "To train the neural network it was necessary to convert the species into vectors. So after the prediction it is necessary to carry out the opposite operation to recover the name of the associated species"
   ]
  },
  {
   "cell_type": "code",
   "execution_count": 100,
   "metadata": {
    "_uuid": "2058761ae283ed9eec77711e66e6b70f47a0d732"
   },
   "outputs": [
    {
     "name": "stdout",
     "output_type": "stream",
     "text": [
      " the nn predict black, and the species to find is black tortie\n"
     ]
    }
   ],
   "source": [
    "predictions = model.predict([[0, 0, 0, 1, 0, 0, 0, 0, 0, 0, 0, 1]])\n",
    "prediction_ = np.argmax(to_categorical(predictions), axis = 1)\n",
    "prediction_ = encoder.inverse_transform(prediction_)\n",
    "\n",
    "for i, j in zip(prediction_ , predict_species):\n",
    "    print( \" the nn predict {}, and the species to find is {}\".format(i,j))"
   ]
  },
  {
   "cell_type": "code",
   "execution_count": 96,
   "metadata": {
    "_uuid": "d8ce39ea6d54e24b49ef5bcc1d0b72072552465b"
   },
   "outputs": [
    {
     "data": {
      "text/plain": [
       "array([0, 0, 0, 1, 0, 0, 0, 0, 0, 0, 0, 1], dtype=int64)"
      ]
     },
     "execution_count": 96,
     "metadata": {},
     "output_type": "execute_result"
    }
   ],
   "source": [
    "train_x[0]"
   ]
  },
  {
   "cell_type": "code",
   "execution_count": null,
   "metadata": {
    "_uuid": "e07b640916927c9594c3d322264b47b8cff13b53"
   },
   "outputs": [],
   "source": []
  },
  {
   "cell_type": "code",
   "execution_count": null,
   "metadata": {
    "_uuid": "fa216dfa4c22f4987931a54842b9b45ef132302e",
    "collapsed": true
   },
   "outputs": [],
   "source": []
  },
  {
   "cell_type": "code",
   "execution_count": null,
   "metadata": {
    "_uuid": "7266945b21062d4a79caf56014b63fe8a1fa4d70",
    "collapsed": true
   },
   "outputs": [],
   "source": []
  },
  {
   "cell_type": "markdown",
   "metadata": {
    "_uuid": "fead7367974b8e5011418181903fbb0ffcb90804",
    "collapsed": true
   },
   "source": [
    "# Experiment 2"
   ]
  },
  {
   "cell_type": "code",
   "execution_count": 204,
   "metadata": {},
   "outputs": [],
   "source": [
    "df = pd.read_csv('color_pedigree.csv')"
   ]
  },
  {
   "cell_type": "code",
   "execution_count": 205,
   "metadata": {},
   "outputs": [
    {
     "data": {
      "text/html": [
       "<div>\n",
       "<style scoped>\n",
       "    .dataframe tbody tr th:only-of-type {\n",
       "        vertical-align: middle;\n",
       "    }\n",
       "\n",
       "    .dataframe tbody tr th {\n",
       "        vertical-align: top;\n",
       "    }\n",
       "\n",
       "    .dataframe thead th {\n",
       "        text-align: right;\n",
       "    }\n",
       "</style>\n",
       "<table border=\"1\" class=\"dataframe\">\n",
       "  <thead>\n",
       "    <tr style=\"text-align: right;\">\n",
       "      <th></th>\n",
       "      <th>base_color_male</th>\n",
       "      <th>with_white_male</th>\n",
       "      <th>base_color_female</th>\n",
       "      <th>with_white_female</th>\n",
       "      <th>prediction_color</th>\n",
       "    </tr>\n",
       "  </thead>\n",
       "  <tbody>\n",
       "    <tr>\n",
       "      <th>0</th>\n",
       "      <td>black</td>\n",
       "      <td>1</td>\n",
       "      <td>black</td>\n",
       "      <td>0</td>\n",
       "      <td>black</td>\n",
       "    </tr>\n",
       "    <tr>\n",
       "      <th>1</th>\n",
       "      <td>black</td>\n",
       "      <td>0</td>\n",
       "      <td>black</td>\n",
       "      <td>1</td>\n",
       "      <td>black</td>\n",
       "    </tr>\n",
       "    <tr>\n",
       "      <th>2</th>\n",
       "      <td>black</td>\n",
       "      <td>1</td>\n",
       "      <td>black</td>\n",
       "      <td>1</td>\n",
       "      <td>black</td>\n",
       "    </tr>\n",
       "    <tr>\n",
       "      <th>3</th>\n",
       "      <td>black</td>\n",
       "      <td>0</td>\n",
       "      <td>black</td>\n",
       "      <td>0</td>\n",
       "      <td>black</td>\n",
       "    </tr>\n",
       "    <tr>\n",
       "      <th>4</th>\n",
       "      <td>blue</td>\n",
       "      <td>0</td>\n",
       "      <td>blue</td>\n",
       "      <td>0</td>\n",
       "      <td>blue</td>\n",
       "    </tr>\n",
       "  </tbody>\n",
       "</table>\n",
       "</div>"
      ],
      "text/plain": [
       "  base_color_male  with_white_male base_color_female  with_white_female  \\\n",
       "0           black                1             black                  0   \n",
       "1           black                0             black                  1   \n",
       "2           black                1             black                  1   \n",
       "3           black                0             black                  0   \n",
       "4            blue                0              blue                  0   \n",
       "\n",
       "  prediction_color  \n",
       "0            black  \n",
       "1            black  \n",
       "2            black  \n",
       "3            black  \n",
       "4             blue  "
      ]
     },
     "execution_count": 205,
     "metadata": {},
     "output_type": "execute_result"
    }
   ],
   "source": [
    "df.head()"
   ]
  },
  {
   "cell_type": "code",
   "execution_count": 206,
   "metadata": {},
   "outputs": [],
   "source": [
    "df['base_color_male'] = df['base_color_male'].replace({'blue': 'gray', 'red': 'orange', 'creme': 'silver'})"
   ]
  },
  {
   "cell_type": "code",
   "execution_count": 207,
   "metadata": {},
   "outputs": [],
   "source": [
    "df['base_color_female'] = df['base_color_female'].replace({'blue tortie': 'gray tortie', 'blue': 'gray', 'red': 'orange', 'creme': 'silver'})"
   ]
  },
  {
   "cell_type": "code",
   "execution_count": 208,
   "metadata": {},
   "outputs": [],
   "source": [
    "df['prediction_color'] = df['prediction_color'].replace({'blue tortie': 'gray tortie', 'blue': 'gray', 'creme':'silver','red':'orange'})"
   ]
  },
  {
   "cell_type": "code",
   "execution_count": 209,
   "metadata": {},
   "outputs": [
    {
     "data": {
      "text/plain": [
       "array(['black', 'gray', 'orange', 'silver', 'black tortie', 'gray tortie'],\n",
       "      dtype=object)"
      ]
     },
     "execution_count": 209,
     "metadata": {},
     "output_type": "execute_result"
    }
   ],
   "source": [
    "df['prediction_color'].unique()"
   ]
  },
  {
   "cell_type": "code",
   "execution_count": 210,
   "metadata": {},
   "outputs": [
    {
     "data": {
      "text/plain": [
       "array(['black', 'gray', 'orange', 'silver'], dtype=object)"
      ]
     },
     "execution_count": 210,
     "metadata": {},
     "output_type": "execute_result"
    }
   ],
   "source": [
    "df['base_color_male'].unique()"
   ]
  },
  {
   "cell_type": "code",
   "execution_count": 211,
   "metadata": {},
   "outputs": [],
   "source": [
    "df['base_color_male'] = df['base_color_male'].map({'black':0,'gray':1, 'orange':2,'silver':3})"
   ]
  },
  {
   "cell_type": "code",
   "execution_count": 212,
   "metadata": {},
   "outputs": [
    {
     "data": {
      "text/plain": [
       "array(['black', 'gray', 'orange', 'silver', 'black tortie', 'gray tortie'],\n",
       "      dtype=object)"
      ]
     },
     "execution_count": 212,
     "metadata": {},
     "output_type": "execute_result"
    }
   ],
   "source": [
    "df['base_color_female'].unique()"
   ]
  },
  {
   "cell_type": "code",
   "execution_count": 213,
   "metadata": {},
   "outputs": [],
   "source": [
    "df['base_color_female'] = df['base_color_female'].map({'black':0,'gray':1, 'orange':2,'silver':3, 'black tortie':4, 'gray tortie': 5})"
   ]
  },
  {
   "cell_type": "code",
   "execution_count": 214,
   "metadata": {},
   "outputs": [
    {
     "data": {
      "text/plain": [
       "array(['black', 'gray', 'orange', 'silver', 'black tortie', 'gray tortie'],\n",
       "      dtype=object)"
      ]
     },
     "execution_count": 214,
     "metadata": {},
     "output_type": "execute_result"
    }
   ],
   "source": [
    "df['prediction_color'].unique()"
   ]
  },
  {
   "cell_type": "code",
   "execution_count": null,
   "metadata": {},
   "outputs": [],
   "source": []
  },
  {
   "cell_type": "code",
   "execution_count": 215,
   "metadata": {},
   "outputs": [],
   "source": [
    "X = df.drop(['prediction_color'], axis = 1)\n",
    "Y = df['prediction_color']"
   ]
  },
  {
   "cell_type": "code",
   "execution_count": 216,
   "metadata": {},
   "outputs": [
    {
     "data": {
      "text/html": [
       "<div>\n",
       "<style scoped>\n",
       "    .dataframe tbody tr th:only-of-type {\n",
       "        vertical-align: middle;\n",
       "    }\n",
       "\n",
       "    .dataframe tbody tr th {\n",
       "        vertical-align: top;\n",
       "    }\n",
       "\n",
       "    .dataframe thead th {\n",
       "        text-align: right;\n",
       "    }\n",
       "</style>\n",
       "<table border=\"1\" class=\"dataframe\">\n",
       "  <thead>\n",
       "    <tr style=\"text-align: right;\">\n",
       "      <th></th>\n",
       "      <th>base_color_male</th>\n",
       "      <th>with_white_male</th>\n",
       "      <th>base_color_female</th>\n",
       "      <th>with_white_female</th>\n",
       "    </tr>\n",
       "  </thead>\n",
       "  <tbody>\n",
       "    <tr>\n",
       "      <th>0</th>\n",
       "      <td>0</td>\n",
       "      <td>1</td>\n",
       "      <td>0</td>\n",
       "      <td>0</td>\n",
       "    </tr>\n",
       "    <tr>\n",
       "      <th>1</th>\n",
       "      <td>0</td>\n",
       "      <td>0</td>\n",
       "      <td>0</td>\n",
       "      <td>1</td>\n",
       "    </tr>\n",
       "    <tr>\n",
       "      <th>2</th>\n",
       "      <td>0</td>\n",
       "      <td>1</td>\n",
       "      <td>0</td>\n",
       "      <td>1</td>\n",
       "    </tr>\n",
       "    <tr>\n",
       "      <th>3</th>\n",
       "      <td>0</td>\n",
       "      <td>0</td>\n",
       "      <td>0</td>\n",
       "      <td>0</td>\n",
       "    </tr>\n",
       "    <tr>\n",
       "      <th>4</th>\n",
       "      <td>1</td>\n",
       "      <td>0</td>\n",
       "      <td>1</td>\n",
       "      <td>0</td>\n",
       "    </tr>\n",
       "    <tr>\n",
       "      <th>...</th>\n",
       "      <td>...</td>\n",
       "      <td>...</td>\n",
       "      <td>...</td>\n",
       "      <td>...</td>\n",
       "    </tr>\n",
       "    <tr>\n",
       "      <th>123</th>\n",
       "      <td>3</td>\n",
       "      <td>0</td>\n",
       "      <td>2</td>\n",
       "      <td>1</td>\n",
       "    </tr>\n",
       "    <tr>\n",
       "      <th>124</th>\n",
       "      <td>3</td>\n",
       "      <td>0</td>\n",
       "      <td>3</td>\n",
       "      <td>1</td>\n",
       "    </tr>\n",
       "    <tr>\n",
       "      <th>125</th>\n",
       "      <td>3</td>\n",
       "      <td>0</td>\n",
       "      <td>4</td>\n",
       "      <td>1</td>\n",
       "    </tr>\n",
       "    <tr>\n",
       "      <th>126</th>\n",
       "      <td>3</td>\n",
       "      <td>0</td>\n",
       "      <td>4</td>\n",
       "      <td>1</td>\n",
       "    </tr>\n",
       "    <tr>\n",
       "      <th>127</th>\n",
       "      <td>3</td>\n",
       "      <td>0</td>\n",
       "      <td>5</td>\n",
       "      <td>1</td>\n",
       "    </tr>\n",
       "  </tbody>\n",
       "</table>\n",
       "<p>128 rows × 4 columns</p>\n",
       "</div>"
      ],
      "text/plain": [
       "     base_color_male  with_white_male  base_color_female  with_white_female\n",
       "0                  0                1                  0                  0\n",
       "1                  0                0                  0                  1\n",
       "2                  0                1                  0                  1\n",
       "3                  0                0                  0                  0\n",
       "4                  1                0                  1                  0\n",
       "..               ...              ...                ...                ...\n",
       "123                3                0                  2                  1\n",
       "124                3                0                  3                  1\n",
       "125                3                0                  4                  1\n",
       "126                3                0                  4                  1\n",
       "127                3                0                  5                  1\n",
       "\n",
       "[128 rows x 4 columns]"
      ]
     },
     "execution_count": 216,
     "metadata": {},
     "output_type": "execute_result"
    }
   ],
   "source": [
    "X"
   ]
  },
  {
   "cell_type": "code",
   "execution_count": 217,
   "metadata": {},
   "outputs": [
    {
     "data": {
      "text/plain": [
       "0             black\n",
       "1             black\n",
       "2             black\n",
       "3             black\n",
       "4              gray\n",
       "           ...     \n",
       "123          orange\n",
       "124          silver\n",
       "125    black tortie\n",
       "126          orange\n",
       "127     gray tortie\n",
       "Name: prediction_color, Length: 128, dtype: object"
      ]
     },
     "execution_count": 217,
     "metadata": {},
     "output_type": "execute_result"
    }
   ],
   "source": [
    "Y"
   ]
  },
  {
   "cell_type": "code",
   "execution_count": 218,
   "metadata": {},
   "outputs": [],
   "source": [
    "X = X.astype(float)\n",
    "X = np.array(X)"
   ]
  },
  {
   "cell_type": "code",
   "execution_count": null,
   "metadata": {},
   "outputs": [],
   "source": []
  },
  {
   "cell_type": "code",
   "execution_count": 223,
   "metadata": {},
   "outputs": [],
   "source": [
    "encoder = LabelEncoder()\n",
    "encoder.fit(Y)\n",
    "Y = encoder.transform(Y)\n",
    "Y = np_utils.to_categorical(Y)"
   ]
  },
  {
   "cell_type": "code",
   "execution_count": 224,
   "metadata": {},
   "outputs": [],
   "source": [
    "X_train, X_test, y_train, y_test = model_selection.train_test_split(X, Y, test_size=0.3)"
   ]
  },
  {
   "cell_type": "code",
   "execution_count": 225,
   "metadata": {},
   "outputs": [
    {
     "name": "stdout",
     "output_type": "stream",
     "text": [
      "Epoch 1/500\n",
      "45/45 [==============================] - 0s 1ms/step - loss: 1.6993 - accuracy: 0.3596\n",
      "Epoch 2/500\n",
      "45/45 [==============================] - 0s 1ms/step - loss: 1.5548 - accuracy: 0.3933\n",
      "Epoch 3/500\n",
      "45/45 [==============================] - 0s 1ms/step - loss: 1.4716 - accuracy: 0.4045\n",
      "Epoch 4/500\n",
      "45/45 [==============================] - 0s 2ms/step - loss: 1.3974 - accuracy: 0.4157\n",
      "Epoch 5/500\n",
      "45/45 [==============================] - 0s 1ms/step - loss: 1.3270 - accuracy: 0.4719\n",
      "Epoch 6/500\n",
      "45/45 [==============================] - 0s 2ms/step - loss: 1.2780 - accuracy: 0.4831\n",
      "Epoch 7/500\n",
      "45/45 [==============================] - 0s 2ms/step - loss: 1.2068 - accuracy: 0.4831\n",
      "Epoch 8/500\n",
      "45/45 [==============================] - 0s 2ms/step - loss: 1.1609 - accuracy: 0.5169\n",
      "Epoch 9/500\n",
      "45/45 [==============================] - 0s 2ms/step - loss: 1.1445 - accuracy: 0.5393\n",
      "Epoch 10/500\n",
      "45/45 [==============================] - 0s 1ms/step - loss: 1.1104 - accuracy: 0.4831\n",
      "Epoch 11/500\n",
      "45/45 [==============================] - 0s 1ms/step - loss: 1.0785 - accuracy: 0.5393\n",
      "Epoch 12/500\n",
      "45/45 [==============================] - 0s 2ms/step - loss: 1.0615 - accuracy: 0.5056\n",
      "Epoch 13/500\n",
      "45/45 [==============================] - 0s 1ms/step - loss: 1.0264 - accuracy: 0.5618\n",
      "Epoch 14/500\n",
      "45/45 [==============================] - 0s 1ms/step - loss: 1.0100 - accuracy: 0.5506\n",
      "Epoch 15/500\n",
      "45/45 [==============================] - 0s 1ms/step - loss: 0.9929 - accuracy: 0.4831\n",
      "Epoch 16/500\n",
      "45/45 [==============================] - 0s 1ms/step - loss: 0.9826 - accuracy: 0.4944\n",
      "Epoch 17/500\n",
      "45/45 [==============================] - 0s 1ms/step - loss: 0.9350 - accuracy: 0.5843\n",
      "Epoch 18/500\n",
      "45/45 [==============================] - 0s 1ms/step - loss: 0.9287 - accuracy: 0.5506\n",
      "Epoch 19/500\n",
      "45/45 [==============================] - 0s 1ms/step - loss: 0.9086 - accuracy: 0.6067\n",
      "Epoch 20/500\n",
      "45/45 [==============================] - 0s 1ms/step - loss: 0.8943 - accuracy: 0.5955\n",
      "Epoch 21/500\n",
      "45/45 [==============================] - 0s 1ms/step - loss: 0.9410 - accuracy: 0.5730\n",
      "Epoch 22/500\n",
      "45/45 [==============================] - 0s 1ms/step - loss: 0.9083 - accuracy: 0.5618\n",
      "Epoch 23/500\n",
      "45/45 [==============================] - 0s 1ms/step - loss: 0.8499 - accuracy: 0.6180\n",
      "Epoch 24/500\n",
      "45/45 [==============================] - 0s 1ms/step - loss: 0.8495 - accuracy: 0.5955\n",
      "Epoch 25/500\n",
      "45/45 [==============================] - 0s 1ms/step - loss: 0.8498 - accuracy: 0.5843\n",
      "Epoch 26/500\n",
      "45/45 [==============================] - 0s 1ms/step - loss: 0.8120 - accuracy: 0.6067\n",
      "Epoch 27/500\n",
      "45/45 [==============================] - 0s 1ms/step - loss: 0.8246 - accuracy: 0.6292\n",
      "Epoch 28/500\n",
      "45/45 [==============================] - 0s 1ms/step - loss: 0.7772 - accuracy: 0.6404\n",
      "Epoch 29/500\n",
      "45/45 [==============================] - 0s 1ms/step - loss: 0.7452 - accuracy: 0.6517\n",
      "Epoch 30/500\n",
      "45/45 [==============================] - 0s 1ms/step - loss: 0.7486 - accuracy: 0.6517\n",
      "Epoch 31/500\n",
      "45/45 [==============================] - 0s 1ms/step - loss: 0.7631 - accuracy: 0.6292\n",
      "Epoch 32/500\n",
      "45/45 [==============================] - 0s 1ms/step - loss: 0.7558 - accuracy: 0.6517\n",
      "Epoch 33/500\n",
      "45/45 [==============================] - 0s 1ms/step - loss: 0.7218 - accuracy: 0.6742\n",
      "Epoch 34/500\n",
      "45/45 [==============================] - 0s 1ms/step - loss: 0.7173 - accuracy: 0.6517\n",
      "Epoch 35/500\n",
      "45/45 [==============================] - 0s 1ms/step - loss: 0.7126 - accuracy: 0.6292\n",
      "Epoch 36/500\n",
      "45/45 [==============================] - 0s 1ms/step - loss: 0.6955 - accuracy: 0.6854\n",
      "Epoch 37/500\n",
      "45/45 [==============================] - 0s 1ms/step - loss: 0.7146 - accuracy: 0.6742\n",
      "Epoch 38/500\n",
      "45/45 [==============================] - 0s 1ms/step - loss: 0.7034 - accuracy: 0.6629\n",
      "Epoch 39/500\n",
      "45/45 [==============================] - 0s 1ms/step - loss: 0.6731 - accuracy: 0.6517\n",
      "Epoch 40/500\n",
      "45/45 [==============================] - 0s 1ms/step - loss: 0.6548 - accuracy: 0.6742\n",
      "Epoch 41/500\n",
      "45/45 [==============================] - 0s 1ms/step - loss: 0.6594 - accuracy: 0.6966\n",
      "Epoch 42/500\n",
      "45/45 [==============================] - 0s 1ms/step - loss: 0.6617 - accuracy: 0.7079\n",
      "Epoch 43/500\n",
      "45/45 [==============================] - 0s 1ms/step - loss: 0.6325 - accuracy: 0.6966\n",
      "Epoch 44/500\n",
      "45/45 [==============================] - 0s 1ms/step - loss: 0.6255 - accuracy: 0.6742\n",
      "Epoch 45/500\n",
      "45/45 [==============================] - 0s 1ms/step - loss: 0.6141 - accuracy: 0.6629\n",
      "Epoch 46/500\n",
      "45/45 [==============================] - 0s 1ms/step - loss: 0.6027 - accuracy: 0.6629\n",
      "Epoch 47/500\n",
      "45/45 [==============================] - 0s 1ms/step - loss: 0.6087 - accuracy: 0.6966\n",
      "Epoch 48/500\n",
      "45/45 [==============================] - 0s 1ms/step - loss: 0.6252 - accuracy: 0.6742\n",
      "Epoch 49/500\n",
      "45/45 [==============================] - 0s 1ms/step - loss: 0.5963 - accuracy: 0.6292\n",
      "Epoch 50/500\n",
      "45/45 [==============================] - 0s 1ms/step - loss: 0.5944 - accuracy: 0.7528\n",
      "Epoch 51/500\n",
      "45/45 [==============================] - 0s 1ms/step - loss: 0.6060 - accuracy: 0.6517\n",
      "Epoch 52/500\n",
      "45/45 [==============================] - 0s 1ms/step - loss: 0.5956 - accuracy: 0.6854\n",
      "Epoch 53/500\n",
      "45/45 [==============================] - 0s 1ms/step - loss: 0.5731 - accuracy: 0.7416\n",
      "Epoch 54/500\n",
      "45/45 [==============================] - 0s 1ms/step - loss: 0.5818 - accuracy: 0.6966\n",
      "Epoch 55/500\n",
      "45/45 [==============================] - 0s 1ms/step - loss: 0.5713 - accuracy: 0.6629\n",
      "Epoch 56/500\n",
      "45/45 [==============================] - 0s 1ms/step - loss: 0.5632 - accuracy: 0.6854\n",
      "Epoch 57/500\n",
      "45/45 [==============================] - 0s 1ms/step - loss: 0.5722 - accuracy: 0.6854\n",
      "Epoch 58/500\n",
      "45/45 [==============================] - 0s 1ms/step - loss: 0.5627 - accuracy: 0.7191\n",
      "Epoch 59/500\n",
      "45/45 [==============================] - 0s 1ms/step - loss: 0.5391 - accuracy: 0.7191\n",
      "Epoch 60/500\n",
      "45/45 [==============================] - 0s 1ms/step - loss: 0.5342 - accuracy: 0.7191\n",
      "Epoch 61/500\n",
      "45/45 [==============================] - 0s 1ms/step - loss: 0.5350 - accuracy: 0.6966\n",
      "Epoch 62/500\n",
      "45/45 [==============================] - 0s 1ms/step - loss: 0.5417 - accuracy: 0.7079\n",
      "Epoch 63/500\n",
      "45/45 [==============================] - 0s 1ms/step - loss: 0.5281 - accuracy: 0.7416\n",
      "Epoch 64/500\n",
      "45/45 [==============================] - 0s 1ms/step - loss: 0.5594 - accuracy: 0.6854\n",
      "Epoch 65/500\n",
      "45/45 [==============================] - 0s 1ms/step - loss: 0.5475 - accuracy: 0.7191\n",
      "Epoch 66/500\n",
      "45/45 [==============================] - 0s 1ms/step - loss: 0.5167 - accuracy: 0.7303\n",
      "Epoch 67/500\n",
      "45/45 [==============================] - 0s 1ms/step - loss: 0.5186 - accuracy: 0.7303\n",
      "Epoch 68/500\n",
      "45/45 [==============================] - 0s 1ms/step - loss: 0.5060 - accuracy: 0.7191\n",
      "Epoch 69/500\n",
      "45/45 [==============================] - 0s 1ms/step - loss: 0.5287 - accuracy: 0.7528\n",
      "Epoch 70/500\n",
      "45/45 [==============================] - 0s 1ms/step - loss: 0.5072 - accuracy: 0.7640\n",
      "Epoch 71/500\n",
      "45/45 [==============================] - 0s 1ms/step - loss: 0.5084 - accuracy: 0.6966\n",
      "Epoch 72/500\n",
      "45/45 [==============================] - 0s 1ms/step - loss: 0.5078 - accuracy: 0.7191\n",
      "Epoch 73/500\n",
      "45/45 [==============================] - 0s 1ms/step - loss: 0.5103 - accuracy: 0.7416\n",
      "Epoch 74/500\n",
      "45/45 [==============================] - 0s 1ms/step - loss: 0.4948 - accuracy: 0.7753\n",
      "Epoch 75/500\n",
      "45/45 [==============================] - 0s 1ms/step - loss: 0.5297 - accuracy: 0.7191\n",
      "Epoch 76/500\n",
      "45/45 [==============================] - 0s 1ms/step - loss: 0.5034 - accuracy: 0.7303\n",
      "Epoch 77/500\n",
      "45/45 [==============================] - 0s 1ms/step - loss: 0.4707 - accuracy: 0.7865\n",
      "Epoch 78/500\n",
      "45/45 [==============================] - 0s 1ms/step - loss: 0.5415 - accuracy: 0.7528\n",
      "Epoch 79/500\n",
      "45/45 [==============================] - 0s 1ms/step - loss: 0.4962 - accuracy: 0.7640\n",
      "Epoch 80/500\n",
      "45/45 [==============================] - 0s 1ms/step - loss: 0.4740 - accuracy: 0.7753\n",
      "Epoch 81/500\n",
      "45/45 [==============================] - 0s 1ms/step - loss: 0.4871 - accuracy: 0.7640\n",
      "Epoch 82/500\n",
      "45/45 [==============================] - 0s 1ms/step - loss: 0.4962 - accuracy: 0.7528\n",
      "Epoch 83/500\n"
     ]
    },
    {
     "name": "stdout",
     "output_type": "stream",
     "text": [
      "45/45 [==============================] - 0s 1ms/step - loss: 0.4876 - accuracy: 0.7753\n",
      "Epoch 84/500\n",
      "45/45 [==============================] - 0s 1ms/step - loss: 0.4814 - accuracy: 0.7303\n",
      "Epoch 85/500\n",
      "45/45 [==============================] - 0s 1ms/step - loss: 0.4736 - accuracy: 0.7303\n",
      "Epoch 86/500\n",
      "45/45 [==============================] - 0s 1ms/step - loss: 0.4508 - accuracy: 0.7528\n",
      "Epoch 87/500\n",
      "45/45 [==============================] - 0s 1ms/step - loss: 0.4705 - accuracy: 0.7528\n",
      "Epoch 88/500\n",
      "45/45 [==============================] - 0s 1ms/step - loss: 0.4646 - accuracy: 0.7865\n",
      "Epoch 89/500\n",
      "45/45 [==============================] - 0s 1ms/step - loss: 0.4527 - accuracy: 0.7978\n",
      "Epoch 90/500\n",
      "45/45 [==============================] - 0s 1ms/step - loss: 0.4483 - accuracy: 0.7978\n",
      "Epoch 91/500\n",
      "45/45 [==============================] - 0s 1ms/step - loss: 0.4475 - accuracy: 0.7865\n",
      "Epoch 92/500\n",
      "45/45 [==============================] - 0s 1ms/step - loss: 0.4256 - accuracy: 0.7753\n",
      "Epoch 93/500\n",
      "45/45 [==============================] - 0s 1ms/step - loss: 0.4453 - accuracy: 0.7753\n",
      "Epoch 94/500\n",
      "45/45 [==============================] - 0s 1ms/step - loss: 0.4391 - accuracy: 0.7416\n",
      "Epoch 95/500\n",
      "45/45 [==============================] - 0s 1ms/step - loss: 0.4581 - accuracy: 0.7753\n",
      "Epoch 96/500\n",
      "45/45 [==============================] - 0s 1ms/step - loss: 0.4350 - accuracy: 0.7640\n",
      "Epoch 97/500\n",
      "45/45 [==============================] - 0s 1ms/step - loss: 0.4348 - accuracy: 0.7865\n",
      "Epoch 98/500\n",
      "45/45 [==============================] - 0s 1ms/step - loss: 0.4406 - accuracy: 0.7416\n",
      "Epoch 99/500\n",
      "45/45 [==============================] - 0s 1ms/step - loss: 0.7060 - accuracy: 0.7303\n",
      "Epoch 100/500\n",
      "45/45 [==============================] - 0s 1ms/step - loss: 0.5200 - accuracy: 0.7416\n",
      "Epoch 101/500\n",
      "45/45 [==============================] - 0s 1ms/step - loss: 0.4528 - accuracy: 0.7303\n",
      "Epoch 102/500\n",
      "45/45 [==============================] - 0s 1ms/step - loss: 0.4378 - accuracy: 0.7753\n",
      "Epoch 103/500\n",
      "45/45 [==============================] - 0s 1ms/step - loss: 0.4366 - accuracy: 0.7640\n",
      "Epoch 104/500\n",
      "45/45 [==============================] - 0s 1ms/step - loss: 0.4315 - accuracy: 0.7640\n",
      "Epoch 105/500\n",
      "45/45 [==============================] - 0s 1ms/step - loss: 0.4249 - accuracy: 0.7753\n",
      "Epoch 106/500\n",
      "45/45 [==============================] - 0s 1ms/step - loss: 0.4135 - accuracy: 0.7640\n",
      "Epoch 107/500\n",
      "45/45 [==============================] - 0s 1ms/step - loss: 0.4376 - accuracy: 0.7978\n",
      "Epoch 108/500\n",
      "45/45 [==============================] - 0s 1ms/step - loss: 0.4158 - accuracy: 0.7303\n",
      "Epoch 109/500\n",
      "45/45 [==============================] - 0s 1ms/step - loss: 0.4320 - accuracy: 0.7753\n",
      "Epoch 110/500\n",
      "45/45 [==============================] - 0s 1ms/step - loss: 0.4015 - accuracy: 0.7640\n",
      "Epoch 111/500\n",
      "45/45 [==============================] - 0s 1ms/step - loss: 0.3969 - accuracy: 0.7978\n",
      "Epoch 112/500\n",
      "45/45 [==============================] - 0s 1ms/step - loss: 0.4091 - accuracy: 0.7640\n",
      "Epoch 113/500\n",
      "45/45 [==============================] - 0s 1ms/step - loss: 0.4287 - accuracy: 0.7528\n",
      "Epoch 114/500\n",
      "45/45 [==============================] - 0s 1ms/step - loss: 0.4226 - accuracy: 0.7640\n",
      "Epoch 115/500\n",
      "45/45 [==============================] - 0s 1ms/step - loss: 0.3943 - accuracy: 0.7865\n",
      "Epoch 116/500\n",
      "45/45 [==============================] - 0s 1ms/step - loss: 0.4088 - accuracy: 0.7865\n",
      "Epoch 117/500\n",
      "45/45 [==============================] - 0s 1ms/step - loss: 0.3896 - accuracy: 0.7978\n",
      "Epoch 118/500\n",
      "45/45 [==============================] - 0s 1ms/step - loss: 0.4054 - accuracy: 0.7416\n",
      "Epoch 119/500\n",
      "45/45 [==============================] - 0s 1ms/step - loss: 0.3977 - accuracy: 0.7416\n",
      "Epoch 120/500\n",
      "45/45 [==============================] - 0s 1ms/step - loss: 0.3791 - accuracy: 0.7753\n",
      "Epoch 121/500\n",
      "45/45 [==============================] - 0s 1ms/step - loss: 0.3897 - accuracy: 0.7640\n",
      "Epoch 122/500\n",
      "45/45 [==============================] - 0s 1ms/step - loss: 0.3858 - accuracy: 0.7753\n",
      "Epoch 123/500\n",
      "45/45 [==============================] - 0s 1ms/step - loss: 0.3802 - accuracy: 0.7416\n",
      "Epoch 124/500\n",
      "45/45 [==============================] - 0s 1ms/step - loss: 0.3878 - accuracy: 0.7416\n",
      "Epoch 125/500\n",
      "45/45 [==============================] - 0s 1ms/step - loss: 0.3808 - accuracy: 0.7416\n",
      "Epoch 126/500\n",
      "45/45 [==============================] - 0s 1ms/step - loss: 0.3838 - accuracy: 0.7978\n",
      "Epoch 127/500\n",
      "45/45 [==============================] - 0s 1ms/step - loss: 0.3914 - accuracy: 0.7865\n",
      "Epoch 128/500\n",
      "45/45 [==============================] - 0s 1ms/step - loss: 0.3776 - accuracy: 0.7753\n",
      "Epoch 129/500\n",
      "45/45 [==============================] - 0s 1ms/step - loss: 0.3910 - accuracy: 0.8090\n",
      "Epoch 130/500\n",
      "45/45 [==============================] - 0s 1ms/step - loss: 0.3815 - accuracy: 0.8202\n",
      "Epoch 131/500\n",
      "45/45 [==============================] - 0s 1ms/step - loss: 0.3664 - accuracy: 0.8090\n",
      "Epoch 132/500\n",
      "45/45 [==============================] - 0s 1ms/step - loss: 0.3734 - accuracy: 0.8090\n",
      "Epoch 133/500\n",
      "45/45 [==============================] - 0s 1ms/step - loss: 0.3770 - accuracy: 0.8090\n",
      "Epoch 134/500\n",
      "45/45 [==============================] - 0s 1ms/step - loss: 0.3692 - accuracy: 0.7753\n",
      "Epoch 135/500\n",
      "45/45 [==============================] - 0s 1ms/step - loss: 0.3780 - accuracy: 0.7865\n",
      "Epoch 136/500\n",
      "45/45 [==============================] - 0s 1ms/step - loss: 0.3736 - accuracy: 0.7865\n",
      "Epoch 137/500\n",
      "45/45 [==============================] - 0s 1ms/step - loss: 0.3485 - accuracy: 0.8090\n",
      "Epoch 138/500\n",
      "45/45 [==============================] - 0s 1ms/step - loss: 0.3732 - accuracy: 0.7865\n",
      "Epoch 139/500\n",
      "45/45 [==============================] - 0s 987us/step - loss: 0.3673 - accuracy: 0.7528\n",
      "Epoch 140/500\n",
      "45/45 [==============================] - 0s 980us/step - loss: 0.3586 - accuracy: 0.7978\n",
      "Epoch 141/500\n",
      "45/45 [==============================] - 0s 1ms/step - loss: 0.3604 - accuracy: 0.7416\n",
      "Epoch 142/500\n",
      "45/45 [==============================] - 0s 1ms/step - loss: 0.3459 - accuracy: 0.8202\n",
      "Epoch 143/500\n",
      "45/45 [==============================] - 0s 1ms/step - loss: 0.3884 - accuracy: 0.7753\n",
      "Epoch 144/500\n",
      "45/45 [==============================] - 0s 1ms/step - loss: 0.3714 - accuracy: 0.7303\n",
      "Epoch 145/500\n",
      "45/45 [==============================] - 0s 1ms/step - loss: 0.3314 - accuracy: 0.7640\n",
      "Epoch 146/500\n",
      "45/45 [==============================] - 0s 1ms/step - loss: 0.3349 - accuracy: 0.7753\n",
      "Epoch 147/500\n",
      "45/45 [==============================] - 0s 1ms/step - loss: 0.3520 - accuracy: 0.7978\n",
      "Epoch 148/500\n",
      "45/45 [==============================] - 0s 1ms/step - loss: 0.3322 - accuracy: 0.8315\n",
      "Epoch 149/500\n",
      "45/45 [==============================] - 0s 1ms/step - loss: 0.3623 - accuracy: 0.7640\n",
      "Epoch 150/500\n",
      "45/45 [==============================] - 0s 1ms/step - loss: 0.3415 - accuracy: 0.7978\n",
      "Epoch 151/500\n",
      "45/45 [==============================] - 0s 1ms/step - loss: 0.3449 - accuracy: 0.7753\n",
      "Epoch 152/500\n",
      "45/45 [==============================] - 0s 1ms/step - loss: 0.3292 - accuracy: 0.7978\n",
      "Epoch 153/500\n",
      "45/45 [==============================] - 0s 1ms/step - loss: 0.3324 - accuracy: 0.8315\n",
      "Epoch 154/500\n",
      "45/45 [==============================] - 0s 1ms/step - loss: 0.3359 - accuracy: 0.7303\n",
      "Epoch 155/500\n",
      "45/45 [==============================] - 0s 1ms/step - loss: 0.3334 - accuracy: 0.7865\n",
      "Epoch 156/500\n",
      "45/45 [==============================] - 0s 1ms/step - loss: 0.3359 - accuracy: 0.7865\n",
      "Epoch 157/500\n",
      "45/45 [==============================] - 0s 1ms/step - loss: 0.3236 - accuracy: 0.8202\n",
      "Epoch 158/500\n",
      "45/45 [==============================] - 0s 1ms/step - loss: 0.3354 - accuracy: 0.8090\n",
      "Epoch 159/500\n",
      "45/45 [==============================] - 0s 1ms/step - loss: 0.3344 - accuracy: 0.7753\n",
      "Epoch 160/500\n",
      "45/45 [==============================] - 0s 1ms/step - loss: 0.3321 - accuracy: 0.8202\n",
      "Epoch 161/500\n",
      "45/45 [==============================] - 0s 1ms/step - loss: 0.3273 - accuracy: 0.7528\n",
      "Epoch 162/500\n",
      "45/45 [==============================] - 0s 1ms/step - loss: 0.3186 - accuracy: 0.8090\n",
      "Epoch 163/500\n",
      "45/45 [==============================] - 0s 1ms/step - loss: 0.3247 - accuracy: 0.7978\n",
      "Epoch 164/500\n"
     ]
    },
    {
     "name": "stdout",
     "output_type": "stream",
     "text": [
      "45/45 [==============================] - 0s 1ms/step - loss: 0.3297 - accuracy: 0.7978\n",
      "Epoch 165/500\n",
      "45/45 [==============================] - 0s 1ms/step - loss: 0.3334 - accuracy: 0.7865\n",
      "Epoch 166/500\n",
      "45/45 [==============================] - 0s 1ms/step - loss: 0.3173 - accuracy: 0.8090\n",
      "Epoch 167/500\n",
      "45/45 [==============================] - 0s 1ms/step - loss: 0.3072 - accuracy: 0.7865\n",
      "Epoch 168/500\n",
      "45/45 [==============================] - 0s 1ms/step - loss: 0.3593 - accuracy: 0.7865\n",
      "Epoch 169/500\n",
      "45/45 [==============================] - 0s 1ms/step - loss: 0.3192 - accuracy: 0.7640\n",
      "Epoch 170/500\n",
      "45/45 [==============================] - 0s 1ms/step - loss: 0.3233 - accuracy: 0.8090\n",
      "Epoch 171/500\n",
      "45/45 [==============================] - 0s 1ms/step - loss: 0.3142 - accuracy: 0.7978\n",
      "Epoch 172/500\n",
      "45/45 [==============================] - 0s 1ms/step - loss: 0.3111 - accuracy: 0.8427\n",
      "Epoch 173/500\n",
      "45/45 [==============================] - 0s 1ms/step - loss: 0.3205 - accuracy: 0.8202\n",
      "Epoch 174/500\n",
      "45/45 [==============================] - 0s 1ms/step - loss: 0.3198 - accuracy: 0.8090\n",
      "Epoch 175/500\n",
      "45/45 [==============================] - 0s 1ms/step - loss: 0.3366 - accuracy: 0.7865\n",
      "Epoch 176/500\n",
      "45/45 [==============================] - 0s 1ms/step - loss: 0.3058 - accuracy: 0.8090\n",
      "Epoch 177/500\n",
      "45/45 [==============================] - 0s 1ms/step - loss: 0.3227 - accuracy: 0.7753\n",
      "Epoch 178/500\n",
      "45/45 [==============================] - 0s 1ms/step - loss: 0.3102 - accuracy: 0.7978\n",
      "Epoch 179/500\n",
      "45/45 [==============================] - 0s 1ms/step - loss: 0.3018 - accuracy: 0.7978\n",
      "Epoch 180/500\n",
      "45/45 [==============================] - 0s 1ms/step - loss: 0.2965 - accuracy: 0.7865\n",
      "Epoch 181/500\n",
      "45/45 [==============================] - 0s 1ms/step - loss: 0.2956 - accuracy: 0.7978\n",
      "Epoch 182/500\n",
      "45/45 [==============================] - 0s 1ms/step - loss: 0.2976 - accuracy: 0.8202\n",
      "Epoch 183/500\n",
      "45/45 [==============================] - 0s 1ms/step - loss: 0.2981 - accuracy: 0.8202\n",
      "Epoch 184/500\n",
      "45/45 [==============================] - 0s 1ms/step - loss: 0.3147 - accuracy: 0.7753\n",
      "Epoch 185/500\n",
      "45/45 [==============================] - 0s 2ms/step - loss: 0.3137 - accuracy: 0.7753\n",
      "Epoch 186/500\n",
      "45/45 [==============================] - 0s 2ms/step - loss: 0.3036 - accuracy: 0.8315\n",
      "Epoch 187/500\n",
      "45/45 [==============================] - 0s 1ms/step - loss: 0.3241 - accuracy: 0.7978\n",
      "Epoch 188/500\n",
      "45/45 [==============================] - 0s 1ms/step - loss: 0.3532 - accuracy: 0.7978\n",
      "Epoch 189/500\n",
      "45/45 [==============================] - 0s 1ms/step - loss: 0.2904 - accuracy: 0.8202\n",
      "Epoch 190/500\n",
      "45/45 [==============================] - 0s 1ms/step - loss: 0.2891 - accuracy: 0.8090\n",
      "Epoch 191/500\n",
      "45/45 [==============================] - 0s 1ms/step - loss: 0.2912 - accuracy: 0.7865\n",
      "Epoch 192/500\n",
      "45/45 [==============================] - 0s 1ms/step - loss: 0.2954 - accuracy: 0.7865\n",
      "Epoch 193/500\n",
      "45/45 [==============================] - 0s 1ms/step - loss: 0.2958 - accuracy: 0.8090\n",
      "Epoch 194/500\n",
      "45/45 [==============================] - 0s 1ms/step - loss: 0.2954 - accuracy: 0.7753\n",
      "Epoch 195/500\n",
      "45/45 [==============================] - 0s 1ms/step - loss: 0.3016 - accuracy: 0.7753\n",
      "Epoch 196/500\n",
      "45/45 [==============================] - 0s 1ms/step - loss: 0.3072 - accuracy: 0.7753\n",
      "Epoch 197/500\n",
      "45/45 [==============================] - 0s 1ms/step - loss: 0.2814 - accuracy: 0.7978\n",
      "Epoch 198/500\n",
      "45/45 [==============================] - 0s 1ms/step - loss: 0.3006 - accuracy: 0.7865\n",
      "Epoch 199/500\n",
      "45/45 [==============================] - 0s 957us/step - loss: 0.2856 - accuracy: 0.7978\n",
      "Epoch 200/500\n",
      "45/45 [==============================] - 0s 980us/step - loss: 0.3172 - accuracy: 0.8202\n",
      "Epoch 201/500\n",
      "45/45 [==============================] - 0s 971us/step - loss: 0.2857 - accuracy: 0.8202\n",
      "Epoch 202/500\n",
      "45/45 [==============================] - 0s 991us/step - loss: 0.2694 - accuracy: 0.7978\n",
      "Epoch 203/500\n",
      "45/45 [==============================] - 0s 1ms/step - loss: 0.2819 - accuracy: 0.7978\n",
      "Epoch 204/500\n",
      "45/45 [==============================] - 0s 1ms/step - loss: 0.3003 - accuracy: 0.7753\n",
      "Epoch 205/500\n",
      "45/45 [==============================] - 0s 1ms/step - loss: 0.2748 - accuracy: 0.8090\n",
      "Epoch 206/500\n",
      "45/45 [==============================] - 0s 1ms/step - loss: 0.2974 - accuracy: 0.8202\n",
      "Epoch 207/500\n",
      "45/45 [==============================] - 0s 1ms/step - loss: 0.2977 - accuracy: 0.8090\n",
      "Epoch 208/500\n",
      "45/45 [==============================] - 0s 1ms/step - loss: 0.2929 - accuracy: 0.7753\n",
      "Epoch 209/500\n",
      "45/45 [==============================] - 0s 1ms/step - loss: 0.2764 - accuracy: 0.7528\n",
      "Epoch 210/500\n",
      "45/45 [==============================] - 0s 1ms/step - loss: 0.2762 - accuracy: 0.8202\n",
      "Epoch 211/500\n",
      "45/45 [==============================] - 0s 1ms/step - loss: 0.3101 - accuracy: 0.8202\n",
      "Epoch 212/500\n",
      "45/45 [==============================] - 0s 1ms/step - loss: 0.2877 - accuracy: 0.7753\n",
      "Epoch 213/500\n",
      "45/45 [==============================] - 0s 1ms/step - loss: 0.2800 - accuracy: 0.7978\n",
      "Epoch 214/500\n",
      "45/45 [==============================] - 0s 1ms/step - loss: 0.3013 - accuracy: 0.8090\n",
      "Epoch 215/500\n",
      "45/45 [==============================] - 0s 1ms/step - loss: 0.3055 - accuracy: 0.7865\n",
      "Epoch 216/500\n",
      "45/45 [==============================] - 0s 1ms/step - loss: 0.2865 - accuracy: 0.8090\n",
      "Epoch 217/500\n",
      "45/45 [==============================] - 0s 1ms/step - loss: 0.2902 - accuracy: 0.7978\n",
      "Epoch 218/500\n",
      "45/45 [==============================] - 0s 1ms/step - loss: 0.2848 - accuracy: 0.7865\n",
      "Epoch 219/500\n",
      "45/45 [==============================] - 0s 1ms/step - loss: 0.2869 - accuracy: 0.7753\n",
      "Epoch 220/500\n",
      "45/45 [==============================] - 0s 1ms/step - loss: 0.2742 - accuracy: 0.7753\n",
      "Epoch 221/500\n",
      "45/45 [==============================] - 0s 1ms/step - loss: 0.2809 - accuracy: 0.7753\n",
      "Epoch 222/500\n",
      "45/45 [==============================] - 0s 1ms/step - loss: 0.2884 - accuracy: 0.8090\n",
      "Epoch 223/500\n",
      "45/45 [==============================] - 0s 1ms/step - loss: 0.2703 - accuracy: 0.7640\n",
      "Epoch 224/500\n",
      "45/45 [==============================] - 0s 1ms/step - loss: 0.2690 - accuracy: 0.8090\n",
      "Epoch 225/500\n",
      "45/45 [==============================] - 0s 1ms/step - loss: 0.2683 - accuracy: 0.8202\n",
      "Epoch 226/500\n",
      "45/45 [==============================] - 0s 1ms/step - loss: 0.2680 - accuracy: 0.7753\n",
      "Epoch 227/500\n",
      "45/45 [==============================] - 0s 1ms/step - loss: 0.2778 - accuracy: 0.8202\n",
      "Epoch 228/500\n",
      "45/45 [==============================] - 0s 1ms/step - loss: 0.2862 - accuracy: 0.7753\n",
      "Epoch 229/500\n",
      "45/45 [==============================] - 0s 1ms/step - loss: 0.2766 - accuracy: 0.7978\n",
      "Epoch 230/500\n",
      "45/45 [==============================] - 0s 1ms/step - loss: 0.2668 - accuracy: 0.8202\n",
      "Epoch 231/500\n",
      "45/45 [==============================] - 0s 1ms/step - loss: 0.2764 - accuracy: 0.8202\n",
      "Epoch 232/500\n",
      "45/45 [==============================] - 0s 1ms/step - loss: 0.2583 - accuracy: 0.8315\n",
      "Epoch 233/500\n",
      "45/45 [==============================] - 0s 1ms/step - loss: 0.2695 - accuracy: 0.7753\n",
      "Epoch 234/500\n",
      "45/45 [==============================] - 0s 1ms/step - loss: 0.2769 - accuracy: 0.8315\n",
      "Epoch 235/500\n",
      "45/45 [==============================] - 0s 1ms/step - loss: 0.2758 - accuracy: 0.7865\n",
      "Epoch 236/500\n",
      "45/45 [==============================] - 0s 1ms/step - loss: 0.2752 - accuracy: 0.7640\n",
      "Epoch 237/500\n",
      "45/45 [==============================] - 0s 1ms/step - loss: 0.2704 - accuracy: 0.8090\n",
      "Epoch 238/500\n",
      "45/45 [==============================] - 0s 1ms/step - loss: 0.2874 - accuracy: 0.7978\n",
      "Epoch 239/500\n",
      "45/45 [==============================] - 0s 1ms/step - loss: 0.2684 - accuracy: 0.7978\n",
      "Epoch 240/500\n",
      "45/45 [==============================] - 0s 1ms/step - loss: 0.2746 - accuracy: 0.8090\n",
      "Epoch 241/500\n",
      "45/45 [==============================] - 0s 1ms/step - loss: 0.2626 - accuracy: 0.7978\n",
      "Epoch 242/500\n",
      "45/45 [==============================] - 0s 1ms/step - loss: 0.2636 - accuracy: 0.7978\n",
      "Epoch 243/500\n",
      "45/45 [==============================] - 0s 1ms/step - loss: 0.2650 - accuracy: 0.7865\n",
      "Epoch 244/500\n",
      "45/45 [==============================] - 0s 1ms/step - loss: 0.2590 - accuracy: 0.7865\n",
      "Epoch 245/500\n"
     ]
    },
    {
     "name": "stdout",
     "output_type": "stream",
     "text": [
      "45/45 [==============================] - 0s 1ms/step - loss: 0.2821 - accuracy: 0.7978\n",
      "Epoch 246/500\n",
      "45/45 [==============================] - 0s 1ms/step - loss: 0.2741 - accuracy: 0.7753\n",
      "Epoch 247/500\n",
      "45/45 [==============================] - 0s 1ms/step - loss: 0.2720 - accuracy: 0.8315\n",
      "Epoch 248/500\n",
      "45/45 [==============================] - 0s 1ms/step - loss: 0.2729 - accuracy: 0.8090\n",
      "Epoch 249/500\n",
      "45/45 [==============================] - 0s 1ms/step - loss: 0.2746 - accuracy: 0.7640\n",
      "Epoch 250/500\n",
      "45/45 [==============================] - 0s 1ms/step - loss: 0.2788 - accuracy: 0.7865\n",
      "Epoch 251/500\n",
      "45/45 [==============================] - 0s 1ms/step - loss: 0.4119 - accuracy: 0.7640\n",
      "Epoch 252/500\n",
      "45/45 [==============================] - 0s 1ms/step - loss: 0.5899 - accuracy: 0.7978\n",
      "Epoch 253/500\n",
      "45/45 [==============================] - 0s 1ms/step - loss: 0.4724 - accuracy: 0.7753\n",
      "Epoch 254/500\n",
      "45/45 [==============================] - 0s 1ms/step - loss: 0.3593 - accuracy: 0.7640\n",
      "Epoch 255/500\n",
      "45/45 [==============================] - 0s 1ms/step - loss: 0.2942 - accuracy: 0.7528\n",
      "Epoch 256/500\n",
      "45/45 [==============================] - 0s 1ms/step - loss: 0.2849 - accuracy: 0.7303\n",
      "Epoch 257/500\n",
      "45/45 [==============================] - 0s 1ms/step - loss: 0.2720 - accuracy: 0.8090\n",
      "Epoch 258/500\n",
      "45/45 [==============================] - 0s 1ms/step - loss: 0.2602 - accuracy: 0.8090\n",
      "Epoch 259/500\n",
      "45/45 [==============================] - 0s 1ms/step - loss: 0.2700 - accuracy: 0.7528\n",
      "Epoch 260/500\n",
      "45/45 [==============================] - 0s 1ms/step - loss: 0.2617 - accuracy: 0.7528\n",
      "Epoch 261/500\n",
      "45/45 [==============================] - 0s 1ms/step - loss: 0.2697 - accuracy: 0.7640\n",
      "Epoch 262/500\n",
      "45/45 [==============================] - 0s 1ms/step - loss: 0.2645 - accuracy: 0.7978\n",
      "Epoch 263/500\n",
      "45/45 [==============================] - 0s 1ms/step - loss: 0.2691 - accuracy: 0.7865\n",
      "Epoch 264/500\n",
      "45/45 [==============================] - 0s 1ms/step - loss: 0.2727 - accuracy: 0.7978\n",
      "Epoch 265/500\n",
      "45/45 [==============================] - 0s 1ms/step - loss: 0.2633 - accuracy: 0.8090\n",
      "Epoch 266/500\n",
      "45/45 [==============================] - 0s 1ms/step - loss: 0.2577 - accuracy: 0.8202\n",
      "Epoch 267/500\n",
      "45/45 [==============================] - 0s 1ms/step - loss: 0.2645 - accuracy: 0.7865\n",
      "Epoch 268/500\n",
      "45/45 [==============================] - 0s 1ms/step - loss: 0.2811 - accuracy: 0.7978\n",
      "Epoch 269/500\n",
      "45/45 [==============================] - 0s 1ms/step - loss: 0.2564 - accuracy: 0.7865\n",
      "Epoch 270/500\n",
      "45/45 [==============================] - 0s 1ms/step - loss: 0.2634 - accuracy: 0.8090\n",
      "Epoch 271/500\n",
      "45/45 [==============================] - 0s 1ms/step - loss: 0.2515 - accuracy: 0.8315\n",
      "Epoch 272/500\n",
      "45/45 [==============================] - 0s 1ms/step - loss: 0.2570 - accuracy: 0.7865\n",
      "Epoch 273/500\n",
      "45/45 [==============================] - 0s 1ms/step - loss: 0.2538 - accuracy: 0.7978\n",
      "Epoch 274/500\n",
      "45/45 [==============================] - 0s 1ms/step - loss: 0.2603 - accuracy: 0.7865\n",
      "Epoch 275/500\n",
      "45/45 [==============================] - 0s 1ms/step - loss: 0.2607 - accuracy: 0.8090\n",
      "Epoch 276/500\n",
      "45/45 [==============================] - 0s 2ms/step - loss: 0.2493 - accuracy: 0.8090\n",
      "Epoch 277/500\n",
      "45/45 [==============================] - 0s 2ms/step - loss: 0.2591 - accuracy: 0.7753\n",
      "Epoch 278/500\n",
      "45/45 [==============================] - 0s 2ms/step - loss: 0.2638 - accuracy: 0.8202\n",
      "Epoch 279/500\n",
      "45/45 [==============================] - 0s 1ms/step - loss: 0.2580 - accuracy: 0.8090\n",
      "Epoch 280/500\n",
      "45/45 [==============================] - 0s 2ms/step - loss: 0.2600 - accuracy: 0.7753\n",
      "Epoch 281/500\n",
      "45/45 [==============================] - 0s 2ms/step - loss: 0.2544 - accuracy: 0.8315\n",
      "Epoch 282/500\n",
      "45/45 [==============================] - 0s 2ms/step - loss: 0.2693 - accuracy: 0.7753\n",
      "Epoch 283/500\n",
      "45/45 [==============================] - 0s 2ms/step - loss: 0.2587 - accuracy: 0.7753\n",
      "Epoch 284/500\n",
      "45/45 [==============================] - 0s 2ms/step - loss: 0.2573 - accuracy: 0.7978\n",
      "Epoch 285/500\n",
      "45/45 [==============================] - 0s 2ms/step - loss: 0.2610 - accuracy: 0.7865\n",
      "Epoch 286/500\n",
      "45/45 [==============================] - 0s 2ms/step - loss: 0.2570 - accuracy: 0.7865\n",
      "Epoch 287/500\n",
      "45/45 [==============================] - 0s 2ms/step - loss: 0.2610 - accuracy: 0.8090\n",
      "Epoch 288/500\n",
      "45/45 [==============================] - 0s 1ms/step - loss: 0.2727 - accuracy: 0.7640\n",
      "Epoch 289/500\n",
      "45/45 [==============================] - 0s 1ms/step - loss: 0.2541 - accuracy: 0.8090\n",
      "Epoch 290/500\n",
      "45/45 [==============================] - 0s 1ms/step - loss: 0.2539 - accuracy: 0.7978\n",
      "Epoch 291/500\n",
      "45/45 [==============================] - 0s 1ms/step - loss: 0.2632 - accuracy: 0.8090\n",
      "Epoch 292/500\n",
      "45/45 [==============================] - 0s 1ms/step - loss: 0.2740 - accuracy: 0.8090\n",
      "Epoch 293/500\n",
      "45/45 [==============================] - 0s 1ms/step - loss: 0.2618 - accuracy: 0.8090\n",
      "Epoch 294/500\n",
      "45/45 [==============================] - 0s 1ms/step - loss: 0.2521 - accuracy: 0.7978\n",
      "Epoch 295/500\n",
      "45/45 [==============================] - 0s 1ms/step - loss: 0.2647 - accuracy: 0.7865\n",
      "Epoch 296/500\n",
      "45/45 [==============================] - 0s 1ms/step - loss: 0.2615 - accuracy: 0.7753\n",
      "Epoch 297/500\n",
      "45/45 [==============================] - 0s 1ms/step - loss: 0.2684 - accuracy: 0.7865\n",
      "Epoch 298/500\n",
      "45/45 [==============================] - 0s 1ms/step - loss: 0.2702 - accuracy: 0.8315\n",
      "Epoch 299/500\n",
      "45/45 [==============================] - 0s 1ms/step - loss: 0.2631 - accuracy: 0.7978\n",
      "Epoch 300/500\n",
      "45/45 [==============================] - 0s 1ms/step - loss: 0.2514 - accuracy: 0.8315\n",
      "Epoch 301/500\n",
      "45/45 [==============================] - 0s 1ms/step - loss: 0.2499 - accuracy: 0.7753\n",
      "Epoch 302/500\n",
      "45/45 [==============================] - 0s 1ms/step - loss: 0.2504 - accuracy: 0.8202\n",
      "Epoch 303/500\n",
      "45/45 [==============================] - 0s 1ms/step - loss: 0.2565 - accuracy: 0.8090\n",
      "Epoch 304/500\n",
      "45/45 [==============================] - 0s 1ms/step - loss: 0.2718 - accuracy: 0.7978\n",
      "Epoch 305/500\n",
      "45/45 [==============================] - 0s 1ms/step - loss: 0.2570 - accuracy: 0.7865\n",
      "Epoch 306/500\n",
      "45/45 [==============================] - 0s 1ms/step - loss: 0.2723 - accuracy: 0.8090\n",
      "Epoch 307/500\n",
      "45/45 [==============================] - 0s 1ms/step - loss: 0.2620 - accuracy: 0.7753\n",
      "Epoch 308/500\n",
      "45/45 [==============================] - 0s 1ms/step - loss: 0.2734 - accuracy: 0.8090\n",
      "Epoch 309/500\n",
      "45/45 [==============================] - 0s 1ms/step - loss: 0.2588 - accuracy: 0.7753\n",
      "Epoch 310/500\n",
      "45/45 [==============================] - 0s 1ms/step - loss: 0.2611 - accuracy: 0.7640\n",
      "Epoch 311/500\n",
      "45/45 [==============================] - 0s 1ms/step - loss: 0.2534 - accuracy: 0.8202\n",
      "Epoch 312/500\n",
      "45/45 [==============================] - 0s 1ms/step - loss: 0.2494 - accuracy: 0.8090\n",
      "Epoch 313/500\n",
      "45/45 [==============================] - 0s 1ms/step - loss: 0.2583 - accuracy: 0.7978\n",
      "Epoch 314/500\n",
      "45/45 [==============================] - 0s 1ms/step - loss: 0.2538 - accuracy: 0.7865\n",
      "Epoch 315/500\n",
      "45/45 [==============================] - 0s 1ms/step - loss: 0.2470 - accuracy: 0.8090\n",
      "Epoch 316/500\n",
      "45/45 [==============================] - 0s 1ms/step - loss: 0.2629 - accuracy: 0.8315\n",
      "Epoch 317/500\n",
      "45/45 [==============================] - 0s 1ms/step - loss: 0.2558 - accuracy: 0.8090\n",
      "Epoch 318/500\n",
      "45/45 [==============================] - 0s 1ms/step - loss: 0.2618 - accuracy: 0.7640\n",
      "Epoch 319/500\n",
      "45/45 [==============================] - 0s 1ms/step - loss: 0.2627 - accuracy: 0.7528\n",
      "Epoch 320/500\n",
      "45/45 [==============================] - 0s 1ms/step - loss: 0.2572 - accuracy: 0.7753\n",
      "Epoch 321/500\n",
      "45/45 [==============================] - 0s 1ms/step - loss: 0.2511 - accuracy: 0.7865\n",
      "Epoch 322/500\n",
      "45/45 [==============================] - 0s 1ms/step - loss: 0.2596 - accuracy: 0.7978\n",
      "Epoch 323/500\n",
      "45/45 [==============================] - 0s 2ms/step - loss: 0.2545 - accuracy: 0.8090\n",
      "Epoch 324/500\n",
      "45/45 [==============================] - 0s 2ms/step - loss: 0.2592 - accuracy: 0.7753\n",
      "Epoch 325/500\n",
      "45/45 [==============================] - 0s 2ms/step - loss: 0.2571 - accuracy: 0.8090\n",
      "Epoch 326/500\n"
     ]
    },
    {
     "name": "stdout",
     "output_type": "stream",
     "text": [
      "45/45 [==============================] - 0s 2ms/step - loss: 0.2613 - accuracy: 0.8090\n",
      "Epoch 327/500\n",
      "45/45 [==============================] - 0s 1ms/step - loss: 0.2712 - accuracy: 0.8202\n",
      "Epoch 328/500\n",
      "45/45 [==============================] - 0s 1ms/step - loss: 0.2499 - accuracy: 0.8090\n",
      "Epoch 329/500\n",
      "45/45 [==============================] - 0s 1ms/step - loss: 0.2533 - accuracy: 0.7753\n",
      "Epoch 330/500\n",
      "45/45 [==============================] - 0s 1ms/step - loss: 0.2501 - accuracy: 0.8090\n",
      "Epoch 331/500\n",
      "45/45 [==============================] - 0s 1ms/step - loss: 0.2528 - accuracy: 0.7753\n",
      "Epoch 332/500\n",
      "45/45 [==============================] - 0s 1ms/step - loss: 0.2643 - accuracy: 0.7416\n",
      "Epoch 333/500\n",
      "45/45 [==============================] - 0s 2ms/step - loss: 0.2523 - accuracy: 0.7865\n",
      "Epoch 334/500\n",
      "45/45 [==============================] - 0s 2ms/step - loss: 0.2624 - accuracy: 0.7640\n",
      "Epoch 335/500\n",
      "45/45 [==============================] - 0s 1ms/step - loss: 0.2511 - accuracy: 0.7978\n",
      "Epoch 336/500\n",
      "45/45 [==============================] - 0s 1ms/step - loss: 0.2530 - accuracy: 0.7865\n",
      "Epoch 337/500\n",
      "45/45 [==============================] - 0s 1ms/step - loss: 0.2528 - accuracy: 0.7865\n",
      "Epoch 338/500\n",
      "45/45 [==============================] - 0s 1ms/step - loss: 0.2635 - accuracy: 0.7865\n",
      "Epoch 339/500\n",
      "45/45 [==============================] - 0s 2ms/step - loss: 0.2551 - accuracy: 0.7865\n",
      "Epoch 340/500\n",
      "45/45 [==============================] - 0s 2ms/step - loss: 0.2472 - accuracy: 0.7753\n",
      "Epoch 341/500\n",
      "45/45 [==============================] - 0s 1ms/step - loss: 0.2511 - accuracy: 0.7865\n",
      "Epoch 342/500\n",
      "45/45 [==============================] - 0s 1ms/step - loss: 0.2601 - accuracy: 0.8202\n",
      "Epoch 343/500\n",
      "45/45 [==============================] - 0s 1ms/step - loss: 0.2585 - accuracy: 0.7865\n",
      "Epoch 344/500\n",
      "45/45 [==============================] - 0s 1ms/step - loss: 0.2591 - accuracy: 0.7978\n",
      "Epoch 345/500\n",
      "45/45 [==============================] - 0s 1ms/step - loss: 0.2456 - accuracy: 0.8090\n",
      "Epoch 346/500\n",
      "45/45 [==============================] - 0s 1ms/step - loss: 0.2511 - accuracy: 0.7753\n",
      "Epoch 347/500\n",
      "45/45 [==============================] - 0s 1ms/step - loss: 0.2566 - accuracy: 0.8090\n",
      "Epoch 348/500\n",
      "45/45 [==============================] - 0s 1ms/step - loss: 0.2488 - accuracy: 0.7865\n",
      "Epoch 349/500\n",
      "45/45 [==============================] - 0s 1ms/step - loss: 0.2646 - accuracy: 0.7978\n",
      "Epoch 350/500\n",
      "45/45 [==============================] - 0s 1ms/step - loss: 0.2403 - accuracy: 0.7978\n",
      "Epoch 351/500\n",
      "45/45 [==============================] - 0s 1ms/step - loss: 0.2532 - accuracy: 0.7303\n",
      "Epoch 352/500\n",
      "45/45 [==============================] - 0s 1ms/step - loss: 0.2521 - accuracy: 0.7640\n",
      "Epoch 353/500\n",
      "45/45 [==============================] - 0s 1ms/step - loss: 0.2509 - accuracy: 0.7753\n",
      "Epoch 354/500\n",
      "45/45 [==============================] - 0s 1ms/step - loss: 0.2465 - accuracy: 0.7978\n",
      "Epoch 355/500\n",
      "45/45 [==============================] - 0s 1ms/step - loss: 0.2459 - accuracy: 0.7978\n",
      "Epoch 356/500\n",
      "45/45 [==============================] - 0s 1ms/step - loss: 0.2468 - accuracy: 0.7865\n",
      "Epoch 357/500\n",
      "45/45 [==============================] - 0s 1ms/step - loss: 0.2538 - accuracy: 0.7640\n",
      "Epoch 358/500\n",
      "45/45 [==============================] - 0s 1ms/step - loss: 0.2541 - accuracy: 0.7865\n",
      "Epoch 359/500\n",
      "45/45 [==============================] - 0s 1ms/step - loss: 0.2431 - accuracy: 0.7865\n",
      "Epoch 360/500\n",
      "45/45 [==============================] - 0s 1ms/step - loss: 0.2485 - accuracy: 0.7978\n",
      "Epoch 361/500\n",
      "45/45 [==============================] - 0s 1ms/step - loss: 0.2678 - accuracy: 0.8202\n",
      "Epoch 362/500\n",
      "45/45 [==============================] - 0s 1ms/step - loss: 0.2580 - accuracy: 0.7640\n",
      "Epoch 363/500\n",
      "45/45 [==============================] - 0s 1ms/step - loss: 0.2659 - accuracy: 0.8315\n",
      "Epoch 364/500\n",
      "45/45 [==============================] - 0s 1ms/step - loss: 0.2557 - accuracy: 0.7640\n",
      "Epoch 365/500\n",
      "45/45 [==============================] - 0s 1ms/step - loss: 0.2530 - accuracy: 0.8090\n",
      "Epoch 366/500\n",
      "45/45 [==============================] - 0s 2ms/step - loss: 0.2461 - accuracy: 0.7865\n",
      "Epoch 367/500\n",
      "45/45 [==============================] - 0s 2ms/step - loss: 0.2557 - accuracy: 0.7528\n",
      "Epoch 368/500\n",
      "45/45 [==============================] - 0s 2ms/step - loss: 0.2383 - accuracy: 0.8202\n",
      "Epoch 369/500\n",
      "45/45 [==============================] - 0s 2ms/step - loss: 0.2511 - accuracy: 0.7640\n",
      "Epoch 370/500\n",
      "45/45 [==============================] - 0s 2ms/step - loss: 0.2558 - accuracy: 0.7753\n",
      "Epoch 371/500\n",
      "45/45 [==============================] - 0s 2ms/step - loss: 0.2548 - accuracy: 0.7978\n",
      "Epoch 372/500\n",
      "45/45 [==============================] - 0s 1ms/step - loss: 0.2584 - accuracy: 0.8090\n",
      "Epoch 373/500\n",
      "45/45 [==============================] - 0s 1ms/step - loss: 0.2448 - accuracy: 0.7865\n",
      "Epoch 374/500\n",
      "45/45 [==============================] - 0s 1ms/step - loss: 0.2433 - accuracy: 0.8090\n",
      "Epoch 375/500\n",
      "45/45 [==============================] - 0s 1ms/step - loss: 0.2445 - accuracy: 0.7753\n",
      "Epoch 376/500\n",
      "45/45 [==============================] - 0s 1ms/step - loss: 0.2495 - accuracy: 0.7528\n",
      "Epoch 377/500\n",
      "45/45 [==============================] - 0s 1ms/step - loss: 0.2483 - accuracy: 0.8427\n",
      "Epoch 378/500\n",
      "45/45 [==============================] - 0s 1ms/step - loss: 0.2449 - accuracy: 0.7865\n",
      "Epoch 379/500\n",
      "45/45 [==============================] - 0s 1ms/step - loss: 0.2421 - accuracy: 0.8090\n",
      "Epoch 380/500\n",
      "45/45 [==============================] - 0s 1ms/step - loss: 0.2413 - accuracy: 0.7865\n",
      "Epoch 381/500\n",
      "45/45 [==============================] - 0s 1ms/step - loss: 0.2385 - accuracy: 0.7528\n",
      "Epoch 382/500\n",
      "45/45 [==============================] - 0s 1ms/step - loss: 0.2428 - accuracy: 0.7865\n",
      "Epoch 383/500\n",
      "45/45 [==============================] - 0s 1ms/step - loss: 0.2553 - accuracy: 0.8202\n",
      "Epoch 384/500\n",
      "45/45 [==============================] - 0s 1ms/step - loss: 0.2467 - accuracy: 0.8090\n",
      "Epoch 385/500\n",
      "45/45 [==============================] - 0s 1ms/step - loss: 0.2456 - accuracy: 0.7753\n",
      "Epoch 386/500\n",
      "45/45 [==============================] - 0s 1ms/step - loss: 0.2559 - accuracy: 0.7528\n",
      "Epoch 387/500\n",
      "45/45 [==============================] - 0s 1ms/step - loss: 0.2454 - accuracy: 0.7978\n",
      "Epoch 388/500\n",
      "45/45 [==============================] - 0s 1ms/step - loss: 0.2438 - accuracy: 0.8090\n",
      "Epoch 389/500\n",
      "45/45 [==============================] - 0s 1ms/step - loss: 0.2628 - accuracy: 0.8090\n",
      "Epoch 390/500\n",
      "45/45 [==============================] - 0s 1ms/step - loss: 0.2616 - accuracy: 0.8202\n",
      "Epoch 391/500\n",
      "45/45 [==============================] - 0s 1ms/step - loss: 0.2454 - accuracy: 0.7865\n",
      "Epoch 392/500\n",
      "45/45 [==============================] - 0s 1ms/step - loss: 0.2417 - accuracy: 0.7528\n",
      "Epoch 393/500\n",
      "45/45 [==============================] - 0s 1ms/step - loss: 0.2442 - accuracy: 0.7978\n",
      "Epoch 394/500\n",
      "45/45 [==============================] - 0s 2ms/step - loss: 0.2454 - accuracy: 0.7640\n",
      "Epoch 395/500\n",
      "45/45 [==============================] - 0s 1ms/step - loss: 0.2445 - accuracy: 0.7978\n",
      "Epoch 396/500\n",
      "45/45 [==============================] - 0s 1ms/step - loss: 0.2477 - accuracy: 0.7865\n",
      "Epoch 397/500\n",
      "45/45 [==============================] - 0s 1ms/step - loss: 0.2488 - accuracy: 0.7528\n",
      "Epoch 398/500\n",
      "45/45 [==============================] - 0s 2ms/step - loss: 0.2508 - accuracy: 0.7865\n",
      "Epoch 399/500\n",
      "45/45 [==============================] - 0s 2ms/step - loss: 0.2645 - accuracy: 0.7978\n",
      "Epoch 400/500\n",
      "45/45 [==============================] - 0s 2ms/step - loss: 0.5000 - accuracy: 0.7303\n",
      "Epoch 401/500\n",
      "45/45 [==============================] - 0s 2ms/step - loss: 0.2915 - accuracy: 0.7978\n",
      "Epoch 402/500\n",
      "45/45 [==============================] - 0s 2ms/step - loss: 0.2684 - accuracy: 0.8315\n",
      "Epoch 403/500\n",
      "45/45 [==============================] - 0s 1ms/step - loss: 0.2579 - accuracy: 0.8202\n",
      "Epoch 404/500\n",
      "45/45 [==============================] - 0s 2ms/step - loss: 0.2542 - accuracy: 0.8090\n",
      "Epoch 405/500\n",
      "45/45 [==============================] - 0s 2ms/step - loss: 0.2457 - accuracy: 0.7640\n",
      "Epoch 406/500\n",
      "45/45 [==============================] - 0s 2ms/step - loss: 0.2450 - accuracy: 0.8090\n",
      "Epoch 407/500\n"
     ]
    },
    {
     "name": "stdout",
     "output_type": "stream",
     "text": [
      "45/45 [==============================] - 0s 2ms/step - loss: 0.2413 - accuracy: 0.7978\n",
      "Epoch 408/500\n",
      "45/45 [==============================] - 0s 2ms/step - loss: 0.2428 - accuracy: 0.7865\n",
      "Epoch 409/500\n",
      "45/45 [==============================] - 0s 1ms/step - loss: 0.2417 - accuracy: 0.7978\n",
      "Epoch 410/500\n",
      "45/45 [==============================] - 0s 1ms/step - loss: 0.2426 - accuracy: 0.7528\n",
      "Epoch 411/500\n",
      "45/45 [==============================] - 0s 1ms/step - loss: 0.2399 - accuracy: 0.7753\n",
      "Epoch 412/500\n",
      "45/45 [==============================] - 0s 1ms/step - loss: 0.2394 - accuracy: 0.8202\n",
      "Epoch 413/500\n",
      "45/45 [==============================] - 0s 1ms/step - loss: 0.2434 - accuracy: 0.7640\n",
      "Epoch 414/500\n",
      "45/45 [==============================] - 0s 1ms/step - loss: 0.2488 - accuracy: 0.7416\n",
      "Epoch 415/500\n",
      "45/45 [==============================] - 0s 1ms/step - loss: 0.2381 - accuracy: 0.8090\n",
      "Epoch 416/500\n",
      "45/45 [==============================] - 0s 1ms/step - loss: 0.2398 - accuracy: 0.7978\n",
      "Epoch 417/500\n",
      "45/45 [==============================] - 0s 1ms/step - loss: 0.2372 - accuracy: 0.7865\n",
      "Epoch 418/500\n",
      "45/45 [==============================] - 0s 1ms/step - loss: 0.2403 - accuracy: 0.8202\n",
      "Epoch 419/500\n",
      "45/45 [==============================] - 0s 1ms/step - loss: 0.2475 - accuracy: 0.7978\n",
      "Epoch 420/500\n",
      "45/45 [==============================] - 0s 1ms/step - loss: 0.2357 - accuracy: 0.7865\n",
      "Epoch 421/500\n",
      "45/45 [==============================] - 0s 1ms/step - loss: 0.2452 - accuracy: 0.7978\n",
      "Epoch 422/500\n",
      "45/45 [==============================] - 0s 1ms/step - loss: 0.2428 - accuracy: 0.8315\n",
      "Epoch 423/500\n",
      "45/45 [==============================] - 0s 1ms/step - loss: 0.2412 - accuracy: 0.8090\n",
      "Epoch 424/500\n",
      "45/45 [==============================] - 0s 1ms/step - loss: 0.2328 - accuracy: 0.8090\n",
      "Epoch 425/500\n",
      "45/45 [==============================] - 0s 1ms/step - loss: 0.2357 - accuracy: 0.7753\n",
      "Epoch 426/500\n",
      "45/45 [==============================] - 0s 1ms/step - loss: 0.2434 - accuracy: 0.8090\n",
      "Epoch 427/500\n",
      "45/45 [==============================] - 0s 1ms/step - loss: 0.2406 - accuracy: 0.7865\n",
      "Epoch 428/500\n",
      "45/45 [==============================] - 0s 1ms/step - loss: 0.2421 - accuracy: 0.7978\n",
      "Epoch 429/500\n",
      "45/45 [==============================] - 0s 1ms/step - loss: 0.2394 - accuracy: 0.7640\n",
      "Epoch 430/500\n",
      "45/45 [==============================] - 0s 1ms/step - loss: 0.2442 - accuracy: 0.7865\n",
      "Epoch 431/500\n",
      "45/45 [==============================] - 0s 1ms/step - loss: 0.2424 - accuracy: 0.7865\n",
      "Epoch 432/500\n",
      "45/45 [==============================] - 0s 1ms/step - loss: 0.2357 - accuracy: 0.8090\n",
      "Epoch 433/500\n",
      "45/45 [==============================] - 0s 1ms/step - loss: 0.2362 - accuracy: 0.8315\n",
      "Epoch 434/500\n",
      "45/45 [==============================] - 0s 1ms/step - loss: 0.2470 - accuracy: 0.8202\n",
      "Epoch 435/500\n",
      "45/45 [==============================] - 0s 1ms/step - loss: 0.2443 - accuracy: 0.8090\n",
      "Epoch 436/500\n",
      "45/45 [==============================] - 0s 1ms/step - loss: 0.2350 - accuracy: 0.8427\n",
      "Epoch 437/500\n",
      "45/45 [==============================] - 0s 1ms/step - loss: 0.2429 - accuracy: 0.7978\n",
      "Epoch 438/500\n",
      "45/45 [==============================] - 0s 1ms/step - loss: 0.2364 - accuracy: 0.7416\n",
      "Epoch 439/500\n",
      "45/45 [==============================] - 0s 1ms/step - loss: 0.2372 - accuracy: 0.7753\n",
      "Epoch 440/500\n",
      "45/45 [==============================] - 0s 1ms/step - loss: 0.2374 - accuracy: 0.7865\n",
      "Epoch 441/500\n",
      "45/45 [==============================] - 0s 1ms/step - loss: 0.2391 - accuracy: 0.8315\n",
      "Epoch 442/500\n",
      "45/45 [==============================] - 0s 1ms/step - loss: 0.2380 - accuracy: 0.7753\n",
      "Epoch 443/500\n",
      "45/45 [==============================] - 0s 1ms/step - loss: 0.2492 - accuracy: 0.7865\n",
      "Epoch 444/500\n",
      "45/45 [==============================] - 0s 1ms/step - loss: 0.2387 - accuracy: 0.7865\n",
      "Epoch 445/500\n",
      "45/45 [==============================] - 0s 1ms/step - loss: 0.2440 - accuracy: 0.7978\n",
      "Epoch 446/500\n",
      "45/45 [==============================] - 0s 1ms/step - loss: 0.2344 - accuracy: 0.7640\n",
      "Epoch 447/500\n",
      "45/45 [==============================] - 0s 1ms/step - loss: 0.2395 - accuracy: 0.7753\n",
      "Epoch 448/500\n",
      "45/45 [==============================] - 0s 1ms/step - loss: 0.2423 - accuracy: 0.7865\n",
      "Epoch 449/500\n",
      "45/45 [==============================] - 0s 1ms/step - loss: 0.2374 - accuracy: 0.7978\n",
      "Epoch 450/500\n",
      "45/45 [==============================] - 0s 1ms/step - loss: 0.2363 - accuracy: 0.8315\n",
      "Epoch 451/500\n",
      "45/45 [==============================] - 0s 1ms/step - loss: 0.2450 - accuracy: 0.7865\n",
      "Epoch 452/500\n",
      "45/45 [==============================] - 0s 1ms/step - loss: 0.2424 - accuracy: 0.7978\n",
      "Epoch 453/500\n",
      "45/45 [==============================] - 0s 2ms/step - loss: 0.2427 - accuracy: 0.7865\n",
      "Epoch 454/500\n",
      "45/45 [==============================] - 0s 2ms/step - loss: 0.2385 - accuracy: 0.7753\n",
      "Epoch 455/500\n",
      "45/45 [==============================] - 0s 2ms/step - loss: 0.2456 - accuracy: 0.7528\n",
      "Epoch 456/500\n",
      "45/45 [==============================] - 0s 2ms/step - loss: 0.2391 - accuracy: 0.7865\n",
      "Epoch 457/500\n",
      "45/45 [==============================] - 0s 1ms/step - loss: 0.2379 - accuracy: 0.7528\n",
      "Epoch 458/500\n",
      "45/45 [==============================] - 0s 1ms/step - loss: 0.2463 - accuracy: 0.8090\n",
      "Epoch 459/500\n",
      "45/45 [==============================] - 0s 1ms/step - loss: 0.2418 - accuracy: 0.8315\n",
      "Epoch 460/500\n",
      "45/45 [==============================] - 0s 1ms/step - loss: 0.2395 - accuracy: 0.7978\n",
      "Epoch 461/500\n",
      "45/45 [==============================] - 0s 1ms/step - loss: 0.2405 - accuracy: 0.8202\n",
      "Epoch 462/500\n",
      "45/45 [==============================] - 0s 1ms/step - loss: 0.2377 - accuracy: 0.7753\n",
      "Epoch 463/500\n",
      "45/45 [==============================] - 0s 1ms/step - loss: 0.2398 - accuracy: 0.8090\n",
      "Epoch 464/500\n",
      "45/45 [==============================] - 0s 1ms/step - loss: 0.2369 - accuracy: 0.7865\n",
      "Epoch 465/500\n",
      "45/45 [==============================] - 0s 1ms/step - loss: 0.2459 - accuracy: 0.7978\n",
      "Epoch 466/500\n",
      "45/45 [==============================] - 0s 1ms/step - loss: 0.2370 - accuracy: 0.7753\n",
      "Epoch 467/500\n",
      "45/45 [==============================] - 0s 1ms/step - loss: 0.2385 - accuracy: 0.8090\n",
      "Epoch 468/500\n",
      "45/45 [==============================] - 0s 1ms/step - loss: 0.2368 - accuracy: 0.8090\n",
      "Epoch 469/500\n",
      "45/45 [==============================] - 0s 1ms/step - loss: 0.2388 - accuracy: 0.7978\n",
      "Epoch 470/500\n",
      "45/45 [==============================] - 0s 1ms/step - loss: 0.2369 - accuracy: 0.7978\n",
      "Epoch 471/500\n",
      "45/45 [==============================] - 0s 1ms/step - loss: 0.2378 - accuracy: 0.7978\n",
      "Epoch 472/500\n",
      "45/45 [==============================] - 0s 1ms/step - loss: 0.2345 - accuracy: 0.7865\n",
      "Epoch 473/500\n",
      "45/45 [==============================] - 0s 1ms/step - loss: 0.2388 - accuracy: 0.7753\n",
      "Epoch 474/500\n",
      "45/45 [==============================] - 0s 1ms/step - loss: 0.2407 - accuracy: 0.7865\n",
      "Epoch 475/500\n",
      "45/45 [==============================] - 0s 1ms/step - loss: 0.2452 - accuracy: 0.7528\n",
      "Epoch 476/500\n",
      "45/45 [==============================] - 0s 1ms/step - loss: 0.2358 - accuracy: 0.8090\n",
      "Epoch 477/500\n",
      "45/45 [==============================] - 0s 1ms/step - loss: 0.2650 - accuracy: 0.7978\n",
      "Epoch 478/500\n",
      "45/45 [==============================] - 0s 1ms/step - loss: 0.2531 - accuracy: 0.8090\n",
      "Epoch 479/500\n",
      "45/45 [==============================] - 0s 1ms/step - loss: 0.2409 - accuracy: 0.7753\n",
      "Epoch 480/500\n",
      "45/45 [==============================] - 0s 1ms/step - loss: 0.2386 - accuracy: 0.8315\n",
      "Epoch 481/500\n",
      "45/45 [==============================] - 0s 1ms/step - loss: 0.2451 - accuracy: 0.7640\n",
      "Epoch 482/500\n",
      "45/45 [==============================] - 0s 1ms/step - loss: 0.2398 - accuracy: 0.7865\n",
      "Epoch 483/500\n",
      "45/45 [==============================] - 0s 1ms/step - loss: 0.2365 - accuracy: 0.8090\n",
      "Epoch 484/500\n",
      "45/45 [==============================] - 0s 1ms/step - loss: 0.2384 - accuracy: 0.8539\n",
      "Epoch 485/500\n",
      "45/45 [==============================] - 0s 1ms/step - loss: 0.2425 - accuracy: 0.8202\n",
      "Epoch 486/500\n",
      "45/45 [==============================] - 0s 1ms/step - loss: 0.2456 - accuracy: 0.7865\n",
      "Epoch 487/500\n",
      "45/45 [==============================] - 0s 1ms/step - loss: 0.2350 - accuracy: 0.7978\n",
      "Epoch 488/500\n"
     ]
    },
    {
     "name": "stdout",
     "output_type": "stream",
     "text": [
      "45/45 [==============================] - 0s 1ms/step - loss: 0.2359 - accuracy: 0.8202\n",
      "Epoch 489/500\n",
      "45/45 [==============================] - 0s 1ms/step - loss: 0.2339 - accuracy: 0.7753\n",
      "Epoch 490/500\n",
      "45/45 [==============================] - 0s 1ms/step - loss: 0.2382 - accuracy: 0.8090\n",
      "Epoch 491/500\n",
      "45/45 [==============================] - 0s 1ms/step - loss: 0.2404 - accuracy: 0.8202\n",
      "Epoch 492/500\n",
      "45/45 [==============================] - 0s 1ms/step - loss: 0.3089 - accuracy: 0.8202\n",
      "Epoch 493/500\n",
      "45/45 [==============================] - 0s 1ms/step - loss: 0.2452 - accuracy: 0.7865\n",
      "Epoch 494/500\n",
      "45/45 [==============================] - 0s 1ms/step - loss: 0.2469 - accuracy: 0.7978\n",
      "Epoch 495/500\n",
      "45/45 [==============================] - 0s 1ms/step - loss: 0.2419 - accuracy: 0.7865\n",
      "Epoch 496/500\n",
      "45/45 [==============================] - 0s 1ms/step - loss: 0.2438 - accuracy: 0.8090\n",
      "Epoch 497/500\n",
      "45/45 [==============================] - 0s 1ms/step - loss: 0.2363 - accuracy: 0.7753\n",
      "Epoch 498/500\n",
      "45/45 [==============================] - 0s 1ms/step - loss: 0.2296 - accuracy: 0.8202\n",
      "Epoch 499/500\n",
      "45/45 [==============================] - 0s 1ms/step - loss: 0.2332 - accuracy: 0.7753\n",
      "Epoch 500/500\n",
      "45/45 [==============================] - 0s 1ms/step - loss: 0.2368 - accuracy: 0.7865\n"
     ]
    }
   ],
   "source": [
    "model = Sequential()\n",
    "model.add(Dense(32, activation = 'relu'))\n",
    "model.add(Dense(64, activation = 'relu'))\n",
    "model.add(Dense(132, activation = 'relu'))\n",
    "model.add(Dense(6, activation = 'softmax'))\n",
    "\n",
    "model.compile(loss = 'categorical_crossentropy' , optimizer = tf.keras.optimizers.Adam(learning_rate=0.001), metrics = ['accuracy'] )\n",
    "\n",
    "history = model.fit(X_train, y_train, epochs = 500, batch_size = 2)\n"
   ]
  },
  {
   "cell_type": "code",
   "execution_count": 195,
   "metadata": {},
   "outputs": [
    {
     "data": {
      "text/plain": [
       "[<matplotlib.lines.Line2D at 0x1588fbb29d0>]"
      ]
     },
     "execution_count": 195,
     "metadata": {},
     "output_type": "execute_result"
    },
    {
     "data": {
      "image/png": "[encoded data removed]",
      "text/plain": [
       "<Figure size 432x288 with 1 Axes>"
      ]
     },
     "metadata": {
      "needs_background": "light"
     },
     "output_type": "display_data"
    }
   ],
   "source": [
    "plt.plot(history.history['accuracy'])"
   ]
  },
  {
   "cell_type": "markdown",
   "metadata": {},
   "source": [
    "# Guide for prediction\n",
    "\n",
    "### Each color represented by numerical representation\n",
    "\n",
    "#### Male Color with numerical representation\n",
    "\n",
    "* black = 0\n",
    "* gray = 1\n",
    "* orange = 2\n",
    "* silver = 3\n",
    "\n",
    "\n",
    "#### Female Color with numerical representation\n",
    "* black = 0 \n",
    "* gray = 1\n",
    "* orange = 2\n",
    "* silver = 3\n",
    "* black tortie = 4\n",
    "* gray tortie = 5\n",
    "\n",
    "#### Output\n",
    "* black\n",
    "* gray\n",
    "* orange\n",
    "* silver\n",
    "* black tortie\n",
    "* gray tortie"
   ]
  },
  {
   "cell_type": "code",
   "execution_count": 196,
   "metadata": {},
   "outputs": [
    {
     "name": "stdout",
     "output_type": "stream",
     "text": [
      "4\n",
      "5\n",
      "4\n",
      "2\n",
      "1\n",
      "4\n",
      "4\n",
      "4\n",
      "5\n",
      "2\n",
      "0\n",
      "1\n",
      "1\n",
      "3\n",
      "1\n",
      "4\n",
      "1\n",
      "0\n",
      "1\n",
      "1\n",
      "5\n",
      "5\n",
      "0\n",
      "4\n",
      "0\n",
      "4\n",
      "4\n",
      "4\n",
      "3\n",
      "0\n",
      "4\n",
      "0\n",
      "1\n",
      "1\n",
      "1\n",
      "2\n",
      "4\n",
      "0\n"
     ]
    }
   ],
   "source": [
    "# Output Prediction\n",
    "for i in range(1, len(X_test)):\n",
    "    pred = model.predict(X_test)[i]\n",
    "    print(np.argmax(pred))"
   ]
  },
  {
   "cell_type": "code",
   "execution_count": 197,
   "metadata": {},
   "outputs": [
    {
     "data": {
      "text/html": [
       "<div>\n",
       "<style scoped>\n",
       "    .dataframe tbody tr th:only-of-type {\n",
       "        vertical-align: middle;\n",
       "    }\n",
       "\n",
       "    .dataframe tbody tr th {\n",
       "        vertical-align: top;\n",
       "    }\n",
       "\n",
       "    .dataframe thead th {\n",
       "        text-align: right;\n",
       "    }\n",
       "</style>\n",
       "<table border=\"1\" class=\"dataframe\">\n",
       "  <thead>\n",
       "    <tr style=\"text-align: right;\">\n",
       "      <th></th>\n",
       "      <th>base_color_male</th>\n",
       "      <th>with_white_male</th>\n",
       "      <th>base_color_female</th>\n",
       "      <th>with_white_female</th>\n",
       "    </tr>\n",
       "  </thead>\n",
       "  <tbody>\n",
       "    <tr>\n",
       "      <th>86</th>\n",
       "      <td>2</td>\n",
       "      <td>1</td>\n",
       "      <td>0</td>\n",
       "      <td>0</td>\n",
       "    </tr>\n",
       "    <tr>\n",
       "      <th>113</th>\n",
       "      <td>3</td>\n",
       "      <td>1</td>\n",
       "      <td>5</td>\n",
       "      <td>1</td>\n",
       "    </tr>\n",
       "    <tr>\n",
       "      <th>127</th>\n",
       "      <td>3</td>\n",
       "      <td>0</td>\n",
       "      <td>5</td>\n",
       "      <td>1</td>\n",
       "    </tr>\n",
       "    <tr>\n",
       "      <th>50</th>\n",
       "      <td>1</td>\n",
       "      <td>1</td>\n",
       "      <td>2</td>\n",
       "      <td>1</td>\n",
       "    </tr>\n",
       "    <tr>\n",
       "      <th>54</th>\n",
       "      <td>1</td>\n",
       "      <td>1</td>\n",
       "      <td>5</td>\n",
       "      <td>1</td>\n",
       "    </tr>\n",
       "  </tbody>\n",
       "</table>\n",
       "</div>"
      ],
      "text/plain": [
       "     base_color_male  with_white_male  base_color_female  with_white_female\n",
       "86                 2                1                  0                  0\n",
       "113                3                1                  5                  1\n",
       "127                3                0                  5                  1\n",
       "50                 1                1                  2                  1\n",
       "54                 1                1                  5                  1"
      ]
     },
     "execution_count": 197,
     "metadata": {},
     "output_type": "execute_result"
    }
   ],
   "source": [
    "# Grab the first five data from the training dataset\n",
    "X_train[:5]"
   ]
  },
  {
   "cell_type": "code",
   "execution_count": 198,
   "metadata": {},
   "outputs": [
    {
     "data": {
      "text/plain": [
       "array(['black', 'gray', 'orange', 'silver', 'black tortie', 'gray tortie'],\n",
       "      dtype=object)"
      ]
     },
     "execution_count": 198,
     "metadata": {},
     "output_type": "execute_result"
    }
   ],
   "source": [
    "# y_train[:2]\n",
    "class_labels = df['prediction_color'].unique()\n",
    "class_labels"
   ]
  },
  {
   "cell_type": "markdown",
   "metadata": {},
   "source": [
    "### Example\n",
    "\n",
    "#### Lets predict the data below \n",
    "* base_color_male = <strong>black</strong>\n",
    "* with_white_male = <strong>false</strong> (has no white color)\n",
    "\n",
    "* base_color_female =<strong> gray tortie</strong>\n",
    "* with_white_female = <strong>true</strong> (has white color on it)\n",
    "\n",
    "if we were to predict above data,\n",
    "then we will have to pass each value in the form of numerical  representation (see reference above)\n",
    "\n",
    "[black, false, gray_tortie,  true]\n",
    "\n",
    "=== after converted to numerical ===\n",
    "[1, 0, 5, 1]"
   ]
  },
  {
   "cell_type": "code",
   "execution_count": 199,
   "metadata": {},
   "outputs": [
    {
     "data": {
      "text/plain": [
       "'gray'"
      ]
     },
     "execution_count": 199,
     "metadata": {},
     "output_type": "execute_result"
    }
   ],
   "source": [
    "class_labels[np.argmax(model.predict([[2.0,0.0,5.0,1.0]]))]"
   ]
  },
  {
   "cell_type": "code",
   "execution_count": 172,
   "metadata": {},
   "outputs": [
    {
     "name": "stdout",
     "output_type": "stream",
     "text": [
      "Model: \"sequential_3\"\n",
      "_________________________________________________________________\n",
      " Layer (type)                Output Shape              Param #   \n",
      "=================================================================\n",
      " dense_12 (Dense)            (None, 32)                160       \n",
      "                                                                 \n",
      " dense_13 (Dense)            (None, 64)                2112      \n",
      "                                                                 \n",
      " dense_14 (Dense)            (None, 132)               8580      \n",
      "                                                                 \n",
      " dense_15 (Dense)            (None, 6)                 798       \n",
      "                                                                 \n",
      "=================================================================\n",
      "Total params: 11,650\n",
      "Trainable params: 11,650\n",
      "Non-trainable params: 0\n",
      "_________________________________________________________________\n"
     ]
    }
   ],
   "source": [
    "model.summary()"
   ]
  },
  {
   "cell_type": "code",
   "execution_count": 200,
   "metadata": {},
   "outputs": [
    {
     "name": "stdout",
     "output_type": "stream",
     "text": [
      "INFO:tensorflow:Assets written to: female_class_color_predict_model_v4\\assets\n"
     ]
    },
    {
     "name": "stderr",
     "output_type": "stream",
     "text": [
      "INFO:tensorflow:Assets written to: female_class_color_predict_model_v4\\assets\n"
     ]
    }
   ],
   "source": [
    "model.save('female_class_color_predict_model_v4')"
   ]
  },
  {
   "cell_type": "code",
   "execution_count": 201,
   "metadata": {},
   "outputs": [],
   "source": [
    "# Select mode of optimization\n",
    "mode = \"Speed\" \n",
    "\n",
    "if mode == 'Storage':\n",
    "    optimization = tf.lite.Optimize.OPTIMIZE_FOR_SIZE\n",
    "elif mode == 'Speed':\n",
    "    optimization = tf.lite.Optimize.OPTIMIZE_FOR_LATENCY\n",
    "else:\n",
    "    optimization = tf.lite.Optimize.DEFAULT"
   ]
  },
  {
   "cell_type": "code",
   "execution_count": 202,
   "metadata": {},
   "outputs": [
    {
     "name": "stdout",
     "output_type": "stream",
     "text": [
      "INFO:tensorflow:Assets written to: female_class_color_predict_model_v4\\assets\n"
     ]
    },
    {
     "name": "stderr",
     "output_type": "stream",
     "text": [
      "INFO:tensorflow:Assets written to: female_class_color_predict_model_v4\\assets\n"
     ]
    }
   ],
   "source": [
    "# export_dir = 'model_female_color_1'\n",
    "tf.saved_model.save(model, 'female_class_color_predict_model_v4')"
   ]
  },
  {
   "cell_type": "code",
   "execution_count": 203,
   "metadata": {},
   "outputs": [
    {
     "name": "stderr",
     "output_type": "stream",
     "text": [
      "WARNING:absl:Optimization option OPTIMIZE_FOR_LATENCY is deprecated, please use optimizations=[Optimize.DEFAULT] instead.\n",
      "WARNING:absl:Optimization option OPTIMIZE_FOR_LATENCY is deprecated, please use optimizations=[Optimize.DEFAULT] instead.\n",
      "WARNING:absl:Optimization option OPTIMIZE_FOR_LATENCY is deprecated, please use optimizations=[Optimize.DEFAULT] instead.\n",
      "WARNING:absl:Buffer deduplication procedure will be skipped when flatbuffer library is not properly loaded\n"
     ]
    }
   ],
   "source": [
    "\n",
    "converter = tf.lite.TFLiteConverter.from_saved_model('female_class_color_predict_model_v4')\n",
    "\n",
    "# Set the optimzations\n",
    "converter.optimizations = [optimization]\n",
    "\n",
    "\n",
    "# Invoke the converter to finally generate the TFLite model\n",
    "tflite_model = converter.convert()\n",
    "\n",
    "# converter.optimizations = [tf.lite.Optimize.OPTIMIZE_FOR_SIZE]\n",
    "# converter.target_spec.supported_ops = [tf.lite.OpsSet.TFLITE_BUILTINS, tf.lite.OpsSet.SELECT_TF_OPS]\n",
    "# converter.allow_custom_ops=True\n",
    "# tflite_model = converter.convert()"
   ]
  },
  {
   "cell_type": "code",
   "execution_count": 145,
   "metadata": {},
   "outputs": [
    {
     "data": {
      "text/plain": [
       "17840"
      ]
     },
     "execution_count": 145,
     "metadata": {},
     "output_type": "execute_result"
    }
   ],
   "source": [
    "tflite_model_file = pathlib.Path('model_pedigree_female_3.tflite')\n",
    "tflite_model_file.write_bytes(tflite_model)"
   ]
  },
  {
   "cell_type": "code",
   "execution_count": 146,
   "metadata": {},
   "outputs": [
    {
     "ename": "RuntimeError",
     "evalue": "Encountered unresolved custom op: Cast.\nSee instructions: https://www.tensorflow.org/lite/guide/ops_customNode number 0 (Cast) failed to prepare.Encountered unresolved custom op: Cast.\nSee instructions: https://www.tensorflow.org/lite/guide/ops_customNode number 0 (Cast) failed to prepare.",
     "output_type": "error",
     "traceback": [
      "\u001b[1;31m---------------------------------------------------------------------------\u001b[0m",
      "\u001b[1;31mRuntimeError\u001b[0m                              Traceback (most recent call last)",
      "\u001b[1;32mC:\\Users\\WINDOW~1\\AppData\\Local\\Temp/ipykernel_11488/1686646447.py\u001b[0m in \u001b[0;36m<module>\u001b[1;34m\u001b[0m\n\u001b[0;32m      1\u001b[0m \u001b[0minterpreter\u001b[0m \u001b[1;33m=\u001b[0m \u001b[0mtf\u001b[0m\u001b[1;33m.\u001b[0m\u001b[0mlite\u001b[0m\u001b[1;33m.\u001b[0m\u001b[0mInterpreter\u001b[0m\u001b[1;33m(\u001b[0m\u001b[0mmodel_content\u001b[0m\u001b[1;33m=\u001b[0m\u001b[0mtflite_model\u001b[0m\u001b[1;33m)\u001b[0m\u001b[1;33m\u001b[0m\u001b[1;33m\u001b[0m\u001b[0m\n\u001b[1;32m----> 2\u001b[1;33m \u001b[0minterpreter\u001b[0m\u001b[1;33m.\u001b[0m\u001b[0mallocate_tensors\u001b[0m\u001b[1;33m(\u001b[0m\u001b[1;33m)\u001b[0m\u001b[1;33m\u001b[0m\u001b[1;33m\u001b[0m\u001b[0m\n\u001b[0m",
      "\u001b[1;32mC:\\Anaconda3\\lib\\site-packages\\tensorflow\\lite\\python\\interpreter.py\u001b[0m in \u001b[0;36mallocate_tensors\u001b[1;34m(self)\u001b[0m\n\u001b[0;32m    512\u001b[0m   \u001b[1;32mdef\u001b[0m \u001b[0mallocate_tensors\u001b[0m\u001b[1;33m(\u001b[0m\u001b[0mself\u001b[0m\u001b[1;33m)\u001b[0m\u001b[1;33m:\u001b[0m\u001b[1;33m\u001b[0m\u001b[1;33m\u001b[0m\u001b[0m\n\u001b[0;32m    513\u001b[0m     \u001b[0mself\u001b[0m\u001b[1;33m.\u001b[0m\u001b[0m_ensure_safe\u001b[0m\u001b[1;33m(\u001b[0m\u001b[1;33m)\u001b[0m\u001b[1;33m\u001b[0m\u001b[1;33m\u001b[0m\u001b[0m\n\u001b[1;32m--> 514\u001b[1;33m     \u001b[1;32mreturn\u001b[0m \u001b[0mself\u001b[0m\u001b[1;33m.\u001b[0m\u001b[0m_interpreter\u001b[0m\u001b[1;33m.\u001b[0m\u001b[0mAllocateTensors\u001b[0m\u001b[1;33m(\u001b[0m\u001b[1;33m)\u001b[0m\u001b[1;33m\u001b[0m\u001b[1;33m\u001b[0m\u001b[0m\n\u001b[0m\u001b[0;32m    515\u001b[0m \u001b[1;33m\u001b[0m\u001b[0m\n\u001b[0;32m    516\u001b[0m   \u001b[1;32mdef\u001b[0m \u001b[0m_safe_to_run\u001b[0m\u001b[1;33m(\u001b[0m\u001b[0mself\u001b[0m\u001b[1;33m)\u001b[0m\u001b[1;33m:\u001b[0m\u001b[1;33m\u001b[0m\u001b[1;33m\u001b[0m\u001b[0m\n",
      "\u001b[1;31mRuntimeError\u001b[0m: Encountered unresolved custom op: Cast.\nSee instructions: https://www.tensorflow.org/lite/guide/ops_customNode number 0 (Cast) failed to prepare.Encountered unresolved custom op: Cast.\nSee instructions: https://www.tensorflow.org/lite/guide/ops_customNode number 0 (Cast) failed to prepare."
     ]
    }
   ],
   "source": [
    "interpreter = tf.lite.Interpreter(model_content=tflite_model)\n",
    "interpreter.allocate_tensors()"
   ]
  },
  {
   "cell_type": "code",
   "execution_count": 131,
   "metadata": {},
   "outputs": [],
   "source": [
    "with open('labels_pedigree.txt', 'w') as f:\n",
    "    for label in class_labels:\n",
    "        f.writelines(f'{label}\\n')"
   ]
  },
  {
   "cell_type": "code",
   "execution_count": null,
   "metadata": {},
   "outputs": [],
   "source": []
  }
 ],
 "metadata": {
  "kernelspec": {
   "display_name": "Python 3 (ipykernel)",
   "language": "python",
   "name": "python3"
  },
  "language_info": {
   "codemirror_mode": {
    "name": "ipython",
    "version": 3
   },
   "file_extension": ".py",
   "mimetype": "text/x-python",
   "name": "python",
   "nbconvert_exporter": "python",
   "pygments_lexer": "ipython3",
   "version": "3.9.7"
  }
 },
 "nbformat": 4,
 "nbformat_minor": 1
}
