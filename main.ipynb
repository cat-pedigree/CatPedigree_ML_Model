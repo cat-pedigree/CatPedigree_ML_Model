{
 "cells": [
  {
   "cell_type": "code",
   "execution_count": 19,
   "id": "13bb1dbb",
   "metadata": {},
   "outputs": [],
   "source": [
    "import tensorflow as tf\n",
    "import tensorflow_hub as hub\n",
    "from tensorflow.keras.preprocessing.image import ImageDataGenerator\n",
    "\n",
    "import numpy as np\n",
    "import matplotlib.pyplot as plt\n",
    "import pathlib\n",
    "from tensorflow import keras"
   ]
  },
  {
   "cell_type": "code",
   "execution_count": 5,
   "id": "4e8a51b2",
   "metadata": {},
   "outputs": [],
   "source": [
    "def train_val_generators(TRAINING_DIR, TESTING_DIR):\n",
    "    train_datagen = ImageDataGenerator(rescale=1./255,\n",
    "                                      rotation_range=40,\n",
    "                                      width_shift_range=0.2,\n",
    "                                      height_shift_range=0.2,\n",
    "                                      shear_range=0.2,\n",
    "                                       zoom_range=0.2,\n",
    "                                       horizontal_flip=True,\n",
    "                                       fill_mode='nearest'\n",
    "                                      )\n",
    "    train_generator = train_datagen.flow_from_directory(directory=TRAINING_DIR,\n",
    "                                                       batch_size=15,\n",
    "                                                       class_mode='categorical',\n",
    "                                                       target_size=(150,150))\n",
    "    \n",
    "    validation_datagen = ImageDataGenerator(rescale=1./255,\n",
    "                                      rotation_range=40,\n",
    "                                      width_shift_range=0.2,\n",
    "                                      height_shift_range=0.2,\n",
    "                                      shear_range=0.2,\n",
    "                                       zoom_range=0.2,\n",
    "                                       horizontal_flip=True,\n",
    "                                       fill_mode='nearest')\n",
    "    validation_generator = validation_datagen.flow_from_directory(directory=TESTING_DIR,\n",
    "                                                                 batch_size=5,\n",
    "                                                                 class_mode='categorical',\n",
    "                                                                 target_size=(150, 150))\n",
    "    \n",
    "    return train_generator, validation_generator"
   ]
  },
  {
   "cell_type": "code",
   "execution_count": 6,
   "id": "191bf38d",
   "metadata": {},
   "outputs": [
    {
     "name": "stdout",
     "output_type": "stream",
     "text": [
      "Found 108283 images belonging to 55 classes.\n",
      "Found 12057 images belonging to 55 classes.\n"
     ]
    }
   ],
   "source": [
    "TRAINING_DIR = \"../DATACATPEDIGREE/training/\"\n",
    "TESTING_DIR = \"../DATACATPEDIGREE/testing/\"\n",
    "train_generator, validation_generator = train_val_generators(TRAINING_DIR, TESTING_DIR)"
   ]
  },
  {
   "cell_type": "code",
   "execution_count": 12,
   "id": "3ec2ea3e",
   "metadata": {},
   "outputs": [
    {
     "name": "stdout",
     "output_type": "stream",
     "text": [
      "Model: \"sequential_1\"\n",
      "_________________________________________________________________\n",
      " Layer (type)                Output Shape              Param #   \n",
      "=================================================================\n",
      " conv2d_4 (Conv2D)           (None, 148, 148, 64)      1792      \n",
      "                                                                 \n",
      " max_pooling2d_4 (MaxPooling  (None, 74, 74, 64)       0         \n",
      " 2D)                                                             \n",
      "                                                                 \n",
      " conv2d_5 (Conv2D)           (None, 72, 72, 64)        36928     \n",
      "                                                                 \n",
      " max_pooling2d_5 (MaxPooling  (None, 36, 36, 64)       0         \n",
      " 2D)                                                             \n",
      "                                                                 \n",
      " conv2d_6 (Conv2D)           (None, 34, 34, 128)       73856     \n",
      "                                                                 \n",
      " max_pooling2d_6 (MaxPooling  (None, 17, 17, 128)      0         \n",
      " 2D)                                                             \n",
      "                                                                 \n",
      " conv2d_7 (Conv2D)           (None, 15, 15, 128)       147584    \n",
      "                                                                 \n",
      " max_pooling2d_7 (MaxPooling  (None, 7, 7, 128)        0         \n",
      " 2D)                                                             \n",
      "                                                                 \n",
      " flatten_1 (Flatten)         (None, 6272)              0         \n",
      "                                                                 \n",
      " dropout_1 (Dropout)         (None, 6272)              0         \n",
      "                                                                 \n",
      " dense_2 (Dense)             (None, 512)               3211776   \n",
      "                                                                 \n",
      " dense_3 (Dense)             (None, 55)                28215     \n",
      "                                                                 \n",
      "=================================================================\n",
      "Total params: 3,500,151\n",
      "Trainable params: 3,500,151\n",
      "Non-trainable params: 0\n",
      "_________________________________________________________________\n"
     ]
    }
   ],
   "source": [
    "import tensorflow as tf\n",
    "\n",
    "model = tf.keras.models.Sequential([\n",
    "    # Note the input shape is the desired size of the image 150x150 with 3 bytes color\n",
    "    # This is the first convolution\n",
    "    tf.keras.layers.Conv2D(64, (3,3), activation='relu', input_shape=(150, 150, 3)),\n",
    "    tf.keras.layers.MaxPooling2D(2, 2),\n",
    "    # The second convolution\n",
    "    tf.keras.layers.Conv2D(64, (3,3), activation='relu'),\n",
    "    tf.keras.layers.MaxPooling2D(2,2),\n",
    "    # The third convolution\n",
    "    tf.keras.layers.Conv2D(128, (3,3), activation='relu'),\n",
    "    tf.keras.layers.MaxPooling2D(2,2),\n",
    "    # The fourth convolution\n",
    "    tf.keras.layers.Conv2D(128, (3,3), activation='relu'),\n",
    "    tf.keras.layers.MaxPooling2D(2,2),\n",
    "    # Flatten the results to feed into a DNN\n",
    "    tf.keras.layers.Flatten(),\n",
    "    tf.keras.layers.Dropout(0.5),\n",
    "    # 512 neuron hidden layer\n",
    "    tf.keras.layers.Dense(512, activation='relu'),\n",
    "    tf.keras.layers.Dense(55, activation='softmax')\n",
    "])\n",
    "\n",
    "# Print the model summary\n",
    "model.summary()"
   ]
  },
  {
   "cell_type": "code",
   "execution_count": 13,
   "id": "f3183fb9",
   "metadata": {},
   "outputs": [],
   "source": [
    "# Set the training parameters\n",
    "model.compile(loss = 'categorical_crossentropy', optimizer='adam', metrics=['accuracy'])"
   ]
  },
  {
   "cell_type": "code",
   "execution_count": 14,
   "id": "5c7edf40",
   "metadata": {},
   "outputs": [
    {
     "name": "stdout",
     "output_type": "stream",
     "text": [
      "Epoch 1/25\n",
      "20/20 [==============================] - 32s 2s/step - loss: 3.0919 - accuracy: 0.4167 - val_loss: 2.6649 - val_accuracy: 0.6000\n",
      "Epoch 2/25\n",
      "20/20 [==============================] - 25s 1s/step - loss: 2.9107 - accuracy: 0.4400 - val_loss: 3.0425 - val_accuracy: 0.3333\n",
      "Epoch 3/25\n",
      "20/20 [==============================] - 23s 1s/step - loss: 2.8268 - accuracy: 0.4100 - val_loss: 2.8633 - val_accuracy: 0.4000\n",
      "Epoch 4/25\n",
      "20/20 [==============================] - 20s 997ms/step - loss: 2.6891 - accuracy: 0.4400 - val_loss: 2.8114 - val_accuracy: 0.4000\n",
      "Epoch 5/25\n",
      "20/20 [==============================] - 17s 841ms/step - loss: 2.6560 - accuracy: 0.4767 - val_loss: 2.4369 - val_accuracy: 0.4667\n",
      "Epoch 6/25\n",
      "20/20 [==============================] - 17s 859ms/step - loss: 2.7436 - accuracy: 0.4200 - val_loss: 2.7227 - val_accuracy: 0.4667\n",
      "Epoch 7/25\n",
      "20/20 [==============================] - 18s 871ms/step - loss: 2.8907 - accuracy: 0.3867 - val_loss: 1.7674 - val_accuracy: 0.6667\n",
      "Epoch 8/25\n",
      "20/20 [==============================] - 19s 938ms/step - loss: 2.5081 - accuracy: 0.4700 - val_loss: 2.4237 - val_accuracy: 0.5333\n",
      "Epoch 9/25\n",
      "20/20 [==============================] - 18s 913ms/step - loss: 2.7426 - accuracy: 0.4067 - val_loss: 2.3578 - val_accuracy: 0.5333\n",
      "Epoch 10/25\n",
      "20/20 [==============================] - 20s 978ms/step - loss: 2.7046 - accuracy: 0.4100 - val_loss: 2.4196 - val_accuracy: 0.4667\n",
      "Epoch 11/25\n",
      "20/20 [==============================] - 19s 950ms/step - loss: 2.8026 - accuracy: 0.4033 - val_loss: 3.3504 - val_accuracy: 0.3333\n",
      "Epoch 12/25\n",
      "20/20 [==============================] - 18s 899ms/step - loss: 2.6857 - accuracy: 0.4233 - val_loss: 2.4399 - val_accuracy: 0.5333\n",
      "Epoch 13/25\n",
      "20/20 [==============================] - 18s 888ms/step - loss: 2.7031 - accuracy: 0.4133 - val_loss: 2.5346 - val_accuracy: 0.4667\n",
      "Epoch 14/25\n",
      "20/20 [==============================] - 19s 952ms/step - loss: 2.6971 - accuracy: 0.4200 - val_loss: 2.7763 - val_accuracy: 0.4000\n",
      "Epoch 15/25\n",
      "20/20 [==============================] - 20s 962ms/step - loss: 2.7325 - accuracy: 0.4033 - val_loss: 2.0600 - val_accuracy: 0.5333\n",
      "Epoch 16/25\n",
      "20/20 [==============================] - 18s 867ms/step - loss: 2.5033 - accuracy: 0.4800 - val_loss: 2.0805 - val_accuracy: 0.6000\n",
      "Epoch 17/25\n",
      "20/20 [==============================] - 18s 881ms/step - loss: 2.6267 - accuracy: 0.4433 - val_loss: 3.1027 - val_accuracy: 0.2667\n",
      "Epoch 18/25\n",
      "20/20 [==============================] - 29s 1s/step - loss: 2.5607 - accuracy: 0.4400 - val_loss: 2.8855 - val_accuracy: 0.3333\n",
      "Epoch 19/25\n",
      "20/20 [==============================] - 20s 932ms/step - loss: 2.6382 - accuracy: 0.4400 - val_loss: 2.4510 - val_accuracy: 0.4000\n",
      "Epoch 20/25\n",
      "20/20 [==============================] - 18s 887ms/step - loss: 2.5053 - accuracy: 0.4733 - val_loss: 2.6594 - val_accuracy: 0.4000\n",
      "Epoch 21/25\n",
      "20/20 [==============================] - 22s 1s/step - loss: 2.6241 - accuracy: 0.4467 - val_loss: 2.3415 - val_accuracy: 0.4667\n",
      "Epoch 22/25\n",
      "20/20 [==============================] - 18s 891ms/step - loss: 2.7529 - accuracy: 0.3967 - val_loss: 2.6736 - val_accuracy: 0.4667\n",
      "Epoch 23/25\n",
      "20/20 [==============================] - 22s 1s/step - loss: 2.7619 - accuracy: 0.4167 - val_loss: 2.9681 - val_accuracy: 0.4000\n",
      "Epoch 24/25\n",
      "20/20 [==============================] - 18s 882ms/step - loss: 2.5929 - accuracy: 0.4467 - val_loss: 2.8853 - val_accuracy: 0.3333\n",
      "Epoch 25/25\n",
      "20/20 [==============================] - 19s 915ms/step - loss: 2.6016 - accuracy: 0.4467 - val_loss: 3.2533 - val_accuracy: 0.2000\n"
     ]
    }
   ],
   "source": [
    "# Train the model\n",
    "history = model.fit(train_generator, epochs=25, steps_per_epoch=20, validation_data = validation_generator,  validation_steps=3)"
   ]
  },
  {
   "cell_type": "code",
   "execution_count": 15,
   "id": "ae4b20e8",
   "metadata": {},
   "outputs": [],
   "source": [
    "# Select mode of optimization\n",
    "mode = \"Speed\" \n",
    "\n",
    "if mode == 'Storage':\n",
    "    optimization = tf.lite.Optimize.OPTIMIZE_FOR_SIZE\n",
    "elif mode == 'Speed':\n",
    "    optimization = tf.lite.Optimize.OPTIMIZE_FOR_LATENCY\n",
    "else:\n",
    "    optimization = tf.lite.Optimize.DEFAULT"
   ]
  },
  {
   "cell_type": "code",
   "execution_count": 16,
   "id": "b3b0fa89",
   "metadata": {},
   "outputs": [
    {
     "name": "stdout",
     "output_type": "stream",
     "text": [
      "INFO:tensorflow:Assets written to: model_1\\assets\n"
     ]
    }
   ],
   "source": [
    "export_dir = 'model_1'\n",
    "tf.saved_model.save(model, export_dir)"
   ]
  },
  {
   "cell_type": "code",
   "execution_count": 17,
   "id": "00bcf47e",
   "metadata": {},
   "outputs": [
    {
     "name": "stderr",
     "output_type": "stream",
     "text": [
      "WARNING:absl:Optimization option OPTIMIZE_FOR_LATENCY is deprecated, please use optimizations=[Optimize.DEFAULT] instead.\n",
      "WARNING:absl:Optimization option OPTIMIZE_FOR_LATENCY is deprecated, please use optimizations=[Optimize.DEFAULT] instead.\n",
      "WARNING:absl:Optimization option OPTIMIZE_FOR_LATENCY is deprecated, please use optimizations=[Optimize.DEFAULT] instead.\n",
      "WARNING:absl:Buffer deduplication procedure will be skipped when flatbuffer library is not properly loaded\n"
     ]
    }
   ],
   "source": [
    "\n",
    "converter = tf.lite.TFLiteConverter.from_saved_model(export_dir)\n",
    "\n",
    "# Set the optimzations\n",
    "converter.optimizations = [optimization]\n",
    "\n",
    "# Invoke the converter to finally generate the TFLite model\n",
    "tflite_model = converter.convert()"
   ]
  },
  {
   "cell_type": "code",
   "execution_count": 20,
   "id": "b2e26c47",
   "metadata": {},
   "outputs": [
    {
     "data": {
      "text/plain": [
       "3515552"
      ]
     },
     "execution_count": 20,
     "metadata": {},
     "output_type": "execute_result"
    }
   ],
   "source": [
    "tflite_model_file = pathlib.Path('model_1.tflite')\n",
    "tflite_model_file.write_bytes(tflite_model)"
   ]
  },
  {
   "cell_type": "code",
   "execution_count": 22,
   "id": "a75814f9",
   "metadata": {},
   "outputs": [
    {
     "data": {
      "text/plain": [
       "25"
      ]
     },
     "execution_count": 22,
     "metadata": {},
     "output_type": "execute_result"
    }
   ],
   "source": [
    "interpreter = tf.lite.Interpreter(model_content=tflite_model)\n",
    "interpreter.allocate_tensors()\n",
    "\n"
   ]
  },
  {
   "cell_type": "code",
   "execution_count": 27,
   "id": "3d92a9e4",
   "metadata": {},
   "outputs": [],
   "source": [
    "import os\n",
    "\n",
    "with open('labels.txt', 'w') as f:\n",
    "    for label in os.listdir('../DATACATPEDIGREE/training/'):\n",
    "        f.writelines(f'{label}\\n')"
   ]
  },
  {
   "cell_type": "code",
   "execution_count": null,
   "id": "932d554f",
   "metadata": {},
   "outputs": [],
   "source": []
  }
 ],
 "metadata": {
  "kernelspec": {
   "display_name": "Python 3 (ipykernel)",
   "language": "python",
   "name": "python3"
  },
  "language_info": {
   "codemirror_mode": {
    "name": "ipython",
    "version": 3
   },
   "file_extension": ".py",
   "mimetype": "text/x-python",
   "name": "python",
   "nbconvert_exporter": "python",
   "pygments_lexer": "ipython3",
   "version": "3.9.7"
  }
 },
 "nbformat": 4,
 "nbformat_minor": 5
}
