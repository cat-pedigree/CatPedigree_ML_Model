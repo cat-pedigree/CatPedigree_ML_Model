{
 "cells": [
  {
   "cell_type": "code",
   "execution_count": 1,
   "id": "13bb1dbb",
   "metadata": {},
   "outputs": [],
   "source": [
    "import tensorflow as tf\n",
    "import tensorflow_hub as hub\n",
    "from tensorflow.keras.preprocessing.image import ImageDataGenerator\n",
    "\n",
    "import numpy as np\n",
    "import matplotlib.pyplot as plt\n",
    "import pathlib\n",
    "from tensorflow import keras"
   ]
  },
  {
   "cell_type": "code",
   "execution_count": 2,
   "id": "4e8a51b2",
   "metadata": {},
   "outputs": [],
   "source": [
    "def train_val_generators(TRAINING_DIR, TESTING_DIR):\n",
    "    train_datagen = ImageDataGenerator(rescale=1./255,\n",
    "                                      rotation_range=40,\n",
    "                                      width_shift_range=0.2,\n",
    "                                      height_shift_range=0.2,\n",
    "                                      shear_range=0.2,\n",
    "                                       zoom_range=0.2,\n",
    "                                       horizontal_flip=True,\n",
    "                                       fill_mode='nearest'\n",
    "                                      )\n",
    "    train_generator = train_datagen.flow_from_directory(directory=TRAINING_DIR,\n",
    "                                                       batch_size=15,\n",
    "                                                       class_mode='categorical',\n",
    "                                                       target_size=(150,150))\n",
    "    \n",
    "    validation_datagen = ImageDataGenerator(rescale=1./255,\n",
    "                                      rotation_range=40,\n",
    "                                      width_shift_range=0.2,\n",
    "                                      height_shift_range=0.2,\n",
    "                                      shear_range=0.2,\n",
    "                                       zoom_range=0.2,\n",
    "                                       horizontal_flip=True,\n",
    "                                       fill_mode='nearest')\n",
    "    validation_generator = validation_datagen.flow_from_directory(directory=TESTING_DIR,\n",
    "                                                                 batch_size=5,\n",
    "                                                                 class_mode='categorical',\n",
    "                                                                 target_size=(150, 150))\n",
    "    \n",
    "    return train_generator, validation_generator"
   ]
  },
  {
   "cell_type": "code",
   "execution_count": 3,
   "id": "191bf38d",
   "metadata": {},
   "outputs": [
    {
     "name": "stdout",
     "output_type": "stream",
     "text": [
      "Found 108283 images belonging to 55 classes.\n",
      "Found 12057 images belonging to 55 classes.\n"
     ]
    }
   ],
   "source": [
    "TRAINING_DIR = \"../DATACATPEDIGREE/training/\"\n",
    "TESTING_DIR = \"../DATACATPEDIGREE/testing/\"\n",
    "train_generator, validation_generator = train_val_generators(TRAINING_DIR, TESTING_DIR)"
   ]
  },
  {
   "cell_type": "code",
   "execution_count": 8,
   "id": "3ec2ea3e",
   "metadata": {},
   "outputs": [
    {
     "name": "stdout",
     "output_type": "stream",
     "text": [
      "Model: \"sequential_1\"\n",
      "_________________________________________________________________\n",
      " Layer (type)                Output Shape              Param #   \n",
      "=================================================================\n",
      " conv2d_4 (Conv2D)           (None, 148, 148, 64)      1792      \n",
      "                                                                 \n",
      " max_pooling2d_4 (MaxPooling  (None, 74, 74, 64)       0         \n",
      " 2D)                                                             \n",
      "                                                                 \n",
      " conv2d_5 (Conv2D)           (None, 72, 72, 64)        36928     \n",
      "                                                                 \n",
      " max_pooling2d_5 (MaxPooling  (None, 36, 36, 64)       0         \n",
      " 2D)                                                             \n",
      "                                                                 \n",
      " conv2d_6 (Conv2D)           (None, 34, 34, 128)       73856     \n",
      "                                                                 \n",
      " max_pooling2d_6 (MaxPooling  (None, 17, 17, 128)      0         \n",
      " 2D)                                                             \n",
      "                                                                 \n",
      " conv2d_7 (Conv2D)           (None, 15, 15, 128)       147584    \n",
      "                                                                 \n",
      " max_pooling2d_7 (MaxPooling  (None, 7, 7, 128)        0         \n",
      " 2D)                                                             \n",
      "                                                                 \n",
      " flatten_1 (Flatten)         (None, 6272)              0         \n",
      "                                                                 \n",
      " dropout_1 (Dropout)         (None, 6272)              0         \n",
      "                                                                 \n",
      " dense_2 (Dense)             (None, 512)               3211776   \n",
      "                                                                 \n",
      " dense_3 (Dense)             (None, 55)                28215     \n",
      "                                                                 \n",
      "=================================================================\n",
      "Total params: 3,500,151\n",
      "Trainable params: 3,500,151\n",
      "Non-trainable params: 0\n",
      "_________________________________________________________________\n"
     ]
    }
   ],
   "source": [
    "import tensorflow as tf\n",
    "\n",
    "model = tf.keras.models.Sequential([\n",
    "    # Note the input shape is the desired size of the image 150x150 with 3 bytes color\n",
    "    # This is the first convolution\n",
    "    tf.keras.layers.Conv2D(64, (3,3), activation='relu', input_shape=(150, 150, 3)),\n",
    "    tf.keras.layers.MaxPooling2D(2, 2),\n",
    "    # The second convolution\n",
    "    tf.keras.layers.Conv2D(64, (3,3), activation='relu'),\n",
    "    tf.keras.layers.MaxPooling2D(2,2),\n",
    "    # The third convolution\n",
    "    tf.keras.layers.Conv2D(128, (3,3), activation='relu'),\n",
    "    tf.keras.layers.MaxPooling2D(2,2),\n",
    "    # The fourth convolution\n",
    "    tf.keras.layers.Conv2D(128, (3,3), activation='relu'),\n",
    "    tf.keras.layers.MaxPooling2D(2,2),\n",
    "    # Flatten the results to feed into a DNN\n",
    "    tf.keras.layers.Flatten(),\n",
    "    tf.keras.layers.Dropout(0.5),\n",
    "    # 512 neuron hidden layer\n",
    "    tf.keras.layers.Dense(512, activation='relu'),\n",
    "    tf.keras.layers.Dense(55, activation='softmax')\n",
    "])\n",
    "\n",
    "# Print the model summary\n",
    "model.summary()"
   ]
  },
  {
   "cell_type": "code",
   "execution_count": 5,
   "id": "f3183fb9",
   "metadata": {},
   "outputs": [],
   "source": [
    "# Set the training parameters\n",
    "model.compile(loss = 'sparse_categorical_crossentropy', optimizer=tf.keras.optimizers.Adam(learning_rate=0.001), metrics=['accuracy'])"
   ]
  },
  {
   "cell_type": "code",
   "execution_count": 7,
   "id": "5c7edf40",
   "metadata": {},
   "outputs": [
    {
     "name": "stdout",
     "output_type": "stream",
     "text": [
      "Epoch 1/25\n",
      "20/20 [==============================] - 18s 873ms/step - loss: 2.5803 - accuracy: 0.4367 - val_loss: 2.3991 - val_accuracy: 0.5333\n",
      "Epoch 2/25\n",
      "20/20 [==============================] - 18s 873ms/step - loss: 2.6918 - accuracy: 0.4200 - val_loss: 2.3248 - val_accuracy: 0.4667\n",
      "Epoch 3/25\n",
      "20/20 [==============================] - 18s 874ms/step - loss: 2.4803 - accuracy: 0.4767 - val_loss: 1.7538 - val_accuracy: 0.6667\n",
      "Epoch 4/25\n",
      "20/20 [==============================] - 16s 812ms/step - loss: 2.6294 - accuracy: 0.4467 - val_loss: 2.8798 - val_accuracy: 0.4000\n",
      "Epoch 5/25\n",
      "20/20 [==============================] - 18s 884ms/step - loss: 2.6655 - accuracy: 0.4333 - val_loss: 2.5226 - val_accuracy: 0.4000\n",
      "Epoch 6/25\n",
      "20/20 [==============================] - 17s 849ms/step - loss: 2.5201 - accuracy: 0.4600 - val_loss: 2.0929 - val_accuracy: 0.6000\n",
      "Epoch 7/25\n",
      "20/20 [==============================] - 17s 846ms/step - loss: 2.5458 - accuracy: 0.4567 - val_loss: 3.4995 - val_accuracy: 0.2000\n",
      "Epoch 8/25\n",
      "20/20 [==============================] - 18s 880ms/step - loss: 2.6575 - accuracy: 0.4300 - val_loss: 4.0581 - val_accuracy: 0.2667\n",
      "Epoch 9/25\n",
      "20/20 [==============================] - 16s 808ms/step - loss: 2.6664 - accuracy: 0.4233 - val_loss: 2.1334 - val_accuracy: 0.6000\n",
      "Epoch 10/25\n",
      "20/20 [==============================] - 19s 936ms/step - loss: 2.6216 - accuracy: 0.4467 - val_loss: 2.2416 - val_accuracy: 0.5333\n",
      "Epoch 11/25\n",
      "20/20 [==============================] - 17s 820ms/step - loss: 2.6025 - accuracy: 0.4333 - val_loss: 2.7603 - val_accuracy: 0.3333\n",
      "Epoch 12/25\n",
      "20/20 [==============================] - 17s 830ms/step - loss: 2.6394 - accuracy: 0.4133 - val_loss: 3.3346 - val_accuracy: 0.2667\n",
      "Epoch 13/25\n",
      "20/20 [==============================] - 18s 874ms/step - loss: 2.5751 - accuracy: 0.4300 - val_loss: 2.5569 - val_accuracy: 0.5333\n",
      "Epoch 14/25\n",
      "20/20 [==============================] - 18s 894ms/step - loss: 2.6778 - accuracy: 0.4167 - val_loss: 2.0896 - val_accuracy: 0.5333\n",
      "Epoch 15/25\n",
      "20/20 [==============================] - 16s 761ms/step - loss: 2.5444 - accuracy: 0.4567 - val_loss: 2.7074 - val_accuracy: 0.4000\n",
      "Epoch 16/25\n",
      "20/20 [==============================] - 16s 792ms/step - loss: 2.6687 - accuracy: 0.4267 - val_loss: 2.7321 - val_accuracy: 0.3333\n",
      "Epoch 17/25\n",
      "20/20 [==============================] - 17s 827ms/step - loss: 2.5444 - accuracy: 0.4700 - val_loss: 2.0322 - val_accuracy: 0.6000\n",
      "Epoch 18/25\n",
      "20/20 [==============================] - 17s 832ms/step - loss: 2.5446 - accuracy: 0.4533 - val_loss: 2.5408 - val_accuracy: 0.4000\n",
      "Epoch 19/25\n",
      "20/20 [==============================] - 17s 822ms/step - loss: 2.7270 - accuracy: 0.4133 - val_loss: 1.9453 - val_accuracy: 0.6667\n",
      "Epoch 20/25\n",
      "20/20 [==============================] - 18s 872ms/step - loss: 2.6858 - accuracy: 0.4200 - val_loss: 2.7236 - val_accuracy: 0.3333\n",
      "Epoch 21/25\n",
      "20/20 [==============================] - 18s 890ms/step - loss: 2.6872 - accuracy: 0.4300 - val_loss: 2.0860 - val_accuracy: 0.6000\n",
      "Epoch 22/25\n",
      "20/20 [==============================] - 20s 998ms/step - loss: 2.6273 - accuracy: 0.4267 - val_loss: 2.2865 - val_accuracy: 0.5333\n",
      "Epoch 23/25\n",
      "20/20 [==============================] - 18s 898ms/step - loss: 2.6728 - accuracy: 0.4467 - val_loss: 2.5580 - val_accuracy: 0.4000\n",
      "Epoch 24/25\n",
      "20/20 [==============================] - 17s 848ms/step - loss: 2.6058 - accuracy: 0.4433 - val_loss: 3.0923 - val_accuracy: 0.2667\n",
      "Epoch 25/25\n",
      "20/20 [==============================] - 20s 981ms/step - loss: 2.6239 - accuracy: 0.4400 - val_loss: 3.6414 - val_accuracy: 0.2000\n"
     ]
    }
   ],
   "source": [
    "# Train the model\n",
    "history = model.fit(train_generator, epochs=25, steps_per_epoch=20, validation_data = validation_generator,  validation_steps=3)"
   ]
  },
  {
   "cell_type": "code",
   "execution_count": null,
   "id": "a4502b2a",
   "metadata": {},
   "outputs": [],
   "source": []
  },
  {
   "cell_type": "code",
   "execution_count": 15,
   "id": "ae4b20e8",
   "metadata": {},
   "outputs": [],
   "source": [
    "# Select mode of optimization\n",
    "mode = \"Speed\" \n",
    "\n",
    "if mode == 'Storage':\n",
    "    optimization = tf.lite.Optimize.OPTIMIZE_FOR_SIZE\n",
    "elif mode == 'Speed':\n",
    "    optimization = tf.lite.Optimize.OPTIMIZE_FOR_LATENCY\n",
    "else:\n",
    "    optimization = tf.lite.Optimize.DEFAULT"
   ]
  },
  {
   "cell_type": "code",
   "execution_count": 16,
   "id": "b3b0fa89",
   "metadata": {},
   "outputs": [
    {
     "name": "stdout",
     "output_type": "stream",
     "text": [
      "INFO:tensorflow:Assets written to: model_1\\assets\n"
     ]
    }
   ],
   "source": [
    "export_dir = 'model_1'\n",
    "tf.saved_model.save(model, export_dir)"
   ]
  },
  {
   "cell_type": "code",
   "execution_count": 17,
   "id": "00bcf47e",
   "metadata": {},
   "outputs": [
    {
     "name": "stderr",
     "output_type": "stream",
     "text": [
      "WARNING:absl:Optimization option OPTIMIZE_FOR_LATENCY is deprecated, please use optimizations=[Optimize.DEFAULT] instead.\n",
      "WARNING:absl:Optimization option OPTIMIZE_FOR_LATENCY is deprecated, please use optimizations=[Optimize.DEFAULT] instead.\n",
      "WARNING:absl:Optimization option OPTIMIZE_FOR_LATENCY is deprecated, please use optimizations=[Optimize.DEFAULT] instead.\n",
      "WARNING:absl:Buffer deduplication procedure will be skipped when flatbuffer library is not properly loaded\n"
     ]
    }
   ],
   "source": [
    "\n",
    "converter = tf.lite.TFLiteConverter.from_saved_model(export_dir)\n",
    "\n",
    "# Set the optimzations\n",
    "converter.optimizations = [optimization]\n",
    "\n",
    "# Invoke the converter to finally generate the TFLite model\n",
    "tflite_model = converter.convert()"
   ]
  },
  {
   "cell_type": "code",
   "execution_count": 20,
   "id": "b2e26c47",
   "metadata": {},
   "outputs": [
    {
     "data": {
      "text/plain": [
       "3515552"
      ]
     },
     "execution_count": 20,
     "metadata": {},
     "output_type": "execute_result"
    }
   ],
   "source": [
    "tflite_model_file = pathlib.Path('model_1.tflite')\n",
    "tflite_model_file.write_bytes(tflite_model)"
   ]
  },
  {
   "cell_type": "code",
   "execution_count": 22,
   "id": "a75814f9",
   "metadata": {},
   "outputs": [
    {
     "data": {
      "text/plain": [
       "25"
      ]
     },
     "execution_count": 22,
     "metadata": {},
     "output_type": "execute_result"
    }
   ],
   "source": [
    "interpreter = tf.lite.Interpreter(model_content=tflite_model)\n",
    "interpreter.allocate_tensors()\n",
    "\n"
   ]
  },
  {
   "cell_type": "code",
   "execution_count": 27,
   "id": "3d92a9e4",
   "metadata": {},
   "outputs": [],
   "source": [
    "import os\n",
    "\n",
    "with open('labels.txt', 'w') as f:\n",
    "    for label in os.listdir('../DATACATPEDIGREE/training/'):\n",
    "        f.writelines(f'{label}\\n')"
   ]
  },
  {
   "cell_type": "code",
   "execution_count": null,
   "id": "932d554f",
   "metadata": {},
   "outputs": [],
   "source": []
  }
 ],
 "metadata": {
  "kernelspec": {
   "display_name": "Python 3 (ipykernel)",
   "language": "python",
   "name": "python3"
  },
  "language_info": {
   "codemirror_mode": {
    "name": "ipython",
    "version": 3
   },
   "file_extension": ".py",
   "mimetype": "text/x-python",
   "name": "python",
   "nbconvert_exporter": "python",
   "pygments_lexer": "ipython3",
   "version": "3.9.7"
  }
 },
 "nbformat": 4,
 "nbformat_minor": 5
}
